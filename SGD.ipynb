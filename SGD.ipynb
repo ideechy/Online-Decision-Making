{
 "cells": [
  {
   "cell_type": "code",
   "execution_count": 40,
   "metadata": {
    "ExecuteTime": {
     "end_time": "2019-11-12T02:05:08.479034Z",
     "start_time": "2019-11-12T02:05:08.474034Z"
    }
   },
   "outputs": [],
   "source": [
    "import numpy as np"
   ]
  },
  {
   "cell_type": "code",
   "execution_count": 41,
   "metadata": {
    "ExecuteTime": {
     "end_time": "2019-11-12T02:05:08.929033Z",
     "start_time": "2019-11-12T02:05:08.923003Z"
    }
   },
   "outputs": [],
   "source": [
    "def data_generator(beta, typ):\n",
    "    p = beta.shape[0]\n",
    "    X = np.ones(p)\n",
    "    X[1:] = np.random.normal(0, 1, size = p - 1)\n",
    "    u = X.dot(beta)\n",
    "    if typ == \"Linear\":\n",
    "        return X, u + np.random.normal(0, 0.1, 1)\n",
    "    elif typ == \"Logistic\":\n",
    "        return X, np.random.binomial(1, 1/(1+np.exp(-u)))"
   ]
  },
  {
   "cell_type": "code",
   "execution_count": 42,
   "metadata": {
    "ExecuteTime": {
     "end_time": "2019-11-12T02:05:09.374487Z",
     "start_time": "2019-11-12T02:05:09.371480Z"
    }
   },
   "outputs": [],
   "source": [
    "def loss(beta, data, typ):\n",
    "    X, Y = data\n",
    "    u = X.dot(beta)\n",
    "    if typ == \"Linear\":\n",
    "        return (Y - u)**2/2\n",
    "    elif typ == \"Logistic\":\n",
    "        mu = 1/(1+np.exp(-u))\n",
    "        return -Y * np.log(mu) - (1 - Y) * np.log(1 - mu)"
   ]
  },
  {
   "cell_type": "code",
   "execution_count": 43,
   "metadata": {
    "ExecuteTime": {
     "end_time": "2019-11-12T02:05:09.781160Z",
     "start_time": "2019-11-12T02:05:09.777154Z"
    }
   },
   "outputs": [],
   "source": [
    "def grad(beta, data, typ):\n",
    "    X, Y = data\n",
    "    u = X.dot(beta)\n",
    "    if typ == \"Linear\":\n",
    "        return (u - Y) * X\n",
    "    elif typ == \"Logistic\":\n",
    "        mu = 1/(1+np.exp(-u))\n",
    "        return (mu - Y) * X"
   ]
  },
  {
   "cell_type": "code",
   "execution_count": 58,
   "metadata": {
    "ExecuteTime": {
     "end_time": "2019-11-12T02:09:59.939127Z",
     "start_time": "2019-11-12T02:09:59.933101Z"
    }
   },
   "outputs": [],
   "source": [
    "def second(beta, data, typ):\n",
    "    X, Y = data\n",
    "    u = X.dot(beta)\n",
    "    if typ == \"Linear\":\n",
    "        g = (u - Y) * X\n",
    "        S = np.outer(g, g)\n",
    "        H = np.outer(X, X)\n",
    "        return((S, H))\n",
    "    elif typ == \"Logistic\":\n",
    "        mu = 1/(1+np.exp(-u))\n",
    "        g = (mu - Y) * X\n",
    "        S = np.outer(g, g)\n",
    "        H = np.outer(X * mu * (1 - mu), X)\n",
    "        return((S, H))"
   ]
  },
  {
   "cell_type": "code",
   "execution_count": 66,
   "metadata": {
    "ExecuteTime": {
     "end_time": "2019-11-12T02:15:58.438563Z",
     "start_time": "2019-11-12T02:15:58.429542Z"
    }
   },
   "outputs": [],
   "source": [
    "def sgd(T, beta, beta_true, alpha, gamma, typ):\n",
    "    beta_bar = np.zeros_like(beta)\n",
    "    Sig = 0\n",
    "    Hes = 0\n",
    "    Y = 0\n",
    "    Ysq = 0\n",
    "    for t in range(T):\n",
    "        data = data_generator(beta_true, typ)\n",
    "        Y += data[1]\n",
    "        Ysq += data[1]**2\n",
    "        l = loss(beta, data, typ)\n",
    "        g = grad(beta, data, typ)\n",
    "        S, H = second(beta, data, typ)\n",
    "        Sig += S\n",
    "        Hes += H\n",
    "        beta -= (t + 1) ** (-gamma) * alpha * g\n",
    "        beta_bar *= t/(t + 1)\n",
    "        beta_bar += beta/(t + 1)\n",
    "    Sig /= T\n",
    "    Hes /= T\n",
    "    Y /= T\n",
    "    Ysq /= T\n",
    "    Hes_inv = np.linalg.inv(Hes)\n",
    "    pvar = np.dot(np.dot(Hes_inv, Sig), Hes_inv)\n",
    "    pse = np.sqrt(np.diag(pvar)/T)\n",
    "    vse = np.sqrt((Ysq - Y**2)/T)\n",
    "    return beta_bar, pse, Y, vse"
   ]
  },
  {
   "cell_type": "code",
   "execution_count": 72,
   "metadata": {
    "ExecuteTime": {
     "end_time": "2019-11-12T02:24:12.675686Z",
     "start_time": "2019-11-12T02:24:12.669698Z"
    }
   },
   "outputs": [],
   "source": [
    "def mc(M, T, beta, beta_true, alpha, gamma, typ):\n",
    "    p = beta.shape[0]\n",
    "    beta_log = np.empty((M, p))\n",
    "    pse_log = np.empty((M, p))\n",
    "    Y_log = np.empty(M)\n",
    "    vse_log = np.empty(M)\n",
    "    for m in range(M):\n",
    "        beta_bar, pse, Y, vse = sgd(T, beta, beta_true, alpha, gamma, typ)\n",
    "        beta_log[m, :] = beta_bar\n",
    "        pse_log[m, :] = pse\n",
    "        Y_log[m] = Y\n",
    "        vse_log[m] = vse\n",
    "    return np.mean(pse_log, axis = 0)/np.std(beta_log, axis = 0), np.mean(vse_log)/np.std(Y_log)"
   ]
  },
  {
   "cell_type": "code",
   "execution_count": 76,
   "metadata": {
    "ExecuteTime": {
     "end_time": "2019-11-12T02:27:36.390052Z",
     "start_time": "2019-11-12T02:27:22.000090Z"
    }
   },
   "outputs": [
    {
     "name": "stdout",
     "output_type": "stream",
     "text": [
      "(array([0.97827632, 0.87414142, 0.8846496 ]), 0.9429592545261877)\n",
      "(array([1.16978711, 1.06868078, 1.07280728]), 1.0115496662633467)\n",
      "(array([1.06868286, 0.9914795 , 0.99409808]), 0.9948434306226355)\n"
     ]
    }
   ],
   "source": [
    "for T in [100, 500, 1000]:\n",
    "    print(mc(200, T, np.zeros(3), np.array([0.3, -0.1, 0.7]), 0.5, 0.501, \"Linear\"))"
   ]
  },
  {
   "cell_type": "code",
   "execution_count": 78,
   "metadata": {
    "ExecuteTime": {
     "end_time": "2019-11-12T02:30:11.459457Z",
     "start_time": "2019-11-12T02:29:05.414489Z"
    }
   },
   "outputs": [
    {
     "name": "stdout",
     "output_type": "stream",
     "text": [
      "(array([0.99927028, 1.0236824 , 0.90247199]), 1.0708423137903147)\n",
      "(array([0.92402511, 0.98303095, 0.92732851]), 1.1115664632072142)\n",
      "(array([0.96507403, 1.03374832, 1.01392052]), 0.9343051232878505)\n"
     ]
    }
   ],
   "source": [
    "for T in [500, 1000, 5000]:\n",
    "    print(mc(200, T, np.zeros(3), np.array([0.3, -0.1, 0.7]), 0.5, 0.501, \"Logistic\"))"
   ]
  },
  {
   "cell_type": "code",
   "execution_count": 79,
   "metadata": {
    "ExecuteTime": {
     "end_time": "2019-11-12T02:33:06.922521Z",
     "start_time": "2019-11-12T02:31:26.252529Z"
    }
   },
   "outputs": [
    {
     "name": "stdout",
     "output_type": "stream",
     "text": [
      "(array([0.97603486, 0.91619487, 0.97325383]), 1.0364293186300684)\n"
     ]
    }
   ],
   "source": [
    "for T in [10000]:\n",
    "    print(mc(200, T, np.zeros(3), np.array([0.3, -0.1, 0.7]), 0.5, 0.501, \"Logistic\"))"
   ]
  }
 ],
 "metadata": {
  "kernelspec": {
   "display_name": "Python 3",
   "language": "python",
   "name": "python3"
  },
  "language_info": {
   "codemirror_mode": {
    "name": "ipython",
    "version": 3
   },
   "file_extension": ".py",
   "mimetype": "text/x-python",
   "name": "python",
   "nbconvert_exporter": "python",
   "pygments_lexer": "ipython3",
   "version": "3.6.5"
  },
  "toc": {
   "base_numbering": 1,
   "nav_menu": {},
   "number_sections": true,
   "sideBar": true,
   "skip_h1_title": false,
   "title_cell": "Table of Contents",
   "title_sidebar": "Contents",
   "toc_cell": false,
   "toc_position": {},
   "toc_section_display": true,
   "toc_window_display": false
  },
  "varInspector": {
   "cols": {
    "lenName": 16,
    "lenType": 16,
    "lenVar": 40
   },
   "kernels_config": {
    "python": {
     "delete_cmd_postfix": "",
     "delete_cmd_prefix": "del ",
     "library": "var_list.py",
     "varRefreshCmd": "print(var_dic_list())"
    },
    "r": {
     "delete_cmd_postfix": ") ",
     "delete_cmd_prefix": "rm(",
     "library": "var_list.r",
     "varRefreshCmd": "cat(var_dic_list()) "
    }
   },
   "types_to_exclude": [
    "module",
    "function",
    "builtin_function_or_method",
    "instance",
    "_Feature"
   ],
   "window_display": false
  }
 },
 "nbformat": 4,
 "nbformat_minor": 2
}
