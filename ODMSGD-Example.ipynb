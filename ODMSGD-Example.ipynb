{
 "cells": [
  {
   "cell_type": "code",
   "execution_count": 1,
   "metadata": {
    "ExecuteTime": {
     "end_time": "2019-11-18T04:24:45.989522Z",
     "start_time": "2019-11-18T04:24:45.087248Z"
    }
   },
   "outputs": [],
   "source": [
    "import numpy as np\n",
    "import matplotlib.pyplot as plt\n",
    "from scipy.linalg import block_diag\n",
    "from ODMSGD import ODMSGD\n",
    "from utils import *"
   ]
  },
  {
   "cell_type": "code",
   "execution_count": 2,
   "metadata": {
    "ExecuteTime": {
     "end_time": "2019-11-18T04:24:46.823851Z",
     "start_time": "2019-11-18T04:24:46.820850Z"
    }
   },
   "outputs": [],
   "source": [
    "p = 3\n",
    "sigma = 0.1\n",
    "beta_true = [0.3, -0.1, 0.7, 0.8, 0.5, -0.4]"
   ]
  },
  {
   "cell_type": "markdown",
   "metadata": {},
   "source": [
    "# Data Generation"
   ]
  },
  {
   "cell_type": "code",
   "execution_count": 3,
   "metadata": {
    "ExecuteTime": {
     "end_time": "2019-11-13T15:13:55.818193Z",
     "start_time": "2019-11-13T15:13:55.796433Z"
    }
   },
   "outputs": [],
   "source": [
    "O = LinearGenerator(beta_true, sigma, n = 10000, generate_Y = True)\n",
    "X, A, Y = O"
   ]
  },
  {
   "cell_type": "code",
   "execution_count": 4,
   "metadata": {},
   "outputs": [
    {
     "data": {
      "image/png": "[encoded data removed]",
      "text/plain": [
       "<Figure size 432x288 with 1 Axes>"
      ]
     },
     "metadata": {
      "needs_background": "light"
     },
     "output_type": "display_data"
    }
   ],
   "source": [
    "plt.hist(Y['1'] - Y['0'], 50, density=True)\n",
    "plt.xlabel(r'$\\mu(1, X; \\beta_0) - \\mu(0, X; \\beta_0)$')\n",
    "plt.ylabel('Density')\n",
    "plt.savefig(\"linear_data.pdf\")"
   ]
  },
  {
   "cell_type": "code",
   "execution_count": 5,
   "metadata": {},
   "outputs": [
    {
     "data": {
      "image/png": "[encoded data removed]",
      "text/plain": [
       "<Figure size 432x288 with 1 Axes>"
      ]
     },
     "metadata": {
      "needs_background": "light"
     },
     "output_type": "display_data"
    }
   ],
   "source": [
    "plt.hist(sigmoid(Y['1']) - sigmoid(Y['0']), 50, density=True)\n",
    "plt.xlabel(r'$\\mu(1, X; \\beta_0) - \\mu(0, X; \\beta_0)$')\n",
    "plt.ylabel('Density')\n",
    "plt.savefig(\"logistic_data.pdf\")"
   ]
  },
  {
   "cell_type": "markdown",
   "metadata": {},
   "source": [
    "# Simulation Study -- Linear Model Setting\n",
    " \n",
    "\n",
    "## Evaluation of the truth\n",
    "Pure exploration for the first 50 step, then $\\varepsilon_t = \\varepsilon_\\infty = 0.1$. Learning rate is $0.5t^{-0.501}$."
   ]
  },
  {
   "cell_type": "code",
   "execution_count": 6,
   "metadata": {
    "ExecuteTime": {
     "end_time": "2019-11-13T15:18:22.280286Z",
     "start_time": "2019-11-13T15:18:22.264371Z"
    }
   },
   "outputs": [],
   "source": [
    "def eps(t):\n",
    "    if t <= 50:\n",
    "        return(1)\n",
    "    else:\n",
    "        return(0.1)\n",
    "        #return(min(1, 0.1 * np.log(t)/np.sqrt(t)))\n",
    "        \n",
    "def generator(n=1, X=None, A=None, generate_Y=False):\n",
    "    return LinearGenerator(beta_true, sigma, n, X, A, generate_Y)\n",
    "        \n",
    "LinearModel = ODMSGD(p=p, mu=u, generator=generator, loss=MSELoss,\n",
    "                     eps=eps, eps_inf=0.1, alpha=0.5, gamma=0.501)"
   ]
  },
  {
   "cell_type": "code",
   "execution_count": 7,
   "metadata": {
    "ExecuteTime": {
     "end_time": "2019-11-13T15:18:29.093471Z",
     "start_time": "2019-11-13T15:18:28.073746Z"
    }
   },
   "outputs": [],
   "source": [
    "N = 1000000\n",
    "X, _ = generator(N)\n",
    "A = np.random.binomial(1, 0.5, N)\n",
    "O = generator(N, X, A, True)\n",
    "_, H = MSELoss(beta_true, O, return_second_moment=True)\n",
    "epsilon = 0.1\n",
    "d = np.array(u(1, X, beta_true) > u(0, X, beta_true), dtype = float)\n",
    "pi = (1 - epsilon) * d + epsilon/2\n",
    "from scipy.linalg import block_diag\n",
    "S = block_diag(np.dot(X.T/(1-pi), X), np.dot(X.T/pi, X))/(4 * N) * sigma**2\n",
    "H_inv = np.linalg.inv(H)\n",
    "V = np.dot(np.dot(H_inv, S), H_inv)\n",
    "val_true = np.mean(u(d, X, beta_true))\n",
    "VV = (np.mean(u(d, X, beta_true)**2) + sigma**2) * 2/(2 - epsilon) - val_true**2"
   ]
  },
  {
   "cell_type": "code",
   "execution_count": 8,
   "metadata": {},
   "outputs": [],
   "source": [
    "def stable(epsilon):\n",
    "    N = 1000000\n",
    "    X, _ = generator(N)\n",
    "    A = np.random.binomial(1, 0.5, N)\n",
    "    O = generator(N, X, A, True)\n",
    "    _, H = MSELoss(beta_true, O, return_second_moment=True)\n",
    "    d = np.array(u(1, X, beta_true) > u(0, X, beta_true), dtype = float)\n",
    "    pi = (1 - epsilon) * d + epsilon/2\n",
    "    S = block_diag(np.dot(X.T/(1-pi), X), np.dot(X.T/pi, X))/(4 * N) * sigma**2\n",
    "    H_inv = np.linalg.inv(H)\n",
    "    V = np.dot(np.dot(H_inv, S), H_inv)\n",
    "    val_true = np.mean(u(d, X, beta_true))\n",
    "    VV = (np.mean(u(d, X, beta_true)**2) + sigma**2) * 2/(2 - epsilon) - val_true**2\n",
    "    print(np.round(np.append(np.diag(V), VV), 4))"
   ]
  },
  {
   "cell_type": "code",
   "execution_count": 9,
   "metadata": {},
   "outputs": [
    {
     "name": "stdout",
     "output_type": "stream",
     "text": [
      "[0.1349 0.1286 0.1131 0.0757 0.0821 0.0975 0.2968]\n",
      "[1.3148 1.2489 1.0857 0.6969 0.7631 0.9238 0.2301]\n",
      "[13.072  12.3828 10.8418  6.9132  7.6193  9.2096  0.2235]\n",
      "[130.8418 124.14   108.4163  69.0211  75.5079  91.4416   0.2231]\n"
     ]
    }
   ],
   "source": [
    "for epsilon in [0.1, 0.01, 0.001, 0.0001]:\n",
    "    stable(epsilon)"
   ]
  },
  {
   "cell_type": "markdown",
   "metadata": {},
   "source": [
    "## Parameter and its variance estimation\n",
    "### Plugin estimator is consistent"
   ]
  },
  {
   "cell_type": "code",
   "execution_count": 10,
   "metadata": {
    "ExecuteTime": {
     "end_time": "2019-04-22T17:53:01.257744Z",
     "start_time": "2019-04-22T17:48:27.817606Z"
    }
   },
   "outputs": [
    {
     "name": "stdout",
     "output_type": "stream",
     "text": [
      "True beta    : [ 0.3 -0.1  0.7  0.8  0.5 -0.4]\n",
      "TSE * sqrt(t): [0.367 0.357 0.335 0.276 0.288 0.313]\n",
      "Step     1000:\n",
      "beta estimate: [ 0.307 -0.11   0.685  0.79   0.503 -0.368]\n",
      "PSE * sqrt(t): [0.474 0.318 0.438 0.355 0.323 0.446]\n",
      "H estimate   : [0.449 0.527 0.395 0.527 0.493 0.642]\n",
      "S estimate   : [0.04  0.031 0.026 0.038 0.025 0.085]\n",
      "Step    10000:\n",
      "beta estimate: [ 0.304 -0.103  0.692  0.803  0.499 -0.392]\n",
      "PSE * sqrt(t): [0.376 0.329 0.332 0.271 0.262 0.331]\n",
      "H estimate   : [0.498 0.513 0.517 0.502 0.492 0.511]\n",
      "S estimate   : [0.035 0.029 0.029 0.019 0.017 0.03 ]\n",
      "Step   100000:\n",
      "beta estimate: [ 0.302 -0.1    0.698  0.8    0.5   -0.398]\n",
      "PSE * sqrt(t): [0.359 0.351 0.323 0.28  0.286 0.322]\n",
      "H estimate   : [0.507 0.51  0.506 0.494 0.497 0.506]\n",
      "S estimate   : [0.033 0.032 0.027 0.019 0.02  0.026]\n",
      "Step  1000000:\n",
      "beta estimate: [ 0.301 -0.1    0.699  0.8    0.501 -0.4  ]\n",
      "PSE * sqrt(t): [0.365 0.355 0.332 0.275 0.291 0.311]\n",
      "H estimate   : [0.499 0.505 0.499 0.501 0.501 0.505]\n",
      "S estimate   : [0.033 0.032 0.027 0.019 0.021 0.025]\n"
     ]
    }
   ],
   "source": [
    "# Plugin Method\n",
    "print('True beta    :', np.round(beta_true, 3))\n",
    "print('TSE * sqrt(t):', np.round(np.sqrt(np.diag(V)), 3))\n",
    "LinearModel.Initialize()\n",
    "for T in [1000, 9000, 90000, 900000]:\n",
    "    LinearModel.SGD(T)\n",
    "    print('Step {:8}:'.format(LinearModel.step))\n",
    "    print('beta estimate:', np.round(LinearModel.beta_bar, 3))\n",
    "    print('PSE * sqrt(t):', np.round(LinearModel.se_hat * np.sqrt(LinearModel.step), 3))\n",
    "    print('H estimate   :', np.round(np.diag(LinearModel.H_hat/LinearModel.step), 3))\n",
    "    print('S estimate   :', np.round(np.diag(LinearModel.S_hat/LinearModel.step), 3))"
   ]
  },
  {
   "cell_type": "code",
   "execution_count": 11,
   "metadata": {
    "ExecuteTime": {
     "end_time": "2019-04-22T17:46:24.252611Z",
     "start_time": "2019-04-22T17:46:24.243609Z"
    }
   },
   "outputs": [
    {
     "name": "stdout",
     "output_type": "stream",
     "text": [
      "H:\n",
      "[[ 0.5    0.     0.001  0.     0.     0.   ]\n",
      " [ 0.     0.5    0.     0.     0.     0.   ]\n",
      " [ 0.001  0.     0.502  0.     0.     0.   ]\n",
      " [ 0.     0.     0.     0.5   -0.     0.   ]\n",
      " [ 0.     0.     0.    -0.     0.498 -0.   ]\n",
      " [ 0.     0.     0.     0.    -0.     0.499]]\n",
      "H_hat:\n",
      "[[0.499 0.    0.001 0.    0.    0.   ]\n",
      " [0.    0.505 0.002 0.    0.    0.   ]\n",
      " [0.001 0.002 0.499 0.    0.    0.   ]\n",
      " [0.    0.    0.    0.501 0.    0.002]\n",
      " [0.    0.    0.    0.    0.501 0.   ]\n",
      " [0.    0.    0.    0.002 0.    0.505]]\n",
      "S:\n",
      "[[ 0.034  0.008 -0.015  0.     0.     0.   ]\n",
      " [ 0.008  0.032  0.003  0.     0.     0.   ]\n",
      " [-0.015  0.003  0.028  0.     0.     0.   ]\n",
      " [ 0.     0.     0.     0.019 -0.008  0.015]\n",
      " [ 0.     0.     0.    -0.008  0.021 -0.003]\n",
      " [ 0.     0.     0.     0.015 -0.003  0.024]]\n",
      "S_hat:\n",
      "[[ 0.033  0.009 -0.015  0.     0.     0.   ]\n",
      " [ 0.009  0.032  0.003  0.     0.     0.   ]\n",
      " [-0.015  0.003  0.027  0.     0.     0.   ]\n",
      " [ 0.     0.     0.     0.019 -0.009  0.016]\n",
      " [ 0.     0.     0.    -0.009  0.021 -0.003]\n",
      " [ 0.     0.     0.     0.016 -0.003  0.025]]\n"
     ]
    }
   ],
   "source": [
    "print('H:')\n",
    "print(np.round(H, 3))\n",
    "print('H_hat:')\n",
    "print(np.round(LinearModel.H_hat/LinearModel.step, 3))\n",
    "print('S:')\n",
    "print(np.round(S, 3))\n",
    "print('S_hat:')\n",
    "print(np.round(LinearModel.S_hat/LinearModel.step, 3))"
   ]
  },
  {
   "cell_type": "markdown",
   "metadata": {},
   "source": [
    "### Tuning of learning rate"
   ]
  },
  {
   "cell_type": "code",
   "execution_count": 12,
   "metadata": {
    "ExecuteTime": {
     "end_time": "2019-11-07T19:15:29.013356Z",
     "start_time": "2019-11-07T19:14:09.628118Z"
    }
   },
   "outputs": [
    {
     "data": {
      "image/png": "[encoded data removed]",
      "text/plain": [
       "<Figure size 432x288 with 1 Axes>"
      ]
     },
     "metadata": {
      "needs_background": "light"
     },
     "output_type": "display_data"
    },
    {
     "data": {
      "image/png": "[encoded data removed]",
      "text/plain": [
       "<Figure size 432x288 with 1 Axes>"
      ]
     },
     "metadata": {
      "needs_background": "light"
     },
     "output_type": "display_data"
    },
    {
     "data": {
      "image/png": "[encoded data removed]",
      "text/plain": [
       "<Figure size 432x288 with 1 Axes>"
      ]
     },
     "metadata": {
      "needs_background": "light"
     },
     "output_type": "display_data"
    }
   ],
   "source": [
    "T = 5000\n",
    "M = 10\n",
    "for gamma in [0.501, 2/3, 0.9]:\n",
    "    fig = plt.figure()\n",
    "    fig.suptitle(\"gamma = {:4}\".format(round(gamma, 3)))\n",
    "    for alpha in [0.5, 1, 2]:\n",
    "        LinearModel = ODMSGD(p=p, mu=u, generator=generator, loss=MSELoss,\n",
    "                             eps=eps, eps_inf=0.1, alpha=0.5, gamma=gamma)\n",
    "        MAE = np.zeros(T)\n",
    "        for _ in range(M):\n",
    "            LinearModel.Initialize()\n",
    "            LinearModel.SGD(T)\n",
    "            MAE += [np.mean(np.abs(beta-beta_true)) for beta in LinearModel.beta_bar_log[1:]]\n",
    "        MAE /= M\n",
    "        plt.plot(MAE, label = str(alpha))\n",
    "    plt.legend()\n",
    "    plt.show()"
   ]
  },
  {
   "cell_type": "markdown",
   "metadata": {},
   "source": [
    "### Comparison of estimation methods\n",
    "Plugin, Resampling and BatchMean estimators"
   ]
  },
  {
   "cell_type": "code",
   "execution_count": null,
   "metadata": {
    "ExecuteTime": {
     "end_time": "2019-03-15T22:25:16.251506Z",
     "start_time": "2019-03-15T20:54:19.224963Z"
    }
   },
   "outputs": [
    {
     "name": "stdout",
     "output_type": "stream",
     "text": [
      "TSE * sqrt(t): [0.367 0.357 0.335 0.276 0.288 0.313]\n",
      "Step     1000:\n",
      "PSE * sqrt(t): [0.363 0.41  0.347 0.364 0.362 0.536]\n",
      "RSE * sqrt(t): [0.773 0.664 0.735 1.191 2.188 1.449]\n",
      "Step    10000:\n",
      "PSE * sqrt(t): [0.377 0.43  0.387 0.299 0.311 0.346]\n",
      "RSE * sqrt(t): [0.48  0.564 0.563 0.51  0.776 0.601]\n",
      "Step   100000:\n",
      "PSE * sqrt(t): [0.371 0.376 0.346 0.282 0.297 0.327]\n",
      "RSE * sqrt(t): [0.403 0.379 0.387 0.328 0.379 0.4  ]\n"
     ]
    }
   ],
   "source": [
    "LinearModel = ODMSGD(p=p, mu=u, generator=generator, loss=MSELoss,\n",
    "                     eps=eps, eps_inf=0.1, alpha=0.5, gamma=0.501)\n",
    "# Plugin Method vs. Resampling Method\n",
    "LinearModel.Initialize()\n",
    "print('TSE * sqrt(t):', np.round(np.sqrt(np.diag(V)), 3))\n",
    "for T in [1000, 9000, 90000, 900000]:\n",
    "    LinearModel.DoubleWeighting(T = T, R = 200)\n",
    "    print('Step {:8}:'.format(LinearModel.step))\n",
    "    print('PSE * sqrt(t):', np.round(np.sqrt(np.diag(LinearModel.PluginParameterVariance())), 3))\n",
    "    print('RSE * sqrt(t):', np.round(np.sqrt(np.diag(LinearModel.ResamplingParameterVariance() * LinearModel.step)), 3))"
   ]
  },
  {
   "cell_type": "code",
   "execution_count": 22,
   "metadata": {
    "ExecuteTime": {
     "end_time": "2019-03-14T02:05:29.922490Z",
     "start_time": "2019-03-14T02:05:29.894503Z"
    }
   },
   "outputs": [],
   "source": [
    "def MC(model, T, R, M):\n",
    "    beta_bar = np.zeros((M, 2 * p))\n",
    "    P_se_log = np.zeros((M, 2 * p))\n",
    "    R_se_log = np.zeros((M, 2 * p))\n",
    "    BM_se_log = np.zeros((M, 2 * p))\n",
    "    P_cp = np.zeros(2 * p)\n",
    "    R_cp = np.zeros(2 * p)\n",
    "    BM_cp = np.zeros(2 * p)\n",
    "    for i in range(M):\n",
    "        model.Initialize()\n",
    "        model.DoubleWeighting(T = T, R = R)\n",
    "        beta_bar[i, :] = model.beta_bar\n",
    "        P_se_i = np.sqrt(np.diag(model.PluginParameterVariance())/T)\n",
    "        P_se_log[i, :] = P_se_i\n",
    "        R_se_i = np.sqrt(np.diag(model.ResamplingParameterVariance()))\n",
    "        R_se_log[i, :] = R_se_i\n",
    "        BM_se_i = np.sqrt(np.diag(model.BatchMeansParameterVariance())/T)\n",
    "        BM_se_log[i, :] = BM_se_i\n",
    "        cover_P = np.abs(beta_true - model.beta_bar) <= 1.96 * P_se_i\n",
    "        cover_R = np.abs(beta_true - model.beta_bar) <= 1.96 * R_se_i\n",
    "        cover_BM = np.abs(beta_true - model.beta_bar) <= 1.96 * BM_se_i\n",
    "        P_cp += np.array(cover_P, dtype=float)\n",
    "        R_cp += np.array(cover_R, dtype=float)\n",
    "        BM_cp += np.array(cover_BM, dtype=float)\n",
    "    mcsd = np.std(beta_bar, axis = 0)\n",
    "    P_se = np.mean(P_se_log, axis = 0)\n",
    "    R_se = np.mean(R_se_log, axis = 0)\n",
    "    BM_se = np.mean(BM_se_log, axis = 0)\n",
    "    P_cp /= M\n",
    "    R_cp /= M\n",
    "    BM_cp /= M\n",
    "    return(beta_bar, mcsd, P_se, P_cp, R_se, R_cp, BM_se, BM_cp)"
   ]
  },
  {
   "cell_type": "code",
   "execution_count": 23,
   "metadata": {
    "ExecuteTime": {
     "end_time": "2019-03-14T02:10:45.253207Z",
     "start_time": "2019-03-14T02:09:19.559115Z"
    }
   },
   "outputs": [
    {
     "name": "stdout",
     "output_type": "stream",
     "text": [
      "                             b01  b02  b03  b11  b12  b13\n",
      "PSE/MCSD at step      100: [0.97 0.71 0.85 0.91 0.92 0.83]\n",
      "PluginCP at step      100: [0.94 0.93 0.86 0.83 0.89 0.91]\n",
      "RSE/MCSD at step      100: [1.91 1.65 1.73 1.96 1.93 1.88]\n",
      "ResampCP at step      100: [1.   1.   0.89 0.94 0.92 0.97]\n",
      "BMSE/MCSD at step     100: [0.44 0.32 0.43 0.5  0.44 0.4 ]\n",
      "BtchMnCP at step      100: [0.55 0.52 0.39 0.41 0.52 0.48]\n"
     ]
    }
   ],
   "source": [
    "LinearModel = ODMSGD(p=p, mu=u, generator=generator, loss=MSELoss,\n",
    "                     eps=eps, eps_inf=0.1, alpha=0.5, gamma=0.501)\n",
    "print(' ' * 29 + 'b01  b02  b03  b11  b12  b13')\n",
    "for T in [100]: #lr = 0.5*t^(-0.501)\n",
    "    np.random.seed(1)\n",
    "    beta_bar, mcsd, P_se, P_cp, R_se, R_cp, BM_se, BM_cp = MC(LinearModel, T = T, R = 200, M = 200)\n",
    "    print('PSE/MCSD at step {:8}:'.format(T), np.round(P_se/mcsd, 2))\n",
    "    print('PluginCP at step {:8}:'.format(T), np.round(P_cp, 2))\n",
    "    print('RSE/MCSD at step {:8}:'.format(T), np.round(R_se/mcsd, 2))\n",
    "    print('ResampCP at step {:8}:'.format(T), np.round(R_cp, 2))\n",
    "    print('BMSE/MCSD at step {:7}:'.format(T), np.round(BM_se/mcsd, 2))\n",
    "    print('BtchMnCP at step {:8}:'.format(T), np.round(BM_cp, 2))"
   ]
  },
  {
   "cell_type": "code",
   "execution_count": null,
   "metadata": {},
   "outputs": [],
   "source": [
    "# A parallel version of the above cell \n",
    "# Do not run on jupyter notebook\n",
    "\n",
    "from multiprocessing import Pool\n",
    "from functools import partial\n",
    "\n",
    "def MC1(model, T, R):\n",
    "    np.random.seed()\n",
    "    model.Initialize()\n",
    "    model.DoubleWeighting(T = T, R = R)\n",
    "    P_se = np.sqrt(np.diag(model.PluginParameterVariance())/T)\n",
    "    R_se = np.sqrt(np.diag(model.ResamplingParameterVariance()))\n",
    "    BM_se = np.sqrt(np.diag(model.BatchMeansParameterVariance())/T)\n",
    "    P_cp = np.array(np.abs(beta_true - model.beta_bar) <= 1.96 * P_se, dtype=float)\n",
    "    R_cp = np.array(np.abs(beta_true - model.beta_bar) <= 1.96 * R_se, dtype=float)\n",
    "    BM_cp = np.array(np.abs(beta_true - model.beta_bar) <= 1.96 * BM_se, dtype=float)\n",
    "    return(model.beta_bar, P_se, P_cp, R_se, R_cp, BM_se, BM_cp)\n",
    "\n",
    "def ParallelMC(model, T, R, M, num_procs):\n",
    "    pool = Pool(num_procs)\n",
    "    _MC1_ = partial(MC1, model=model, T=T, R=R)\n",
    "    experiments = [pool.apply_async(_MC1_) for _ in range(M)]\n",
    "    beta_bar = [e.get()[0] for e in experiments]\n",
    "    P_se_log = [e.get()[1] for e in experiments]\n",
    "    P_cp_log = [e.get()[2] for e in experiments]\n",
    "    R_se_log = [e.get()[3] for e in experiments]\n",
    "    R_cp_log = [e.get()[4] for e in experiments]\n",
    "    BM_se_log = [e.get()[5] for e in experiments]\n",
    "    BM_cp_log = [e.get()[6] for e in experiments]\n",
    "    mcsd = np.std(beta_bar, axis=0)\n",
    "    P_se = np.mean(P_se_log, axis=0)\n",
    "    P_cp = np.mean(P_cp_log, axis=0)\n",
    "    R_se = np.mean(R_se_log, axis=0)\n",
    "    R_cp = np.mean(R_cp_log, axis=0)\n",
    "    BM_se = np.mean(BM_se_log, axis=0)\n",
    "    BM_cp = np.mean(BM_cp_log, axis=0)\n",
    "    return(beta_bar, mcsd, P_se, P_cp, R_se, R_cp, BM_se, BM_cp)\n",
    "\n",
    "if __name__ == '__main__':\n",
    "    LinearModel = ODMSGD(p=p, mu=u, generator=generator, loss=MSELoss,\n",
    "                         eps=eps, eps_inf=0.1, alpha=0.5, gamma=2/3) #lr = 0.5*t^(-0.667)\n",
    "    print(' ' * 29 + 'b01  b02  b03  b11  b12  b13')\n",
    "    for T in [1000, 10000, 100000]:\n",
    "        _, mcsd, P_se, P_cp, R_se, R_cp, BM_se, BM_cp = ParallelMC(LinearModel, T=T, R=200, M=200, num_procs=16)\n",
    "        print('PSE/MCSD at step {:8}:'.format(T), np.round(P_se/mcsd, 2))\n",
    "        print('PluginCP at step {:8}:'.format(T), np.round(P_cp, 2))\n",
    "        print('RSE/MCSD at step {:8}:'.format(T), np.round(R_se/mcsd, 2))\n",
    "        print('ResampCP at step {:8}:'.format(T), np.round(R_cp, 2))\n",
    "        print('BMSE/MCSD at step {:7}:'.format(T), np.round(BM_se/mcsd, 2))\n",
    "        print('BtchMnCP at step {:8}:'.format(T), np.round(BM_cp, 2))\n",
    "        \n",
    "# Output:\n",
    "#                              b01  b02  b03  b11  b12  b13\n",
    "# PSE/MCSD at step     1000: [0.48 0.57 0.54 0.71 0.56 0.61]\n",
    "# PluginCP at step     1000: [0.89 0.84 0.8  0.77 0.72 0.8 ]\n",
    "# RSE/MCSD at step     1000: [1.93 2.89 2.35 2.73 2.5  2.46]\n",
    "# ResampCP at step     1000: [1.   1.   0.95 1.   0.94 0.98]\n",
    "# BMSE/MCSD at step    1000: [0.27 0.36 0.36 0.47 0.4  0.38]\n",
    "# BtchMnCP at step     1000: [0.57 0.52 0.55 0.6  0.55 0.54]\n",
    "# PSE/MCSD at step    10000: [0.77 0.64 0.85 0.79 0.76 0.73]\n",
    "# PluginCP at step    10000: [0.9  0.86 0.91 0.89 0.85 0.92]\n",
    "# RSE/MCSD at step    10000: [2.72 2.72 3.58 2.2  1.96 2.27]\n",
    "# ResampCP at step    10000: [1.   1.   1.   0.98 0.98 1.  ]\n",
    "# BMSE/MCSD at step   10000: [0.66 0.59 0.78 0.66 0.66 0.63]\n",
    "# BtchMnCP at step    10000: [0.81 0.76 0.84 0.8  0.78 0.79]\n",
    "# PSE/MCSD at step   100000: [0.92 1.01 0.95 0.89 0.96 0.91]\n",
    "# PluginCP at step   100000: [0.94 0.96 0.94 0.91 0.94 0.92]\n",
    "# RSE/MCSD at step   100000: [1.48 1.84 1.68 1.55 1.96 2.21]\n",
    "# ResampCP at step   100000: [0.97 0.99 0.98 0.96 0.98 0.96]\n",
    "# BMSE/MCSD at step  100000: [0.69 0.77 0.76 0.68 0.76 0.75]\n",
    "# BtchMnCP at step   100000: [0.8  0.84 0.85 0.83 0.84 0.87]\n",
    "\n",
    "if __name__ == '__main__':\n",
    "    LinearModel = ODMSGD(p=p, mu=u, generator=generator, loss=MSELoss,\n",
    "                     eps=eps, eps_inf=0.1, alpha=0.2, gamma=0.501) #lr = 0.2*t^(-0.501)\n",
    "    print(' ' * 29 + 'b01  b02  b03  b11  b12  b13')\n",
    "    for T in [1000, 10000, 100000]:\n",
    "        _, mcsd, P_se, P_cp, R_se, R_cp, BM_se, BM_cp = ParallelMC(LinearModel, T = T, R = 200, M = 200, num_procs = 16)\n",
    "        print('PSE/MCSD at step {:8}:'.format(T), np.round(P_se/mcsd, 2))\n",
    "        print('PluginCP at step {:8}:'.format(T), np.round(P_cp, 2))\n",
    "        print('RSE/MCSD at step {:8}:'.format(T), np.round(R_se/mcsd, 2))\n",
    "        print('ResampCP at step {:8}:'.format(T), np.round(R_cp, 2))\n",
    "        print('BMSE/MCSD at step {:7}:'.format(T), np.round(BM_se/mcsd, 2))\n",
    "        print('BtchMnCP at step {:8}:'.format(T), np.round(BM_cp, 2))\n",
    "        \n",
    "# Output:\n",
    "# PSE/MCSD at step     1000: [0.8  0.66 0.61 0.82 0.72 0.7 ]\n",
    "# PluginCP at step     1000: [0.88 0.86 0.72 0.51 0.64 0.77]\n",
    "# RSE/MCSD at step     1000: [1.95 1.96 1.63 2.09 2.03 1.89]\n",
    "# ResampCP at step     1000: [1.   1.   0.92 0.86 0.9  0.93]\n",
    "# BMSE/MCSD at step    1000: [0.27 0.23 0.29 0.5  0.36 0.31]\n",
    "# BtchMnCP at step     1000: [0.38 0.34 0.27 0.2  0.27 0.34]\n",
    "# PSE/MCSD at step    10000: [0.78 0.85 0.71 0.95 0.81 0.93]\n",
    "# PluginCP at step    10000: [0.92 0.9  0.86 0.81 0.82 0.92]\n",
    "# RSE/MCSD at step    10000: [1.72 1.96 1.71 1.6  1.42 1.69]\n",
    "# ResampCP at step    10000: [0.97 0.98 0.96 0.95 0.94 0.98]\n",
    "# BMSE/MCSD at step   10000: [0.39 0.44 0.4  0.54 0.44 0.47]\n",
    "# BtchMnCP at step    10000: [0.55 0.64 0.6  0.49 0.54 0.56]\n",
    "# PSE/MCSD at step   100000: [0.99 0.98 1.09 0.95 0.9  0.89]\n",
    "# PluginCP at step   100000: [0.96 0.96 0.96 0.9  0.92 0.92]\n",
    "# RSE/MCSD at step   100000: [1.29 1.36 1.52 1.15 1.18 1.14]\n",
    "# ResampCP at step   100000: [0.98 1.   0.99 0.94 0.96 0.96]\n",
    "# BMSE/MCSD at step  100000: [0.49 0.49 0.54 0.48 0.45 0.45]\n",
    "# BtchMnCP at step   100000: [0.64 0.63 0.7  0.61 0.6  0.62]"
   ]
  },
  {
   "cell_type": "code",
   "execution_count": 24,
   "metadata": {},
   "outputs": [],
   "source": [
    "ax = np.array([[0.48, 0.57, 0.54, 0.71, 0.56, 0.61],\n",
    "               [0.77, 0.64, 0.85, 0.79, 0.76, 0.73],\n",
    "               [0.92, 1.01, 0.95, 0.89, 0.96, 0.91]])\n",
    "ay = np.array([[0.89, 0.84, 0.8 , 0.77, 0.72, 0.8 ],\n",
    "               [0.9 , 0.86, 0.91, 0.89, 0.85, 0.92],\n",
    "               [0.94, 0.96, 0.94, 0.91, 0.94, 0.92]])\n",
    "bx = np.array([[1.93, 2.89, 2.35, 2.73, 2.5 , 2.46],\n",
    "               [2.72, 2.72, 3.58, 2.2 , 1.96, 2.27],\n",
    "               [1.48, 1.84, 1.68, 1.55, 1.96, 2.21]])\n",
    "by = np.array([[1.  , 1.  , 0.95, 1.  , 0.94, 0.98],\n",
    "               [1.  , 1.  , 1.  , 0.98, 0.98, 1.  ],\n",
    "               [0.97, 0.99, 0.98, 0.96, 0.98, 0.96]])\n",
    "cx = np.array([[0.27, 0.36, 0.36, 0.47, 0.4 , 0.38],\n",
    "               [0.66, 0.59, 0.78, 0.66, 0.66, 0.63],\n",
    "               [0.69, 0.77, 0.76, 0.68, 0.76, 0.75]])\n",
    "cy = np.array([[0.57, 0.52, 0.55, 0.6 , 0.55, 0.54],\n",
    "               [0.81, 0.76, 0.84, 0.8 , 0.78, 0.79],\n",
    "               [0.8 , 0.84, 0.85, 0.83, 0.84, 0.87]])"
   ]
  },
  {
   "cell_type": "code",
   "execution_count": 25,
   "metadata": {},
   "outputs": [
    {
     "data": {
      "image/png": "[encoded data removed]",
      "text/plain": [
       "<Figure size 432x216 with 2 Axes>"
      ]
     },
     "metadata": {
      "needs_background": "light"
     },
     "output_type": "display_data"
    }
   ],
   "source": [
    "prop_cycle = plt.rcParams['axes.prop_cycle']\n",
    "colors = prop_cycle.by_key()['color']\n",
    "\n",
    "f, (ax1,ax2) = plt.subplots(1, 2, figsize=(6,3), constrained_layout=True)\n",
    "\n",
    "T = [1000, 10000, 100000]\n",
    "x = [ax, bx, cx]\n",
    "y = [ay, by, cy]\n",
    "method = ['Plugin', 'Resampling', 'Batch-means']\n",
    "for j in range(6):\n",
    "    for k in range(3):\n",
    "        if j == 0:\n",
    "            ax1.plot(np.log10(T), x[k][:, j], color = colors[k], label = method[k])\n",
    "        else:\n",
    "            ax1.plot(np.log10(T), x[k][:, j], color = colors[k])\n",
    "        ax2.plot(np.log10(T), y[k][:, j], color = colors[k])\n",
    "ax1.set_xlabel(\"$\\log_{10}$(decision steps)\")\n",
    "ax1.set_ylabel(\"average SE/MCSD\")\n",
    "ax2.set_xlabel(\"$\\log_{10}$(decision steps)\")\n",
    "ax2.set_ylabel(\"coverage probability\")\n",
    "f.legend(bbox_to_anchor=(0.5,1.02), loc=\"lower center\", borderaxespad=0, ncol=3)\n",
    "plt.savefig(\"linear_variance_estimation.pdf\", bbox_inches='tight')"
   ]
  },
  {
   "cell_type": "code",
   "execution_count": 233,
   "metadata": {
    "ExecuteTime": {
     "end_time": "2019-03-15T17:07:46.348773Z",
     "start_time": "2019-03-15T17:04:52.884393Z"
    }
   },
   "outputs": [
    {
     "name": "stdout",
     "output_type": "stream",
     "text": [
      "TSE * sqrt(t): [0.515 0.502 0.471 0.381 0.397 0.434]\n",
      "Step    1000:\n",
      "beta estimate: [ 0.141 -0.04   0.219  0.217  0.087 -0.14 ]\n",
      "se estimate  : [1.468 1.023 2.185 2.384 1.824 2.298]\n",
      "H estimate   : [0.434 0.561 0.325 0.439 0.34  0.331]\n",
      "S estimate   : [0.256 0.325 0.379 0.877 0.376 0.422]\n",
      "Step   10000:\n",
      "beta estimate: [ 0.223 -0.052  0.416  0.48   0.288 -0.246]\n",
      "se estimate  : [1.518 1.812 2.5   1.314 1.92  1.379]\n",
      "H estimate   : [0.5   0.51  0.494 0.519 0.54  0.547]\n",
      "S estimate   : [0.566 0.9   1.555 0.475 1.093 0.608]\n",
      "Step  100000:\n",
      "beta estimate: [ 0.273 -0.084  0.616  0.703  0.433 -0.352]\n",
      "se estimate  : [0.909 0.965 1.362 0.682 0.893 0.8  ]\n",
      "H estimate   : [0.488 0.487 0.497 0.494 0.493 0.495]\n",
      "S estimate   : [0.192 0.222 0.452 0.113 0.194 0.157]\n",
      "Step 1000000:\n",
      "beta estimate: [ 0.295 -0.099  0.688  0.785  0.49  -0.393]\n",
      "se estimate  : [0.579 0.579 0.649 0.431 0.488 0.498]\n",
      "H estimate   : [0.496 0.492 0.496 0.501 0.502 0.501]\n",
      "S estimate   : [0.082 0.081 0.103 0.047 0.06  0.062]\n"
     ]
    }
   ],
   "source": [
    "# Mini-Batch Method\n",
    "print('TSE * sqrt(t):', np.round(np.sqrt(np.diag(V)), 3))\n",
    "LinearModel.Initialize()\n",
    "for T in [1000, 9000, 90000, 900000]:\n",
    "    LinearModel.MBGD(T = T, B = 10)\n",
    "    print('Step {:7}:'.format(LinearModel.step))\n",
    "    print('beta estimate:', np.round(LinearModel.beta_bar, 3))\n",
    "    print('se estimate  :', np.round(LinearModel.se_hat * np.sqrt(LinearModel.step), 3))\n",
    "    print('H estimate   :', np.round(np.diag(LinearModel.H_hat/LinearModel.step), 3))\n",
    "    print('S estimate   :', np.round(np.diag(LinearModel.S_hat/LinearModel.step), 3))"
   ]
  },
  {
   "cell_type": "markdown",
   "metadata": {
    "ExecuteTime": {
     "end_time": "2019-03-23T18:04:49.556510Z",
     "start_time": "2019-03-23T18:04:49.550510Z"
    }
   },
   "source": [
    "## Value and its variance estimation"
   ]
  },
  {
   "cell_type": "code",
   "execution_count": 26,
   "metadata": {
    "ExecuteTime": {
     "end_time": "2019-04-23T14:57:02.004660Z",
     "start_time": "2019-04-23T14:57:01.999656Z"
    }
   },
   "outputs": [],
   "source": [
    "def eps(t):\n",
    "    if t <= 50:\n",
    "        return(1)\n",
    "    else:\n",
    "        return(max(t**(-0.3), 0.1))\n",
    "    \n",
    "LinearModel = ODMSGD(p=p, mu=u, generator=generator, loss=MSELoss,\n",
    "                     eps=eps, eps_inf=0.1, alpha=0.5, gamma=0.501)"
   ]
  },
  {
   "cell_type": "code",
   "execution_count": 27,
   "metadata": {
    "ExecuteTime": {
     "end_time": "2019-04-23T00:13:56.399953Z",
     "start_time": "2019-04-23T00:13:47.754954Z"
    }
   },
   "outputs": [
    {
     "name": "stdout",
     "output_type": "stream",
     "text": [
      "              Value VSE*rt\n",
      "True       : 1.0895  0.545\n",
      "Step   1000: 1.0642 0.5658\n",
      "Step  10000: 1.0888 0.5496\n",
      "Step 100000: 1.0862 0.5424\n"
     ]
    }
   ],
   "source": [
    "print(' ' * 14 + 'Value VSE*rt')\n",
    "print('True       : {:6} {:6}'.format(round(val_true, 4), round(np.sqrt(VV), 4)))\n",
    "LinearModel.Initialize()\n",
    "np.random.seed(2)\n",
    "for T in [1000, 9000, 90000]:\n",
    "    LinearModel.SGD(T)\n",
    "    #etasq_hat = LinearModel.PluginValueVariance()\n",
    "    print('Step {:6}: {:6} {:6}'.format(LinearModel.step, \n",
    "                                             np.round(LinearModel.val_hat, 4), \n",
    "                                             np.round(LinearModel.vse_hat * np.sqrt(LinearModel.step), 4)))"
   ]
  },
  {
   "cell_type": "code",
   "execution_count": 19,
   "metadata": {
    "ExecuteTime": {
     "end_time": "2019-04-18T18:39:44.853338Z",
     "start_time": "2019-04-18T18:39:44.846341Z"
    }
   },
   "outputs": [],
   "source": [
    "def MCPluginSeq(model, T, M):\n",
    "    beta_bar = np.zeros((M, T, 2 * p))\n",
    "    val_hat = np.zeros((M, T))\n",
    "    for i in range(M):\n",
    "        model.Initialize()\n",
    "        model.SGD(T)\n",
    "        beta_bar[i, :, :] = model.beta_bar_log[1:]\n",
    "        val_hat[i, :] = model.val_hat_log\n",
    "    beta_bar_m = np.mean(beta_bar, axis = 0)\n",
    "    beta_bar_u = np.quantile(beta_bar, q = 0.975, axis = 0)\n",
    "    beta_bar_l = np.quantile(beta_bar, q = 0.025, axis = 0)\n",
    "    val_hat_m = np.mean(val_hat, axis = 0)\n",
    "    val_hat_u = np.quantile(val_hat, q = 0.975, axis = 0)\n",
    "    val_hat_l = np.quantile(val_hat, q = 0.025, axis = 0)\n",
    "    return(beta_bar_m, beta_bar_u, beta_bar_l, val_hat_m, val_hat_u, val_hat_l)"
   ]
  },
  {
   "cell_type": "code",
   "execution_count": 20,
   "metadata": {
    "ExecuteTime": {
     "end_time": "2019-04-18T18:42:42.881085Z",
     "start_time": "2019-04-18T18:39:48.971059Z"
    }
   },
   "outputs": [],
   "source": [
    "LinearModel = ODMSGD(p=p, mu=u, generator=generator, loss=MSELoss,\n",
    "                     eps=eps, eps_inf=0.1, alpha=0.5, gamma=0.501)\n",
    "for T in [10000]: #lr = 0.5*t^(-0.501)\n",
    "    np.random.seed(0)\n",
    "    beta_bar_m, beta_bar_u, beta_bar_l, val_hat_m, val_hat_u, val_hat_l = MCPluginSeq(LinearModel, T = T, M = 200)"
   ]
  },
  {
   "cell_type": "code",
   "execution_count": 21,
   "metadata": {
    "ExecuteTime": {
     "end_time": "2019-04-18T18:43:47.141025Z",
     "start_time": "2019-04-18T18:43:46.159059Z"
    }
   },
   "outputs": [
    {
     "data": {
      "image/png": "[encoded data removed]",
      "text/plain": [
       "<Figure size 576x288 with 2 Axes>"
      ]
     },
     "metadata": {},
     "output_type": "display_data"
    }
   ],
   "source": [
    "prop_cycle = plt.rcParams['axes.prop_cycle']\n",
    "colors = prop_cycle.by_key()['color']\n",
    "\n",
    "f, (ax1,ax2) = plt.subplots(1, 2, figsize=(8,4), constrained_layout=True)\n",
    "\n",
    "for i in range(2 * p):\n",
    "    ax1.plot(beta_bar_m[:, i], lw = 1, color = colors[i])\n",
    "    ax1.fill_between(np.arange(10000), beta_bar_l[:, i], beta_bar_u[:, i], color = colors[i], alpha = 0.4)\n",
    "    ax1.scatter(10500, beta_true[i], color = colors[i])\n",
    "    ax1.set_xlabel(\"decision steps\")\n",
    "    ax1.set_ylabel(\"parameter\")\n",
    "\n",
    "ax2.plot(val_hat_m, lw = 1, color = colors[0], label = 'Fit')\n",
    "ax2.fill_between(np.arange(10000), val_hat_l, val_hat_u, color = colors[0], alpha = 0.4, label = '95% CI')\n",
    "ax2.scatter(10500, val_true, color = colors[0])\n",
    "ax2.set_xlabel(\"decision steps\")\n",
    "ax2.set_ylabel(\"value\")\n",
    "\n",
    "plt.show()"
   ]
  },
  {
   "cell_type": "code",
   "execution_count": 18,
   "metadata": {
    "ExecuteTime": {
     "end_time": "2019-04-23T14:46:13.705656Z",
     "start_time": "2019-04-23T14:46:13.697655Z"
    }
   },
   "outputs": [],
   "source": [
    "def MCPlugin(model, T, M):\n",
    "    beta_bar = np.zeros((M, 2 * p))\n",
    "    val_hat = np.zeros(M)\n",
    "    P_se_log = np.zeros((M, 2 * p))\n",
    "    V_se_log = np.zeros(M)\n",
    "    P_cp = np.zeros(2 * p)\n",
    "    V_cp = 0.\n",
    "    for i in range(M):\n",
    "        model.Initialize()\n",
    "        model.SGD(T)\n",
    "        beta_bar[i, :] = model.beta_bar\n",
    "        val_hat[i] = model.val_hat\n",
    "        P_se_log[i, :] = model.se_hat\n",
    "        V_se_log[i] = model.vse_hat\n",
    "        P_cover = np.abs(beta_true - model.beta_bar) <= 1.96 * model.se_hat\n",
    "        V_cover = np.abs(val_true - model.val_hat) <= 1.96 * model.vse_hat\n",
    "        P_cp += np.array(P_cover, dtype = float)\n",
    "        V_cp += float(V_cover)\n",
    "    P_mcsd = np.std(beta_bar, axis = 0)\n",
    "    V_mcsd = np.std(val_hat, axis = 0)\n",
    "    P_se = np.mean(P_se_log, axis = 0)\n",
    "    V_se = np.mean(V_se_log, axis = 0)\n",
    "    P_cp /= M\n",
    "    V_cp /= M\n",
    "    return(beta_bar, val_hat, P_mcsd, P_se, P_cp, V_mcsd, V_se, V_cp)"
   ]
  },
  {
   "cell_type": "code",
   "execution_count": 19,
   "metadata": {
    "ExecuteTime": {
     "end_time": "2019-04-23T14:50:23.706654Z",
     "start_time": "2019-04-23T14:46:26.341656Z"
    }
   },
   "outputs": [
    {
     "name": "stdout",
     "output_type": "stream",
     "text": [
      "                         [ b01  b02  b03  b11  b12  b13]  val\n",
      "ASE/MCSD at step   1000: [1.   0.84 0.73 0.85 0.82 0.78] 0.96\n",
      "CvrgProb at step   1000: [0.95 0.94 0.86 0.87 0.84 0.9 ] 0.93\n",
      "ASE/MCSD at step  10000: [1.02 0.92 0.91 1.04 0.95 0.9 ] 1.01\n",
      "CvrgProb at step  10000: [0.95 0.94 0.9  0.96 0.94 0.92] 0.93\n"
     ]
    }
   ],
   "source": [
    "LinearModel = ODMSGD(p=p, mu=u, generator=generator, loss=MSELoss,\n",
    "                     eps=eps, eps_inf=0.1, alpha=0.5, gamma=0.501)\n",
    "print(' ' * 25 + '[ b01  b02  b03  b11  b12  b13]  val')\n",
    "for T in [1000, 10000]: #lr = 0.5*t^(-0.501)\n",
    "    np.random.seed(0)\n",
    "    beta_bar, val_hat, P_mcsd, P_se, P_cp, V_mcsd, V_se, V_cp = MCPlugin(LinearModel, T = T, M = 200)\n",
    "    print('ASE/MCSD at step {:6}:'.format(T), np.round(P_se/P_mcsd, 2), round(V_se/V_mcsd, 2))\n",
    "    print('CvrgProb at step {:6}:'.format(T), np.round(P_cp, 2), round(V_cp, 2))"
   ]
  },
  {
   "cell_type": "code",
   "execution_count": 22,
   "metadata": {
    "ExecuteTime": {
     "end_time": "2019-04-23T15:01:20.454657Z",
     "start_time": "2019-04-23T14:57:16.673655Z"
    }
   },
   "outputs": [
    {
     "name": "stdout",
     "output_type": "stream",
     "text": [
      "                         [ b01  b02  b03  b11  b12  b13]  val\n",
      "ASE/MCSD at step   1000: [0.97 0.94 0.9  0.89 0.81 0.76] 0.91\n",
      "CvrgProb at step   1000: [0.94 0.95 0.93 0.89 0.86 0.88] 0.91\n",
      "ASE/MCSD at step  10000: [1.01 0.98 0.92 1.03 0.9  0.92] 1.01\n",
      "CvrgProb at step  10000: [0.96 0.95 0.92 0.96 0.92 0.92] 0.93\n"
     ]
    }
   ],
   "source": [
    "LinearModel = ODMSGD(p=p, mu=u, generator=generator, loss=MSELoss,\n",
    "                     eps=eps, eps_inf=0.1, alpha=0.5, gamma=2/3)\n",
    "print(' ' * 25 + '[ b01  b02  b03  b11  b12  b13]  val')\n",
    "for T in [1000, 10000]: #lr = 0.5*t^(-0.667)\n",
    "    np.random.seed(0)\n",
    "    beta_bar, val_hat, P_mcsd, P_se, P_cp, V_mcsd, V_se, V_cp = MCPlugin(LinearModel, T = T, M = 200)\n",
    "    print('ASE/MCSD at step {:6}:'.format(T), np.round(P_se/P_mcsd, 2), round(V_se/V_mcsd, 2))\n",
    "    print('CvrgProb at step {:6}:'.format(T), np.round(P_cp, 2), round(V_cp, 2))"
   ]
  },
  {
   "cell_type": "code",
   "execution_count": 19,
   "metadata": {
    "ExecuteTime": {
     "end_time": "2019-03-25T15:10:18.365181Z",
     "start_time": "2019-03-25T15:10:18.357231Z"
    }
   },
   "outputs": [],
   "source": [
    "def MCPluginF(model, T, M):\n",
    "    beta_bar = np.zeros((M, 2 * p))\n",
    "    val_hat = np.zeros(M)\n",
    "    P_se_log = np.zeros((M, 2 * p))\n",
    "    V_ose_log = np.zeros(M)\n",
    "    V_fse_log = np.zeros(M)\n",
    "    P_cp = np.zeros(2 * p)\n",
    "    V_ocp = 0.\n",
    "    V_fcp = 0.\n",
    "    for i in range(M):\n",
    "        model.Initialize()\n",
    "        model.SGD(T)\n",
    "        beta_bar[i, :] = model.beta_bar\n",
    "        val_hat[i] = model.val_hat\n",
    "        P_se_log[i, :] = model.se_hat\n",
    "        V_ose_log[i] = model.vse_hat\n",
    "        V_fse_log[i] = np.sqrt(model.PluginValueVariance()/model.step)\n",
    "        P_cover = np.abs(beta_true - model.beta_bar) <= 1.96 * model.se_hat\n",
    "        V_ocover = np.abs(val_true - model.val_hat) <= 1.96 * model.vse_hat\n",
    "        V_fcover = np.abs(val_true - model.val_hat) <= 1.96 * V_fse_log[i]\n",
    "        P_cp += np.array(P_cover, dtype=float)\n",
    "        V_ocp += float(V_ocover)\n",
    "        V_fcp += float(V_fcover)\n",
    "    P_mcsd = np.std(beta_bar, axis = 0)\n",
    "    V_mcsd = np.std(val_hat, axis = 0)\n",
    "    P_se = np.mean(P_se_log, axis = 0)\n",
    "    V_ose = np.mean(V_ose_log, axis = 0)\n",
    "    V_fse = np.mean(V_fse_log, axis = 0)\n",
    "    P_cp /= M\n",
    "    V_ocp /= M\n",
    "    V_fcp /= M\n",
    "    return(beta_bar, val_hat, P_mcsd, P_se, P_cp, V_mcsd, V_ose, V_ocp, V_fse, V_fcp)"
   ]
  },
  {
   "cell_type": "code",
   "execution_count": 117,
   "metadata": {
    "ExecuteTime": {
     "end_time": "2019-03-23T22:51:25.186611Z",
     "start_time": "2019-03-23T22:19:53.210926Z"
    }
   },
   "outputs": [
    {
     "name": "stdout",
     "output_type": "stream",
     "text": [
      "                         [ b01  b02  b03  b11  b12  b13] onln finl\n",
      "ASE/MCSD at step   1000: [0.83 0.54 0.6  0.39 0.52 0.36] 0.71 0.65\n",
      "CvrgProb at step   1000: [0.9  0.84 0.85 0.76 0.7  0.77] 0.86 0.82\n",
      "ASE/MCSD at step  10000: [0.54 0.41 0.79 0.73 0.7  0.72] 0.97 0.92\n",
      "CvrgProb at step  10000: [0.92 0.89 0.87 0.9  0.88 0.88] 0.94 0.93\n",
      "ASE/MCSD at step 100000: [0.99 1.01 0.96 0.91 0.93 1.02] 1.03 0.98\n",
      "CvrgProb at step 100000: [0.94 0.94 0.94 0.92 0.94 0.95] 0.94 0.9\n"
     ]
    }
   ],
   "source": [
    "LinearModel = ODMSGD(p=p, mu=u, generator=generator, loss=MSELoss,\n",
    "                     eps=eps, eps_inf=0.1, alpha=0.5, gamma=0.501)\n",
    "print(' ' * 25 + '[ b01  b02  b03  b11  b12  b13] onln finl')\n",
    "for T in [1000, 10000, 100000]: #lr = 0.5*t^(-0.501)\n",
    "    np.random.seed(0)\n",
    "    beta_bar, val_hat, P_mcsd, P_se, P_cp, V_mcsd, V_ose, V_ocp, V_fse, V_fcp = MCPluginF(LinearModel, T = T, M = 200)\n",
    "    print('ASE/MCSD at step {:6}:'.format(T), np.round(P_se/P_mcsd, 2), \n",
    "          round(V_ose/V_mcsd, 2), round(V_fse/V_mcsd, 2))\n",
    "    print('CvrgProb at step {:6}:'.format(T), np.round(P_cp, 2),\n",
    "          round(V_ocp, 2), round(V_fcp, 2))"
   ]
  }
 ],
 "metadata": {
  "kernelspec": {
   "display_name": "Python 3",
   "language": "python",
   "name": "python3"
  },
  "language_info": {
   "codemirror_mode": {
    "name": "ipython",
    "version": 3
   },
   "file_extension": ".py",
   "mimetype": "text/x-python",
   "name": "python",
   "nbconvert_exporter": "python",
   "pygments_lexer": "ipython3",
   "version": "3.7.4"
  },
  "toc": {
   "base_numbering": 1,
   "nav_menu": {},
   "number_sections": true,
   "sideBar": true,
   "skip_h1_title": false,
   "title_cell": "Table of Contents",
   "title_sidebar": "Contents",
   "toc_cell": false,
   "toc_position": {
    "height": "calc(100% - 180px)",
    "left": "10px",
    "top": "150px",
    "width": "187px"
   },
   "toc_section_display": true,
   "toc_window_display": true
  },
  "varInspector": {
   "cols": {
    "lenName": 16,
    "lenType": 16,
    "lenVar": 40
   },
   "kernels_config": {
    "python": {
     "delete_cmd_postfix": "",
     "delete_cmd_prefix": "del ",
     "library": "var_list.py",
     "varRefreshCmd": "print(var_dic_list())"
    },
    "r": {
     "delete_cmd_postfix": ") ",
     "delete_cmd_prefix": "rm(",
     "library": "var_list.r",
     "varRefreshCmd": "cat(var_dic_list()) "
    }
   },
   "position": {
    "height": "623px",
    "left": "1174.99px",
    "right": "20px",
    "top": "127.974px",
    "width": "555px"
   },
   "types_to_exclude": [
    "module",
    "function",
    "builtin_function_or_method",
    "instance",
    "_Feature"
   ],
   "window_display": false
  }
 },
 "nbformat": 4,
 "nbformat_minor": 4
}
