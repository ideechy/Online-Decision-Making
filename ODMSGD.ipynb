{
 "cells": [
  {
   "cell_type": "code",
   "execution_count": 8,
   "metadata": {
    "ExecuteTime": {
     "end_time": "2019-11-18T04:24:45.989522Z",
     "start_time": "2019-11-18T04:24:45.087248Z"
    }
   },
   "outputs": [],
   "source": [
    "import numpy as np\n",
    "import matplotlib.pyplot as plt\n",
    "from scipy.linalg import block_diag\n",
    "from ODMSGD import ODMSGD\n",
    "from utils import *"
   ]
  },
  {
   "cell_type": "code",
   "execution_count": 2,
   "metadata": {
    "ExecuteTime": {
     "end_time": "2019-11-18T04:24:46.823851Z",
     "start_time": "2019-11-18T04:24:46.820850Z"
    }
   },
   "outputs": [],
   "source": [
    "p = 3\n",
    "sigma = 0.1\n",
    "beta_true = [0.3, -0.1, 0.7, 0.8, 0.5, -0.4]"
   ]
  },
  {
   "cell_type": "markdown",
   "metadata": {},
   "source": [
    "# Data Generation"
   ]
  },
  {
   "cell_type": "code",
   "execution_count": 3,
   "metadata": {
    "ExecuteTime": {
     "end_time": "2019-11-13T15:13:55.818193Z",
     "start_time": "2019-11-13T15:13:55.796433Z"
    }
   },
   "outputs": [],
   "source": [
    "O = LinearGenerator(beta_true, sigma, n = 10000, generate_Y = True)\n",
    "X, A, Y = O"
   ]
  },
  {
   "cell_type": "code",
   "execution_count": 4,
   "metadata": {},
   "outputs": [
    {
     "data": {
      "image/png": "[encoded data removed]",
      "text/plain": [
       "<Figure size 432x288 with 1 Axes>"
      ]
     },
     "metadata": {
      "needs_background": "light"
     },
     "output_type": "display_data"
    }
   ],
   "source": [
    "plt.hist(Y['1'] - Y['0'], 50, density=True)\n",
    "plt.xlabel(r'$\\mu(1, X; \\beta_0) - \\mu(0, X; \\beta_0)$')\n",
    "plt.ylabel('Density')\n",
    "plt.savefig(\"linear_data.pdf\")"
   ]
  },
  {
   "cell_type": "code",
   "execution_count": 5,
   "metadata": {},
   "outputs": [
    {
     "data": {
      "image/png": "[encoded data removed]",
      "text/plain": [
       "<Figure size 432x288 with 1 Axes>"
      ]
     },
     "metadata": {
      "needs_background": "light"
     },
     "output_type": "display_data"
    }
   ],
   "source": [
    "plt.hist(sigmoid(Y['1']) - sigmoid(Y['0']), 50, density=True)\n",
    "plt.xlabel(r'$\\mu(1, X; \\beta_0) - \\mu(0, X; \\beta_0)$')\n",
    "plt.ylabel('Density')\n",
    "plt.savefig(\"logistic_data.pdf\")"
   ]
  },
  {
   "cell_type": "markdown",
   "metadata": {},
   "source": [
    "# Simulation Study -- Linear Model Setting\n",
    " \n",
    "\n",
    "## Evaluation of the truth\n",
    "Pure exploration for the first 50 step, then $\\varepsilon_t = \\varepsilon_\\infty = 0.1$. Learning rate is $0.5t^{-0.501}$."
   ]
  },
  {
   "cell_type": "code",
   "execution_count": 13,
   "metadata": {
    "ExecuteTime": {
     "end_time": "2019-11-13T15:18:22.280286Z",
     "start_time": "2019-11-13T15:18:22.264371Z"
    }
   },
   "outputs": [],
   "source": [
    "def eps(t):\n",
    "    if t <= 50:\n",
    "        return(1)\n",
    "    else:\n",
    "        return(0.1)\n",
    "        #return(min(1, 0.1 * np.log(t)/np.sqrt(t)))\n",
    "        \n",
    "def generator(n=1, X=None, A=None, generate_Y=False):\n",
    "    return LinearGenerator(beta_true, sigma, n, X, A, generate_Y)\n",
    "        \n",
    "LinearModel = ODMSGD(p=p, mu=u, generator=generator, loss=MSELoss,\n",
    "                     eps=eps, eps_inf=0.1, alpha=0.5, gamma=0.501)"
   ]
  },
  {
   "cell_type": "code",
   "execution_count": 14,
   "metadata": {
    "ExecuteTime": {
     "end_time": "2019-11-13T15:18:29.093471Z",
     "start_time": "2019-11-13T15:18:28.073746Z"
    }
   },
   "outputs": [],
   "source": [
    "N = 1000000\n",
    "X, _ = generator(N)\n",
    "A = np.random.binomial(1, 0.5, N)\n",
    "O = generator(N, X, A, True)\n",
    "_, H = MSELoss(beta_true, O, return_second_moment=True)\n",
    "epsilon = 0.1\n",
    "d = np.array(u(1, X, beta_true) > u(0, X, beta_true), dtype = float)\n",
    "pi = (1 - epsilon) * d + epsilon/2\n",
    "from scipy.linalg import block_diag\n",
    "S = block_diag(np.dot(X.T/(1-pi), X), np.dot(X.T/pi, X))/(4 * N) * sigma**2\n",
    "H_inv = np.linalg.inv(H)\n",
    "V = np.dot(np.dot(H_inv, S), H_inv)\n",
    "val_true = np.mean(u(d, X, beta_true))\n",
    "VV = (np.mean(u(d, X, beta_true)**2) + sigma**2) * 2/(2 - epsilon) - val_true**2"
   ]
  },
  {
   "cell_type": "code",
   "execution_count": 15,
   "metadata": {},
   "outputs": [],
   "source": [
    "def stable(epsilon):\n",
    "    N = 1000000\n",
    "    X, _ = generator(N)\n",
    "    A = np.random.binomial(1, 0.5, N)\n",
    "    O = generator(N, X, A, True)\n",
    "    _, H = MSELoss(beta_true, O, return_second_moment=True)\n",
    "    d = np.array(u(1, X, beta_true) > u(0, X, beta_true), dtype = float)\n",
    "    pi = (1 - epsilon) * d + epsilon/2\n",
    "    S = block_diag(np.dot(X.T/(1-pi), X), np.dot(X.T/pi, X))/(4 * N) * sigma**2\n",
    "    H_inv = np.linalg.inv(H)\n",
    "    V = np.dot(np.dot(H_inv, S), H_inv)\n",
    "    val_true = np.mean(u(d, X, beta_true))\n",
    "    VV = (np.mean(u(d, X, beta_true)**2) + sigma**2) * 2/(2 - epsilon) - val_true**2\n",
    "    print(np.round(np.append(np.diag(V), VV), 4))"
   ]
  },
  {
   "cell_type": "code",
   "execution_count": 16,
   "metadata": {},
   "outputs": [
    {
     "name": "stdout",
     "output_type": "stream",
     "text": [
      "[0.1343 0.1279 0.1126 0.0757 0.0823 0.0977 0.2968]\n",
      "[1.3103 1.2485 1.0866 0.6976 0.763  0.9232 0.23  ]\n",
      "[13.1097 12.4663 10.8432  6.8978  7.6026  9.1707  0.2233]\n",
      "[130.8809 123.5364 108.7015  68.8553  75.867   91.4185   0.2231]\n"
     ]
    }
   ],
   "source": [
    "for epsilon in [0.1, 0.01, 0.001, 0.0001]:\n",
    "    stable(epsilon)"
   ]
  },
  {
   "cell_type": "markdown",
   "metadata": {},
   "source": [
    "## Parameter and its variance estimation\n",
    "### Plugin estimator is consistent"
   ]
  },
  {
   "cell_type": "code",
   "execution_count": 17,
   "metadata": {
    "ExecuteTime": {
     "end_time": "2019-04-22T17:53:01.257744Z",
     "start_time": "2019-04-22T17:48:27.817606Z"
    }
   },
   "outputs": [
    {
     "name": "stdout",
     "output_type": "stream",
     "text": [
      "True beta    : [ 0.3 -0.1  0.7  0.8  0.5 -0.4]\n",
      "TSE * sqrt(t): [0.367 0.357 0.338 0.275 0.287 0.311]\n",
      "Step     1000:\n",
      "beta estimate: [ 0.293 -0.095  0.694  0.806  0.486 -0.408]\n",
      "PSE * sqrt(t): [0.407 0.536 0.436 0.307 0.299 0.29 ]\n",
      "H estimate   : [0.544 0.397 0.572 0.537 0.514 0.45 ]\n",
      "S estimate   : [0.051 0.046 0.064 0.029 0.026 0.018]\n",
      "Step    10000:\n",
      "beta estimate: [ 0.301 -0.104  0.696  0.8    0.491 -0.4  ]\n",
      "PSE * sqrt(t): [0.373 0.381 0.348 0.295 0.306 0.312]\n",
      "H estimate   : [0.506 0.532 0.53  0.493 0.469 0.453]\n",
      "S estimate   : [0.038 0.042 0.035 0.02  0.02  0.019]\n",
      "Step   100000:\n",
      "beta estimate: [ 0.298 -0.102  0.701  0.8    0.5   -0.401]\n",
      "PSE * sqrt(t): [0.367 0.361 0.33  0.276 0.286 0.316]\n",
      "H estimate   : [0.499 0.503 0.498 0.504 0.512 0.494]\n",
      "S estimate   : [0.033 0.033 0.027 0.019 0.022 0.024]\n",
      "Step  1000000:\n",
      "beta estimate: [ 0.3 -0.1  0.7  0.8  0.5 -0.4]\n",
      "PSE * sqrt(t): [0.37  0.36  0.339 0.275 0.283 0.312]\n",
      "H estimate   : [0.499 0.5   0.498 0.501 0.501 0.498]\n",
      "S estimate   : [0.034 0.032 0.028 0.019 0.02  0.024]\n",
      "Step  2000000:\n",
      "beta estimate: [ 0.3 -0.1  0.7  0.8  0.5 -0.4]\n",
      "PSE * sqrt(t): [0.371 0.36  0.339 0.276 0.285 0.311]\n",
      "H estimate   : [0.498 0.499 0.498 0.5   0.499 0.499]\n",
      "S estimate   : [0.034 0.032 0.029 0.019 0.02  0.024]\n",
      "Step  3000000:\n",
      "beta estimate: [ 0.3 -0.1  0.7  0.8  0.5 -0.4]\n",
      "PSE * sqrt(t): [0.369 0.36  0.338 0.275 0.287 0.313]\n",
      "H estimate   : [0.499 0.499 0.5   0.5   0.5   0.499]\n",
      "S estimate   : [0.034 0.032 0.029 0.019 0.021 0.024]\n"
     ]
    }
   ],
   "source": [
    "# Plugin Method\n",
    "print('True beta    :', np.round(beta_true, 3))\n",
    "print('TSE * sqrt(t):', np.round(np.sqrt(np.diag(V)), 3))\n",
    "LinearModel.Initialize()\n",
    "for T in [1000, 9000, 90000, 900000, 1000000, 1000000]:\n",
    "    LinearModel.SGD(T)\n",
    "    print('Step {:8}:'.format(LinearModel.step))\n",
    "    print('beta estimate:', np.round(LinearModel.beta_bar, 3))\n",
    "    print('PSE * sqrt(t):', np.round(LinearModel.se_hat * np.sqrt(LinearModel.step), 3))\n",
    "    print('H estimate   :', np.round(np.diag(LinearModel.H_hat/LinearModel.step), 3))\n",
    "    print('S estimate   :', np.round(np.diag(LinearModel.S_hat/LinearModel.step), 3))"
   ]
  },
  {
   "cell_type": "code",
   "execution_count": 18,
   "metadata": {
    "ExecuteTime": {
     "end_time": "2019-04-22T17:46:24.252611Z",
     "start_time": "2019-04-22T17:46:24.243609Z"
    }
   },
   "outputs": [
    {
     "name": "stdout",
     "output_type": "stream",
     "text": [
      "H:\n",
      "[[ 0.5    0.001  0.     0.     0.     0.   ]\n",
      " [ 0.001  0.501 -0.     0.     0.     0.   ]\n",
      " [ 0.    -0.     0.498  0.     0.     0.   ]\n",
      " [ 0.     0.     0.     0.5    0.     0.   ]\n",
      " [ 0.     0.     0.     0.     0.499 -0.001]\n",
      " [ 0.     0.     0.     0.    -0.001  0.501]]\n",
      "H_hat:\n",
      "[[ 0.499 -0.001  0.001  0.     0.     0.   ]\n",
      " [-0.001  0.499  0.001  0.     0.     0.   ]\n",
      " [ 0.001  0.001  0.5    0.     0.     0.   ]\n",
      " [ 0.     0.     0.     0.5    0.    -0.   ]\n",
      " [ 0.     0.     0.     0.     0.5   -0.   ]\n",
      " [ 0.     0.     0.    -0.    -0.     0.499]]\n",
      "S:\n",
      "[[ 0.034  0.008 -0.015  0.     0.     0.   ]\n",
      " [ 0.008  0.032  0.003  0.     0.     0.   ]\n",
      " [-0.015  0.003  0.028  0.     0.     0.   ]\n",
      " [ 0.     0.     0.     0.019 -0.008  0.015]\n",
      " [ 0.     0.     0.    -0.008  0.021 -0.003]\n",
      " [ 0.     0.     0.     0.015 -0.003  0.024]]\n",
      "S_hat:\n",
      "[[ 0.034  0.008 -0.015  0.     0.     0.   ]\n",
      " [ 0.008  0.032  0.003  0.     0.     0.   ]\n",
      " [-0.015  0.003  0.029  0.     0.     0.   ]\n",
      " [ 0.     0.     0.     0.019 -0.008  0.015]\n",
      " [ 0.     0.     0.    -0.008  0.021 -0.003]\n",
      " [ 0.     0.     0.     0.015 -0.003  0.024]]\n"
     ]
    }
   ],
   "source": [
    "print('H:')\n",
    "print(np.round(H, 3))\n",
    "print('H_hat:')\n",
    "print(np.round(LinearModel.H_hat/LinearModel.step, 3))\n",
    "print('S:')\n",
    "print(np.round(S, 3))\n",
    "print('S_hat:')\n",
    "print(np.round(LinearModel.S_hat/LinearModel.step, 3))"
   ]
  },
  {
   "cell_type": "markdown",
   "metadata": {},
   "source": [
    "### Tuning of learning rate"
   ]
  },
  {
   "cell_type": "code",
   "execution_count": 19,
   "metadata": {
    "ExecuteTime": {
     "end_time": "2019-11-07T19:15:29.013356Z",
     "start_time": "2019-11-07T19:14:09.628118Z"
    }
   },
   "outputs": [
    {
     "data": {
      "image/png": "[encoded data removed]",
      "text/plain": [
       "<Figure size 432x288 with 1 Axes>"
      ]
     },
     "metadata": {
      "needs_background": "light"
     },
     "output_type": "display_data"
    },
    {
     "data": {
      "image/png": "[encoded data removed]",
      "text/plain": [
       "<Figure size 432x288 with 1 Axes>"
      ]
     },
     "metadata": {
      "needs_background": "light"
     },
     "output_type": "display_data"
    },
    {
     "data": {
      "image/png": "[encoded data removed]",
      "text/plain": [
       "<Figure size 432x288 with 1 Axes>"
      ]
     },
     "metadata": {
      "needs_background": "light"
     },
     "output_type": "display_data"
    }
   ],
   "source": [
    "T = 5000\n",
    "M = 10\n",
    "for gamma in [0.501, 2/3, 0.9]:\n",
    "    fig = plt.figure()\n",
    "    fig.suptitle(\"gamma = {:4}\".format(round(gamma, 3)))\n",
    "    for alpha in [0.5, 1, 2]:\n",
    "        LinearModel = ODMSGD(p=p, mu=u, generator=generator, loss=MSELoss,\n",
    "                             eps=eps, eps_inf=0.1, alpha=0.5, gamma=gamma)\n",
    "        MAE = np.zeros(T)\n",
    "        for _ in range(M):\n",
    "            LinearModel.Initialize()\n",
    "            LinearModel.SGD(T)\n",
    "            MAE += [np.mean(np.abs(beta-beta_true)) for beta in LinearModel.beta_bar_log[1:]]\n",
    "        MAE /= M\n",
    "        plt.plot(MAE, label = str(alpha))\n",
    "    plt.legend()\n",
    "    plt.show()"
   ]
  },
  {
   "cell_type": "markdown",
   "metadata": {},
   "source": [
    "### Comparison of estimation methods\n",
    "Plugin, Resampling and BatchMean estimators"
   ]
  },
  {
   "cell_type": "code",
   "execution_count": 21,
   "metadata": {
    "ExecuteTime": {
     "end_time": "2019-03-15T22:25:16.251506Z",
     "start_time": "2019-03-15T20:54:19.224963Z"
    }
   },
   "outputs": [
    {
     "name": "stdout",
     "output_type": "stream",
     "text": [
      "TSE * sqrt(t): [0.367 0.357 0.338 0.275 0.287 0.311]\n",
      "Step     1000:\n",
      "PSE * sqrt(t): [0.434 0.415 0.492 0.435 0.453 0.55 ]\n",
      "RSE * sqrt(t): [0.703 0.658 0.718 0.758 1.14  0.871]\n",
      "Step    10000:\n",
      "PSE * sqrt(t): [0.388 0.406 0.378 0.306 0.362 0.363]\n",
      "RSE * sqrt(t): [0.527 0.573 0.545 0.449 0.674 0.516]\n",
      "Step   100000:\n",
      "PSE * sqrt(t): [0.374 0.373 0.351 0.279 0.299 0.319]\n",
      "RSE * sqrt(t): [0.418 0.404 0.402 0.301 0.357 0.348]\n",
      "Step  1000000:\n",
      "PSE * sqrt(t): [0.368 0.359 0.339 0.275 0.288 0.311]\n",
      "RSE * sqrt(t): [0.363 0.364 0.382 0.305 0.318 0.36 ]\n"
     ]
    }
   ],
   "source": [
    "LinearModel = ODMSGD(p=p, mu=u, generator=generator, loss=MSELoss,\n",
    "                     eps=eps, eps_inf=0.1, alpha=0.5, gamma=0.501)\n",
    "# Plugin Method vs. Resampling Method\n",
    "LinearModel.Initialize()\n",
    "print('TSE * sqrt(t):', np.round(np.sqrt(np.diag(V)), 3))\n",
    "for T in [1000, 9000, 90000, 900000]:\n",
    "    LinearModel.DoubleWeighting(T = T, R = 200)\n",
    "    print('Step {:8}:'.format(LinearModel.step))\n",
    "    print('PSE * sqrt(t):', np.round(np.sqrt(np.diag(LinearModel.PluginParameterVariance())), 3))\n",
    "    print('RSE * sqrt(t):', np.round(np.sqrt(np.diag(LinearModel.ResamplingParameterVariance() * LinearModel.step)), 3))"
   ]
  },
  {
   "cell_type": "code",
   "execution_count": 22,
   "metadata": {
    "ExecuteTime": {
     "end_time": "2019-03-14T02:05:29.922490Z",
     "start_time": "2019-03-14T02:05:29.894503Z"
    }
   },
   "outputs": [],
   "source": [
    "def MC(model, T, R, M):\n",
    "    beta_bar = np.zeros((M, 2 * p))\n",
    "    P_se_log = np.zeros((M, 2 * p))\n",
    "    R_se_log = np.zeros((M, 2 * p))\n",
    "    BM_se_log = np.zeros((M, 2 * p))\n",
    "    P_cp = np.zeros(2 * p)\n",
    "    R_cp = np.zeros(2 * p)\n",
    "    BM_cp = np.zeros(2 * p)\n",
    "    for i in range(M):\n",
    "        model.Initialize()\n",
    "        model.DoubleWeighting(T = T, R = R)\n",
    "        beta_bar[i, :] = model.beta_bar\n",
    "        P_se_i = np.sqrt(np.diag(model.PluginParameterVariance())/T)\n",
    "        P_se_log[i, :] = P_se_i\n",
    "        R_se_i = np.sqrt(np.diag(model.ResamplingParameterVariance()))\n",
    "        R_se_log[i, :] = R_se_i\n",
    "        BM_se_i = np.sqrt(np.diag(model.BatchMeansParameterVariance())/T)\n",
    "        BM_se_log[i, :] = BM_se_i\n",
    "        cover_P = np.abs(beta_true - model.beta_bar) <= 1.96 * P_se_i\n",
    "        cover_R = np.abs(beta_true - model.beta_bar) <= 1.96 * R_se_i\n",
    "        cover_BM = np.abs(beta_true - model.beta_bar) <= 1.96 * BM_se_i\n",
    "        P_cp += np.array(cover_P, dtype=float)\n",
    "        R_cp += np.array(cover_R, dtype=float)\n",
    "        BM_cp += np.array(cover_BM, dtype=float)\n",
    "    mcsd = np.std(beta_bar, axis = 0)\n",
    "    P_se = np.mean(P_se_log, axis = 0)\n",
    "    R_se = np.mean(R_se_log, axis = 0)\n",
    "    BM_se = np.mean(BM_se_log, axis = 0)\n",
    "    P_cp /= M\n",
    "    R_cp /= M\n",
    "    BM_cp /= M\n",
    "    return(beta_bar, mcsd, P_se, P_cp, R_se, R_cp, BM_se, BM_cp)"
   ]
  },
  {
   "cell_type": "code",
   "execution_count": 23,
   "metadata": {
    "ExecuteTime": {
     "end_time": "2019-03-14T02:10:45.253207Z",
     "start_time": "2019-03-14T02:09:19.559115Z"
    }
   },
   "outputs": [
    {
     "name": "stdout",
     "output_type": "stream",
     "text": [
      "                             b01  b02  b03  b11  b12  b13\n",
      "PSE/MCSD at step      100: [0.97 0.71 0.85 0.91 0.92 0.83]\n",
      "PluginCP at step      100: [0.94 0.93 0.86 0.83 0.89 0.91]\n",
      "RSE/MCSD at step      100: [1.91 1.65 1.73 1.96 1.93 1.88]\n",
      "ResampCP at step      100: [1.   1.   0.89 0.94 0.92 0.97]\n",
      "BMSE/MCSD at step     100: [0.44 0.32 0.43 0.5  0.44 0.4 ]\n",
      "BtchMnCP at step      100: [0.55 0.52 0.39 0.41 0.52 0.48]\n"
     ]
    }
   ],
   "source": [
    "LinearModel = ODMSGD(p=p, mu=u, generator=generator, loss=MSELoss,\n",
    "                     eps=eps, eps_inf=0.1, alpha=0.5, gamma=0.501)\n",
    "print(' ' * 29 + 'b01  b02  b03  b11  b12  b13')\n",
    "for T in [100]: #lr = 0.5*t^(-0.501)\n",
    "    np.random.seed(1)\n",
    "    beta_bar, mcsd, P_se, P_cp, R_se, R_cp, BM_se, BM_cp = MC(LinearModel, T = T, R = 200, M = 200)\n",
    "    print('PSE/MCSD at step {:8}:'.format(T), np.round(P_se/mcsd, 2))\n",
    "    print('PluginCP at step {:8}:'.format(T), np.round(P_cp, 2))\n",
    "    print('RSE/MCSD at step {:8}:'.format(T), np.round(R_se/mcsd, 2))\n",
    "    print('ResampCP at step {:8}:'.format(T), np.round(R_cp, 2))\n",
    "    print('BMSE/MCSD at step {:7}:'.format(T), np.round(BM_se/mcsd, 2))\n",
    "    print('BtchMnCP at step {:8}:'.format(T), np.round(BM_cp, 2))"
   ]
  },
  {
   "cell_type": "code",
   "execution_count": null,
   "metadata": {},
   "outputs": [],
   "source": [
    "# A parallel version of the above cell \n",
    "# Do not run on jupyter notebook\n",
    "\n",
    "from multiprocessing import Pool\n",
    "from functools import partial\n",
    "\n",
    "def MC1(model, T, R):\n",
    "    np.random.seed()\n",
    "    model.Initialize()\n",
    "    model.DoubleWeighting(T = T, R = R)\n",
    "    P_se = np.sqrt(np.diag(model.PluginParameterVariance())/T)\n",
    "    R_se = np.sqrt(np.diag(model.ResamplingParameterVariance()))\n",
    "    BM_se = np.sqrt(np.diag(model.BatchMeansParameterVariance())/T)\n",
    "    P_cp = np.array(np.abs(beta_true - model.beta_bar) <= 1.96 * P_se, dtype=float)\n",
    "    R_cp = np.array(np.abs(beta_true - model.beta_bar) <= 1.96 * R_se, dtype=float)\n",
    "    BM_cp = np.array(np.abs(beta_true - model.beta_bar) <= 1.96 * BM_se, dtype=float)\n",
    "    return(model.beta_bar, P_se, P_cp, R_se, R_cp, BM_se, BM_cp)\n",
    "\n",
    "def ParallelMC(model, T, R, M, num_procs):\n",
    "    pool = Pool(num_procs)\n",
    "    _MC1_ = partial(MC1, model=model, T=T, R=R)\n",
    "    experiments = [pool.apply_async(_MC1_) for _ in range(M)]\n",
    "    beta_bar = [e.get()[0] for e in experiments]\n",
    "    P_se_log = [e.get()[1] for e in experiments]\n",
    "    P_cp_log = [e.get()[2] for e in experiments]\n",
    "    R_se_log = [e.get()[3] for e in experiments]\n",
    "    R_cp_log = [e.get()[4] for e in experiments]\n",
    "    BM_se_log = [e.get()[5] for e in experiments]\n",
    "    BM_cp_log = [e.get()[6] for e in experiments]\n",
    "    mcsd = np.std(beta_bar, axis=0)\n",
    "    P_se = np.mean(P_se_log, axis=0)\n",
    "    P_cp = np.mean(P_cp_log, axis=0)\n",
    "    R_se = np.mean(R_se_log, axis=0)\n",
    "    R_cp = np.mean(R_cp_log, axis=0)\n",
    "    BM_se = np.mean(BM_se_log, axis=0)\n",
    "    BM_cp = np.mean(BM_cp_log, axis=0)\n",
    "    return(beta_bar, mcsd, P_se, P_cp, R_se, R_cp, BM_se, BM_cp)\n",
    "\n",
    "if __name__ == '__main__':\n",
    "    LinearModel = ODMSGD(p=p, mu=u, generator=generator, loss=MSELoss,\n",
    "                         eps=eps, eps_inf=0.1, alpha=0.5, gamma=2/3) #lr = 0.5*t^(-0.667)\n",
    "    print(' ' * 29 + 'b01  b02  b03  b11  b12  b13')\n",
    "    for T in [1000, 10000, 100000]:\n",
    "        _, mcsd, P_se, P_cp, R_se, R_cp, BM_se, BM_cp = ParallelMC(LinearModel, T=T, R=200, M=200, num_procs=16)\n",
    "        print('PSE/MCSD at step {:8}:'.format(T), np.round(P_se/mcsd, 2))\n",
    "        print('PluginCP at step {:8}:'.format(T), np.round(P_cp, 2))\n",
    "        print('RSE/MCSD at step {:8}:'.format(T), np.round(R_se/mcsd, 2))\n",
    "        print('ResampCP at step {:8}:'.format(T), np.round(R_cp, 2))\n",
    "        print('BMSE/MCSD at step {:7}:'.format(T), np.round(BM_se/mcsd, 2))\n",
    "        print('BtchMnCP at step {:8}:'.format(T), np.round(BM_cp, 2))\n",
    "        \n",
    "# Output:\n",
    "#                              b01  b02  b03  b11  b12  b13\n",
    "# PSE/MCSD at step     1000: [0.48 0.57 0.54 0.71 0.56 0.61]\n",
    "# PluginCP at step     1000: [0.89 0.84 0.8  0.77 0.72 0.8 ]\n",
    "# RSE/MCSD at step     1000: [1.93 2.89 2.35 2.73 2.5  2.46]\n",
    "# ResampCP at step     1000: [1.   1.   0.95 1.   0.94 0.98]\n",
    "# BMSE/MCSD at step    1000: [0.27 0.36 0.36 0.47 0.4  0.38]\n",
    "# BtchMnCP at step     1000: [0.57 0.52 0.55 0.6  0.55 0.54]\n",
    "# PSE/MCSD at step    10000: [0.77 0.64 0.85 0.79 0.76 0.73]\n",
    "# PluginCP at step    10000: [0.9  0.86 0.91 0.89 0.85 0.92]\n",
    "# RSE/MCSD at step    10000: [2.72 2.72 3.58 2.2  1.96 2.27]\n",
    "# ResampCP at step    10000: [1.   1.   1.   0.98 0.98 1.  ]\n",
    "# BMSE/MCSD at step   10000: [0.66 0.59 0.78 0.66 0.66 0.63]\n",
    "# BtchMnCP at step    10000: [0.81 0.76 0.84 0.8  0.78 0.79]\n",
    "# PSE/MCSD at step   100000: [0.92 1.01 0.95 0.89 0.96 0.91]\n",
    "# PluginCP at step   100000: [0.94 0.96 0.94 0.91 0.94 0.92]\n",
    "# RSE/MCSD at step   100000: [1.48 1.84 1.68 1.55 1.96 2.21]\n",
    "# ResampCP at step   100000: [0.97 0.99 0.98 0.96 0.98 0.96]\n",
    "# BMSE/MCSD at step  100000: [0.69 0.77 0.76 0.68 0.76 0.75]\n",
    "# BtchMnCP at step   100000: [0.8  0.84 0.85 0.83 0.84 0.87]\n",
    "\n",
    "if __name__ == '__main__':\n",
    "    LinearModel = ODMSGD(p=p, mu=u, generator=generator, loss=MSELoss,\n",
    "                     eps=eps, eps_inf=0.1, alpha=0.2, gamma=0.501) #lr = 0.2*t^(-0.501)\n",
    "    print(' ' * 29 + 'b01  b02  b03  b11  b12  b13')\n",
    "    for T in [1000, 10000, 100000]:\n",
    "        _, mcsd, P_se, P_cp, R_se, R_cp, BM_se, BM_cp = ParallelMC(LinearModel, T = T, R = 200, M = 200, num_procs = 16)\n",
    "        print('PSE/MCSD at step {:8}:'.format(T), np.round(P_se/mcsd, 2))\n",
    "        print('PluginCP at step {:8}:'.format(T), np.round(P_cp, 2))\n",
    "        print('RSE/MCSD at step {:8}:'.format(T), np.round(R_se/mcsd, 2))\n",
    "        print('ResampCP at step {:8}:'.format(T), np.round(R_cp, 2))\n",
    "        print('BMSE/MCSD at step {:7}:'.format(T), np.round(BM_se/mcsd, 2))\n",
    "        print('BtchMnCP at step {:8}:'.format(T), np.round(BM_cp, 2))\n",
    "        \n",
    "# Output:\n",
    "# PSE/MCSD at step     1000: [0.8  0.66 0.61 0.82 0.72 0.7 ]\n",
    "# PluginCP at step     1000: [0.88 0.86 0.72 0.51 0.64 0.77]\n",
    "# RSE/MCSD at step     1000: [1.95 1.96 1.63 2.09 2.03 1.89]\n",
    "# ResampCP at step     1000: [1.   1.   0.92 0.86 0.9  0.93]\n",
    "# BMSE/MCSD at step    1000: [0.27 0.23 0.29 0.5  0.36 0.31]\n",
    "# BtchMnCP at step     1000: [0.38 0.34 0.27 0.2  0.27 0.34]\n",
    "# PSE/MCSD at step    10000: [0.78 0.85 0.71 0.95 0.81 0.93]\n",
    "# PluginCP at step    10000: [0.92 0.9  0.86 0.81 0.82 0.92]\n",
    "# RSE/MCSD at step    10000: [1.72 1.96 1.71 1.6  1.42 1.69]\n",
    "# ResampCP at step    10000: [0.97 0.98 0.96 0.95 0.94 0.98]\n",
    "# BMSE/MCSD at step   10000: [0.39 0.44 0.4  0.54 0.44 0.47]\n",
    "# BtchMnCP at step    10000: [0.55 0.64 0.6  0.49 0.54 0.56]\n",
    "# PSE/MCSD at step   100000: [0.99 0.98 1.09 0.95 0.9  0.89]\n",
    "# PluginCP at step   100000: [0.96 0.96 0.96 0.9  0.92 0.92]\n",
    "# RSE/MCSD at step   100000: [1.29 1.36 1.52 1.15 1.18 1.14]\n",
    "# ResampCP at step   100000: [0.98 1.   0.99 0.94 0.96 0.96]\n",
    "# BMSE/MCSD at step  100000: [0.49 0.49 0.54 0.48 0.45 0.45]\n",
    "# BtchMnCP at step   100000: [0.64 0.63 0.7  0.61 0.6  0.62]"
   ]
  },
  {
   "cell_type": "code",
   "execution_count": 24,
   "metadata": {},
   "outputs": [],
   "source": [
    "ax = np.array([[0.48, 0.57, 0.54, 0.71, 0.56, 0.61],\n",
    "               [0.77, 0.64, 0.85, 0.79, 0.76, 0.73],\n",
    "               [0.92, 1.01, 0.95, 0.89, 0.96, 0.91]])\n",
    "ay = np.array([[0.89, 0.84, 0.8 , 0.77, 0.72, 0.8 ],\n",
    "               [0.9 , 0.86, 0.91, 0.89, 0.85, 0.92],\n",
    "               [0.94, 0.96, 0.94, 0.91, 0.94, 0.92]])\n",
    "bx = np.array([[1.93, 2.89, 2.35, 2.73, 2.5 , 2.46],\n",
    "               [2.72, 2.72, 3.58, 2.2 , 1.96, 2.27],\n",
    "               [1.48, 1.84, 1.68, 1.55, 1.96, 2.21]])\n",
    "by = np.array([[1.  , 1.  , 0.95, 1.  , 0.94, 0.98],\n",
    "               [1.  , 1.  , 1.  , 0.98, 0.98, 1.  ],\n",
    "               [0.97, 0.99, 0.98, 0.96, 0.98, 0.96]])\n",
    "cx = np.array([[0.27, 0.36, 0.36, 0.47, 0.4 , 0.38],\n",
    "               [0.66, 0.59, 0.78, 0.66, 0.66, 0.63],\n",
    "               [0.69, 0.77, 0.76, 0.68, 0.76, 0.75]])\n",
    "cy = np.array([[0.57, 0.52, 0.55, 0.6 , 0.55, 0.54],\n",
    "               [0.81, 0.76, 0.84, 0.8 , 0.78, 0.79],\n",
    "               [0.8 , 0.84, 0.85, 0.83, 0.84, 0.87]])"
   ]
  },
  {
   "cell_type": "code",
   "execution_count": 25,
   "metadata": {},
   "outputs": [
    {
     "data": {
      "image/png": "[encoded data removed]",
      "text/plain": [
       "<Figure size 432x216 with 2 Axes>"
      ]
     },
     "metadata": {
      "needs_background": "light"
     },
     "output_type": "display_data"
    }
   ],
   "source": [
    "prop_cycle = plt.rcParams['axes.prop_cycle']\n",
    "colors = prop_cycle.by_key()['color']\n",
    "\n",
    "f, (ax1,ax2) = plt.subplots(1, 2, figsize=(6,3), constrained_layout=True)\n",
    "\n",
    "T = [1000, 10000, 100000]\n",
    "x = [ax, bx, cx]\n",
    "y = [ay, by, cy]\n",
    "method = ['Plugin', 'Resampling', 'Batch-means']\n",
    "for j in range(6):\n",
    "    for k in range(3):\n",
    "        if j == 0:\n",
    "            ax1.plot(np.log10(T), x[k][:, j], color = colors[k], label = method[k])\n",
    "        else:\n",
    "            ax1.plot(np.log10(T), x[k][:, j], color = colors[k])\n",
    "        ax2.plot(np.log10(T), y[k][:, j], color = colors[k])\n",
    "ax1.set_xlabel(\"$\\log_{10}$(decision steps)\")\n",
    "ax1.set_ylabel(\"average SE/MCSD\")\n",
    "ax2.set_xlabel(\"$\\log_{10}$(decision steps)\")\n",
    "ax2.set_ylabel(\"coverage probability\")\n",
    "f.legend(bbox_to_anchor=(0.5,1.02), loc=\"lower center\", borderaxespad=0, ncol=3)\n",
    "plt.savefig(\"linear_variance_estimation.pdf\", bbox_inches='tight')"
   ]
  },
  {
   "cell_type": "code",
   "execution_count": 233,
   "metadata": {
    "ExecuteTime": {
     "end_time": "2019-03-15T17:07:46.348773Z",
     "start_time": "2019-03-15T17:04:52.884393Z"
    }
   },
   "outputs": [
    {
     "name": "stdout",
     "output_type": "stream",
     "text": [
      "TSE * sqrt(t): [0.515 0.502 0.471 0.381 0.397 0.434]\n",
      "Step    1000:\n",
      "beta estimate: [ 0.141 -0.04   0.219  0.217  0.087 -0.14 ]\n",
      "se estimate  : [1.468 1.023 2.185 2.384 1.824 2.298]\n",
      "H estimate   : [0.434 0.561 0.325 0.439 0.34  0.331]\n",
      "S estimate   : [0.256 0.325 0.379 0.877 0.376 0.422]\n",
      "Step   10000:\n",
      "beta estimate: [ 0.223 -0.052  0.416  0.48   0.288 -0.246]\n",
      "se estimate  : [1.518 1.812 2.5   1.314 1.92  1.379]\n",
      "H estimate   : [0.5   0.51  0.494 0.519 0.54  0.547]\n",
      "S estimate   : [0.566 0.9   1.555 0.475 1.093 0.608]\n",
      "Step  100000:\n",
      "beta estimate: [ 0.273 -0.084  0.616  0.703  0.433 -0.352]\n",
      "se estimate  : [0.909 0.965 1.362 0.682 0.893 0.8  ]\n",
      "H estimate   : [0.488 0.487 0.497 0.494 0.493 0.495]\n",
      "S estimate   : [0.192 0.222 0.452 0.113 0.194 0.157]\n",
      "Step 1000000:\n",
      "beta estimate: [ 0.295 -0.099  0.688  0.785  0.49  -0.393]\n",
      "se estimate  : [0.579 0.579 0.649 0.431 0.488 0.498]\n",
      "H estimate   : [0.496 0.492 0.496 0.501 0.502 0.501]\n",
      "S estimate   : [0.082 0.081 0.103 0.047 0.06  0.062]\n"
     ]
    }
   ],
   "source": [
    "# Mini-Batch Method\n",
    "print('TSE * sqrt(t):', np.round(np.sqrt(np.diag(V)), 3))\n",
    "LinearModel.Initialize()\n",
    "for T in [1000, 9000, 90000, 900000]:\n",
    "    LinearModel.MBGD(T = T, B = 10)\n",
    "    print('Step {:7}:'.format(LinearModel.step))\n",
    "    print('beta estimate:', np.round(LinearModel.beta_bar, 3))\n",
    "    print('se estimate  :', np.round(LinearModel.se_hat * np.sqrt(LinearModel.step), 3))\n",
    "    print('H estimate   :', np.round(np.diag(LinearModel.H_hat/LinearModel.step), 3))\n",
    "    print('S estimate   :', np.round(np.diag(LinearModel.S_hat/LinearModel.step), 3))"
   ]
  },
  {
   "cell_type": "markdown",
   "metadata": {
    "ExecuteTime": {
     "end_time": "2019-03-23T18:04:49.556510Z",
     "start_time": "2019-03-23T18:04:49.550510Z"
    }
   },
   "source": [
    "## Value and its variance estimation"
   ]
  },
  {
   "cell_type": "code",
   "execution_count": 26,
   "metadata": {
    "ExecuteTime": {
     "end_time": "2019-04-23T14:57:02.004660Z",
     "start_time": "2019-04-23T14:57:01.999656Z"
    }
   },
   "outputs": [],
   "source": [
    "def eps(t):\n",
    "    if t <= 50:\n",
    "        return(1)\n",
    "    else:\n",
    "        return(max(t**(-0.3), 0.1))\n",
    "    \n",
    "LinearModel = ODMSGD(p=p, mu=u, generator=generator, loss=MSELoss,\n",
    "                     eps=eps, eps_inf=0.1, alpha=0.5, gamma=0.501)"
   ]
  },
  {
   "cell_type": "code",
   "execution_count": 27,
   "metadata": {
    "ExecuteTime": {
     "end_time": "2019-04-23T00:13:56.399953Z",
     "start_time": "2019-04-23T00:13:47.754954Z"
    }
   },
   "outputs": [
    {
     "name": "stdout",
     "output_type": "stream",
     "text": [
      "              Value VSE*rt\n",
      "True       : 1.0895  0.545\n",
      "Step   1000: 1.0642 0.5658\n",
      "Step  10000: 1.0888 0.5496\n",
      "Step 100000: 1.0862 0.5424\n"
     ]
    }
   ],
   "source": [
    "print(' ' * 14 + 'Value VSE*rt')\n",
    "print('True       : {:6} {:6}'.format(round(val_true, 4), round(np.sqrt(VV), 4)))\n",
    "LinearModel.Initialize()\n",
    "np.random.seed(2)\n",
    "for T in [1000, 9000, 90000]:\n",
    "    LinearModel.SGD(T)\n",
    "    #etasq_hat = LinearModel.PluginValueVariance()\n",
    "    print('Step {:6}: {:6} {:6}'.format(LinearModel.step, \n",
    "                                             np.round(LinearModel.val_hat, 4), \n",
    "                                             np.round(LinearModel.vse_hat * np.sqrt(LinearModel.step), 4)))"
   ]
  },
  {
   "cell_type": "code",
   "execution_count": 19,
   "metadata": {
    "ExecuteTime": {
     "end_time": "2019-04-18T18:39:44.853338Z",
     "start_time": "2019-04-18T18:39:44.846341Z"
    }
   },
   "outputs": [],
   "source": [
    "def MCPluginSeq(model, T, M):\n",
    "    beta_bar = np.zeros((M, T, 2 * p))\n",
    "    val_hat = np.zeros((M, T))\n",
    "    for i in range(M):\n",
    "        model.Initialize()\n",
    "        model.SGD(T)\n",
    "        beta_bar[i, :, :] = model.beta_bar_log[1:]\n",
    "        val_hat[i, :] = model.val_hat_log\n",
    "    beta_bar_m = np.mean(beta_bar, axis = 0)\n",
    "    beta_bar_u = np.quantile(beta_bar, q = 0.975, axis = 0)\n",
    "    beta_bar_l = np.quantile(beta_bar, q = 0.025, axis = 0)\n",
    "    val_hat_m = np.mean(val_hat, axis = 0)\n",
    "    val_hat_u = np.quantile(val_hat, q = 0.975, axis = 0)\n",
    "    val_hat_l = np.quantile(val_hat, q = 0.025, axis = 0)\n",
    "    return(beta_bar_m, beta_bar_u, beta_bar_l, val_hat_m, val_hat_u, val_hat_l)"
   ]
  },
  {
   "cell_type": "code",
   "execution_count": 20,
   "metadata": {
    "ExecuteTime": {
     "end_time": "2019-04-18T18:42:42.881085Z",
     "start_time": "2019-04-18T18:39:48.971059Z"
    }
   },
   "outputs": [],
   "source": [
    "LinearModel = model(mu = u, generator = LinearGenerator, loss = MSELoss,\n",
    "                    eps = eps, eps_inf = 0.05, alpha = 0.5, gamma = 2/3)\n",
    "for T in [10000]: #lr = 0.5*t^(-0.667)\n",
    "    np.random.seed(0)\n",
    "    beta_bar_m, beta_bar_u, beta_bar_l, val_hat_m, val_hat_u, val_hat_l = MCPluginSeq(LinearModel, T = T, M = 200)"
   ]
  },
  {
   "cell_type": "code",
   "execution_count": 21,
   "metadata": {
    "ExecuteTime": {
     "end_time": "2019-04-18T18:43:47.141025Z",
     "start_time": "2019-04-18T18:43:46.159059Z"
    }
   },
   "outputs": [
    {
     "data": {
      "image/png": "[encoded data removed]",
      "text/plain": [
       "<Figure size 576x288 with 2 Axes>"
      ]
     },
     "metadata": {},
     "output_type": "display_data"
    }
   ],
   "source": [
    "prop_cycle = plt.rcParams['axes.prop_cycle']\n",
    "colors = prop_cycle.by_key()['color']\n",
    "\n",
    "f, (ax1,ax2) = plt.subplots(1, 2, figsize=(8,4), constrained_layout=True)\n",
    "\n",
    "for i in range(2 * p):\n",
    "    ax1.plot(beta_bar_m[:, i], lw = 1, color = colors[i])\n",
    "    ax1.fill_between(np.arange(10000), beta_bar_l[:, i], beta_bar_u[:, i], color = colors[i], alpha = 0.4)\n",
    "    ax1.scatter(10500, beta_true[i], color = colors[i])\n",
    "    ax1.set_xlabel(\"decision steps\")\n",
    "    ax1.set_ylabel(\"parameter\")\n",
    "\n",
    "ax2.plot(val_hat_m, lw = 1, color = colors[0], label = 'Fit')\n",
    "ax2.fill_between(np.arange(10000), val_hat_l, val_hat_u, color = colors[0], alpha = 0.4, label = '95% CI')\n",
    "ax2.scatter(10500, val_true, color = colors[0])\n",
    "ax2.set_xlabel(\"decision steps\")\n",
    "ax2.set_ylabel(\"value\")\n",
    "\n",
    "plt.savefig(\"linear.pdf\")"
   ]
  },
  {
   "cell_type": "code",
   "execution_count": 18,
   "metadata": {
    "ExecuteTime": {
     "end_time": "2019-04-23T14:46:13.705656Z",
     "start_time": "2019-04-23T14:46:13.697655Z"
    }
   },
   "outputs": [],
   "source": [
    "def MCPlugin(model, T, M):\n",
    "    beta_bar = np.zeros((M, 2 * p))\n",
    "    val_hat = np.zeros(M)\n",
    "    P_se_log = np.zeros((M, 2 * p))\n",
    "    V_se_log = np.zeros(M)\n",
    "    P_cp = np.zeros(2 * p)\n",
    "    V_cp = 0.\n",
    "    for i in range(M):\n",
    "        model.Initialize()\n",
    "        model.SGD(T)\n",
    "        beta_bar[i, :] = model.beta_bar\n",
    "        val_hat[i] = model.val_hat\n",
    "        P_se_log[i, :] = model.se_hat\n",
    "        V_se_log[i] = model.vse_hat\n",
    "        P_cover = np.abs(beta_true - model.beta_bar) <= 1.96 * model.se_hat\n",
    "        V_cover = np.abs(val_true - model.val_hat) <= 1.96 * model.vse_hat\n",
    "        P_cp += np.array(P_cover, dtype = float)\n",
    "        V_cp += float(V_cover)\n",
    "    P_mcsd = np.std(beta_bar, axis = 0)\n",
    "    V_mcsd = np.std(val_hat, axis = 0)\n",
    "    P_se = np.mean(P_se_log, axis = 0)\n",
    "    V_se = np.mean(V_se_log, axis = 0)\n",
    "    P_cp /= M\n",
    "    V_cp /= M\n",
    "    return(beta_bar, val_hat, P_mcsd, P_se, P_cp, V_mcsd, V_se, V_cp)"
   ]
  },
  {
   "cell_type": "code",
   "execution_count": 19,
   "metadata": {
    "ExecuteTime": {
     "end_time": "2019-04-23T14:50:23.706654Z",
     "start_time": "2019-04-23T14:46:26.341656Z"
    }
   },
   "outputs": [
    {
     "name": "stdout",
     "output_type": "stream",
     "text": [
      "                         [ b01  b02  b03  b11  b12  b13]  val\n",
      "ASE/MCSD at step   1000: [1.   0.84 0.73 0.85 0.82 0.78] 0.96\n",
      "CvrgProb at step   1000: [0.95 0.94 0.86 0.87 0.84 0.9 ] 0.93\n",
      "ASE/MCSD at step  10000: [1.02 0.92 0.91 1.04 0.95 0.9 ] 1.01\n",
      "CvrgProb at step  10000: [0.95 0.94 0.9  0.96 0.94 0.92] 0.93\n"
     ]
    }
   ],
   "source": [
    "LinearModel = model(mu = u, generator = LinearGenerator, loss = MSELoss,\n",
    "                    eps = eps, eps_inf = 0.1, alpha = 0.5, gamma = 0.501)\n",
    "print(' ' * 25 + '[ b01  b02  b03  b11  b12  b13]  val')\n",
    "for T in [1000, 10000]: #lr = 0.5*t^(-0.667)\n",
    "    np.random.seed(0)\n",
    "    beta_bar, val_hat, P_mcsd, P_se, P_cp, V_mcsd, V_se, V_cp = MCPlugin(LinearModel, T = T, M = 200)\n",
    "    print('ASE/MCSD at step {:6}:'.format(T), np.round(P_se/P_mcsd, 2), round(V_se/V_mcsd, 2))\n",
    "    print('CvrgProb at step {:6}:'.format(T), np.round(P_cp, 2), round(V_cp, 2))"
   ]
  },
  {
   "cell_type": "code",
   "execution_count": 22,
   "metadata": {
    "ExecuteTime": {
     "end_time": "2019-04-23T15:01:20.454657Z",
     "start_time": "2019-04-23T14:57:16.673655Z"
    }
   },
   "outputs": [
    {
     "name": "stdout",
     "output_type": "stream",
     "text": [
      "                         [ b01  b02  b03  b11  b12  b13]  val\n",
      "ASE/MCSD at step   1000: [0.97 0.94 0.9  0.89 0.81 0.76] 0.91\n",
      "CvrgProb at step   1000: [0.94 0.95 0.93 0.89 0.86 0.88] 0.91\n",
      "ASE/MCSD at step  10000: [1.01 0.98 0.92 1.03 0.9  0.92] 1.01\n",
      "CvrgProb at step  10000: [0.96 0.95 0.92 0.96 0.92 0.92] 0.93\n"
     ]
    }
   ],
   "source": [
    "LinearModel = model(mu = u, generator = LinearGenerator, loss = MSELoss,\n",
    "                    eps = eps, eps_inf = 0.1, alpha = 0.5, gamma = 0.501)\n",
    "print(' ' * 25 + '[ b01  b02  b03  b11  b12  b13]  val')\n",
    "for T in [1000, 10000]: #lr = 0.5*t^(-0.667)\n",
    "    np.random.seed(0)\n",
    "    beta_bar, val_hat, P_mcsd, P_se, P_cp, V_mcsd, V_se, V_cp = MCPlugin(LinearModel, T = T, M = 200)\n",
    "    print('ASE/MCSD at step {:6}:'.format(T), np.round(P_se/P_mcsd, 2), round(V_se/V_mcsd, 2))\n",
    "    print('CvrgProb at step {:6}:'.format(T), np.round(P_cp, 2), round(V_cp, 2))"
   ]
  },
  {
   "cell_type": "code",
   "execution_count": null,
   "metadata": {},
   "outputs": [],
   "source": [
    "# A parallel version of above cells\n",
    "# eps = 1 for the first 50 steps and then 0.2, lr = 0.5*t^(-0.501)\n",
    "# M = 5000 replications\n",
    "\n",
    "#                          [beta01 beta02 beta03 beta11 beta12 beta13]  value\n",
    "# ASE/MCSD at step   1000: [0.9244 0.9048 0.8606 0.8963 0.7989 0.8337] 0.9095\n",
    "# CvrgProb at step   1000: [0.9274 0.9332 0.8952 0.8608 0.8902 0.9040] 0.9136\n",
    "# ASE/MCSD at step  10000: [0.9978 0.9562 0.9606 0.9406 0.9492 0.9280] 0.9885\n",
    "# CvrgProb at step  10000: [0.9484 0.9408 0.9360 0.9234 0.9314 0.9304] 0.9470\n",
    "# ASE/MCSD at step 100000: [0.9819 0.9786 0.9751 0.9949 0.9607 1.0019] 1.0134\n",
    "# CvrgProb at step 100000: [0.9460 0.9452 0.9464 0.9512 0.9352 0.9484] 0.9496"
   ]
  },
  {
   "cell_type": "code",
   "execution_count": 2,
   "metadata": {},
   "outputs": [],
   "source": [
    "# linear\n",
    "res1 = [[0.876, 0.821, 0.796, 0.840, 0.815, 0.716, 0.894],\n",
    "        [0.919, 0.897, 0.875, 0.875, 0.885, 0.888, 0.903],\n",
    "        [0.059, 0.062, 0.063, 0.049, 0.055, 0.059, 0.068],\n",
    "        [0.952, 0.904, 0.911, 0.945, 0.910, 0.901, 0.952],\n",
    "        [0.935, 0.928, 0.924, 0.933, 0.923, 0.923, 0.936],\n",
    "        [0.015, 0.015, 0.014, 0.011, 0.012, 0.013, 0.021],\n",
    "        [0.970, 0.973, 0.979, 0.974, 0.992, 0.955, 0.998],\n",
    "        [0.943, 0.945, 0.945, 0.944, 0.949, 0.940, 0.945],\n",
    "        [0.005, 0.004, 0.004, 0.003, 0.004, 0.004, 0.007]]\n",
    "                                                         \n",
    "res2 = [[0.929, 0.907, 0.882, 0.892, 0.814, 0.854, 0.929],\n",
    "        [0.933, 0.934, 0.892, 0.857, 0.900, 0.916, 0.911],\n",
    "        [0.043, 0.045, 0.048, 0.039, 0.045, 0.046, 0.077],\n",
    "        [0.963, 0.970, 0.957, 0.951, 0.938, 0.924, 1.005],\n",
    "        [0.938, 0.942, 0.934, 0.926, 0.933, 0.927, 0.945],\n",
    "        [0.011, 0.011, 0.010, 0.009, 0.009, 0.010, 0.024],\n",
    "        [0.983, 0.972, 0.961, 0.995, 0.988, 0.993, 1.008],\n",
    "        [0.947, 0.945, 0.940, 0.948, 0.945, 0.952, 0.948],\n",
    "        [0.003, 0.003, 0.003, 0.003, 0.003, 0.003, 0.008]]\n",
    "                                                         \n",
    "res3 = [[0.946, 0.911, 0.884, 0.905, 0.825, 0.857, 0.837],\n",
    "        [0.934, 0.931, 0.894, 0.870, 0.899, 0.916, 0.881],\n",
    "        [0.045, 0.048, 0.050, 0.040, 0.046, 0.048, 0.068],\n",
    "        [0.963, 0.924, 0.923, 0.946, 0.929, 0.925, 0.995],\n",
    "        [0.942, 0.930, 0.924, 0.928, 0.931, 0.928, 0.947],\n",
    "        [0.014, 0.014, 0.014, 0.011, 0.012, 0.013, 0.021],\n",
    "        [0.965, 0.975, 0.974, 0.987, 0.975, 0.977, 0.993],\n",
    "        [0.943, 0.948, 0.944, 0.944, 0.945, 0.946, 0.946],\n",
    "        [0.005, 0.004, 0.004, 0.003, 0.004, 0.004, 0.007]]\n",
    "x1 = np.array(res1[::3])\n",
    "y1 = np.array(res1[1::3])\n",
    "z1 = np.array(res1[2::3])\n",
    "x2 = np.array(res2[::3])\n",
    "y2 = np.array(res2[1::3])\n",
    "z2 = np.array(res2[2::3])\n",
    "x3 = np.array(res3[::3])\n",
    "y3 = np.array(res3[1::3])\n",
    "z3 = np.array(res3[2::3])"
   ]
  },
  {
   "cell_type": "code",
   "execution_count": 5,
   "metadata": {},
   "outputs": [],
   "source": [
    "# linear s=0.5\n",
    "res1 = [[0.830, 0.754, 0.742, 0.855, 0.784, 0.765, 0.883],\n",
    "        [0.897, 0.864, 0.858, 0.906, 0.865, 0.870, 0.884],\n",
    "        [0.246, 0.244, 0.234, 0.181, 0.187, 0.206, 0.093],\n",
    "        [0.962, 0.907, 0.907, 0.937, 0.900, 0.910, 0.983],\n",
    "        [0.943, 0.920, 0.924, 0.932, 0.924, 0.923, 0.938],\n",
    "        [0.073, 0.072, 0.068, 0.055, 0.057, 0.062, 0.029],\n",
    "        [0.975, 0.953, 0.983, 0.970, 0.970, 0.967, 1.008],\n",
    "        [0.944, 0.938, 0.949, 0.937, 0.941, 0.945, 0.946],\n",
    "        [0.023, 0.022, 0.021, 0.017, 0.018, 0.019, 0.009]]\n",
    "                                                         \n",
    "res2 = [[0.939, 0.889, 0.882, 0.934, 0.910, 0.897, 0.954],\n",
    "        [0.931, 0.908, 0.908, 0.927, 0.916, 0.911, 0.919],\n",
    "        [0.169, 0.168, 0.161, 0.133, 0.139, 0.149, 0.100],\n",
    "        [0.966, 0.957, 0.951, 0.946, 0.942, 0.949, 0.982],\n",
    "        [0.942, 0.941, 0.937, 0.937, 0.938, 0.936, 0.937],\n",
    "        [0.052, 0.051, 0.048, 0.040, 0.042, 0.045, 0.032],\n",
    "        [0.988, 0.987, 0.976, 1.000, 0.997, 0.978, 1.018],\n",
    "        [0.945, 0.948, 0.945, 0.952, 0.950, 0.947, 0.950],\n",
    "        [0.016, 0.016, 0.015, 0.013, 0.013, 0.014, 0.010]]\n",
    "                                                         \n",
    "res3 = [[0.968, 0.911, 0.902, 0.956, 0.914, 0.906, 0.873],\n",
    "        [0.940, 0.916, 0.911, 0.932, 0.920, 0.914, 0.896],\n",
    "        [0.187, 0.184, 0.177, 0.144, 0.149, 0.162, 0.093],\n",
    "        [0.950, 0.924, 0.921, 0.944, 0.930, 0.927, 0.976],\n",
    "        [0.940, 0.929, 0.931, 0.932, 0.931, 0.924, 0.941],\n",
    "        [0.071, 0.069, 0.065, 0.053, 0.055, 0.060, 0.029],\n",
    "        [1.000, 0.975, 0.994, 0.980, 0.970, 0.959, 0.983],\n",
    "        [0.954, 0.941, 0.949, 0.945, 0.943, 0.941, 0.943],\n",
    "        [0.023, 0.022, 0.021, 0.017, 0.018, 0.019, 0.009]]\n",
    "x1 = np.array(res1[::3])\n",
    "y1 = np.array(res1[1::3])\n",
    "z1 = np.array(res1[2::3])\n",
    "x2 = np.array(res2[::3])\n",
    "y2 = np.array(res2[1::3])\n",
    "z2 = np.array(res2[2::3])\n",
    "x3 = np.array(res3[::3])\n",
    "y3 = np.array(res3[1::3])\n",
    "z3 = np.array(res3[2::3])"
   ]
  },
  {
   "cell_type": "code",
   "execution_count": 3,
   "metadata": {},
   "outputs": [],
   "source": [
    "# logistic\n",
    "res1 = [[1.071, 1.033, 1.063, 1.011, 0.994, 1.007, 0.671],\n",
    "        [0.962, 0.954, 0.945, 0.923, 0.898, 0.910, 0.717],\n",
    "        [0.963, 0.977, 0.960, 0.708, 0.795, 0.846, 0.061],\n",
    "        [0.947, 0.925, 0.919, 0.953, 0.919, 0.922, 0.878],\n",
    "        [0.939, 0.934, 0.929, 0.941, 0.923, 0.925, 0.840],\n",
    "        [0.308, 0.312, 0.319, 0.224, 0.275, 0.287, 0.019],\n",
    "        [0.979, 0.963, 0.974, 0.994, 0.966, 0.987, 0.961],\n",
    "        [0.948, 0.941, 0.939, 0.948, 0.944, 0.950, 0.923],\n",
    "        [0.097, 0.097, 0.100, 0.070, 0.088, 0.091, 0.006]]\n",
    "                                                         \n",
    "res2 = [[1.037, 1.029, 1.016, 0.968, 0.992, 1.013, 0.816],\n",
    "        [0.955, 0.954, 0.909, 0.849, 0.876, 0.909, 0.814],\n",
    "        [0.675, 0.684, 0.669, 0.521, 0.583, 0.614, 0.066],\n",
    "        [0.948, 0.924, 0.921, 0.940, 0.922, 0.924, 0.951],\n",
    "        [0.940, 0.926, 0.927, 0.929, 0.924, 0.926, 0.905],\n",
    "        [0.219, 0.220, 0.225, 0.166, 0.199, 0.206, 0.021],\n",
    "        [0.978, 0.966, 0.969, 0.993, 0.967, 0.970, 0.974],\n",
    "        [0.945, 0.945, 0.939, 0.946, 0.944, 0.945, 0.936],\n",
    "        [0.069, 0.069, 0.072, 0.053, 0.064, 0.066, 0.007]]\n",
    "                                                          \n",
    "res3 = [[1.117, 1.127, 1.127, 1.058, 1.059, 1.101, 0.781],\n",
    "        [0.967, 0.973, 0.944, 0.885, 0.899, 0.927, 0.792],\n",
    "        [0.753, 0.758, 0.739, 0.566, 0.635, 0.676, 0.060],\n",
    "        [0.975, 0.944, 0.948, 0.960, 0.962, 0.954, 0.936],\n",
    "        [0.943, 0.938, 0.935, 0.942, 0.937, 0.935, 0.886],\n",
    "        [0.298, 0.301, 0.306, 0.218, 0.266, 0.278, 0.019],\n",
    "        [0.976, 0.963, 0.978, 0.969, 0.953, 0.966, 0.991],\n",
    "        [0.944, 0.940, 0.935, 0.940, 0.935, 0.937, 0.939],\n",
    "        [0.096, 0.097, 0.100, 0.070, 0.087, 0.091, 0.006]]\n",
    "x1 = np.array(res1[::3])\n",
    "y1 = np.array(res1[1::3])\n",
    "z1 = np.array(res1[2::3])\n",
    "x2 = np.array(res2[::3])\n",
    "y2 = np.array(res2[1::3])\n",
    "z2 = np.array(res2[2::3])\n",
    "x3 = np.array(res3[::3])\n",
    "y3 = np.array(res3[1::3])\n",
    "z3 = np.array(res3[2::3])"
   ]
  },
  {
   "cell_type": "code",
   "execution_count": 3,
   "metadata": {},
   "outputs": [
    {
     "data": {
      "text/plain": [
       "array([[0.81066667, 0.894     ],\n",
       "       [0.9205    , 0.952     ],\n",
       "       [0.97383333, 0.998     ]])"
      ]
     },
     "execution_count": 3,
     "metadata": {},
     "output_type": "execute_result"
    }
   ],
   "source": [
    "def cvrt(x):\n",
    "    return np.dstack((np.mean(x[:, :-1], axis = 1), x[:, -1])).squeeze()\n",
    "cvrt(x1)"
   ]
  },
  {
   "cell_type": "code",
   "execution_count": 6,
   "metadata": {
    "ExecuteTime": {
     "end_time": "2019-11-18T04:38:37.325487Z",
     "start_time": "2019-11-18T04:38:36.588487Z"
    }
   },
   "outputs": [
    {
     "data": {
      "image/png": "[encoded data removed]",
      "text/plain": [
       "<Figure size 648x216 with 3 Axes>"
      ]
     },
     "metadata": {
      "needs_background": "light"
     },
     "output_type": "display_data"
    }
   ],
   "source": [
    "prop_cycle = plt.rcParams['axes.prop_cycle']\n",
    "colors = prop_cycle.by_key()['color']\n",
    "\n",
    "f, (ax1,ax2,ax3) = plt.subplots(1, 3, figsize=(9,3), constrained_layout=True)\n",
    "x = np.array([cvrt(x1), cvrt(x2), cvrt(x3)])\n",
    "y = np.array([cvrt(y1), cvrt(y2), cvrt(y3)])\n",
    "z = np.array([cvrt(z1), cvrt(z2), cvrt(z3)])\n",
    "T = [1000, 10000, 100000]\n",
    "estimator = ['fixed(0.1)', 'fixed(0.2)', 'decreasing']\n",
    "linestyle = ['-', '--']\n",
    "for i in range(3):\n",
    "    for j in range(2):\n",
    "        if j == 0:\n",
    "            ax1.plot(np.log10(T), x[i, :, j], color = colors[i], linestyle = linestyle[j], label = estimator[i])\n",
    "        else:\n",
    "            ax1.plot(np.log10(T), x[i, :, j], color = colors[i], linestyle = linestyle[j])\n",
    "        ax2.plot(np.log10(T), y[i, :, j], color = colors[i], linestyle = linestyle[j])\n",
    "        ax3.plot(np.log10(T), np.sqrt(T) * z[i, :, j], color = colors[i], linestyle = linestyle[j])\n",
    "ax1.set_xlabel(r\"$\\log_{10}(t)$\")\n",
    "ax1.set_ylabel(\"average SE/MCSD\")\n",
    "ax2.set_xlabel(r\"$\\log_{10}(t)$\")\n",
    "ax2.set_ylabel(\"coverage probability\")\n",
    "ax3.set_xlabel(r\"$\\log_{10}(t)$\")\n",
    "ax3.set_ylabel(\"$\\sqrt{t}\\\\times$ average CI length\")\n",
    "f.legend(bbox_to_anchor=(0.5,1.02), loc=\"lower center\", borderaxespad=0, ncol=3)\n",
    "plt.savefig(\"linear_s5_exploration_rev.pdf\", bbox_inches='tight')"
   ]
  },
  {
   "cell_type": "code",
   "execution_count": 10,
   "metadata": {
    "ExecuteTime": {
     "end_time": "2019-11-18T04:38:37.325487Z",
     "start_time": "2019-11-18T04:38:36.588487Z"
    }
   },
   "outputs": [
    {
     "data": {
      "image/png": "[encoded data removed]",
      "text/plain": [
       "<Figure size 648x216 with 3 Axes>"
      ]
     },
     "metadata": {
      "needs_background": "light"
     },
     "output_type": "display_data"
    }
   ],
   "source": [
    "prop_cycle = plt.rcParams['axes.prop_cycle']\n",
    "colors = prop_cycle.by_key()['color']\n",
    "\n",
    "f, (ax1,ax2,ax3) = plt.subplots(1, 3, figsize=(9,3), constrained_layout=True)\n",
    "x = np.array([cvrt(x1), cvrt(x2), cvrt(x3)])\n",
    "y = np.array([cvrt(y1), cvrt(y2), cvrt(y3)])\n",
    "z = np.array([cvrt(z1), cvrt(z2), cvrt(z3)])\n",
    "T = [1000, 10000, 100000]\n",
    "estimator = ['fixed(0.1)', 'fixed(0.2)', 'decreasing']\n",
    "linestyle = ['-', '--']\n",
    "for i in range(3):\n",
    "    for j in range(2):\n",
    "        if j == 0:\n",
    "            ax1.plot(np.log10(T), x[i, :, j], color = colors[i], linestyle = linestyle[j], label = estimator[i])\n",
    "        else:\n",
    "            ax1.plot(np.log10(T), x[i, :, j], color = colors[i], linestyle = linestyle[j])\n",
    "        ax2.plot(np.log10(T), y[i, :, j], color = colors[i], linestyle = linestyle[j])\n",
    "        ax3.plot(np.log10(T), np.sqrt(T) * z[i, :, j], color = colors[i], linestyle = linestyle[j])\n",
    "ax1.set_xlabel(r\"$\\log_{10}(t)$\")\n",
    "ax1.set_ylabel(\"average SE/MCSD\")\n",
    "ax2.set_xlabel(r\"$\\log_{10}(t)$\")\n",
    "ax2.set_ylabel(\"coverage probability\")\n",
    "ax3.set_xlabel(r\"$\\log_{10}(t)$\")\n",
    "ax3.set_ylabel(\"$\\sqrt{t}\\\\times$ average CI length\")\n",
    "f.legend(bbox_to_anchor=(0.5,1.02), loc=\"lower center\", borderaxespad=0, ncol=3)\n",
    "plt.savefig(\"logistic_exploration_rev.pdf\", bbox_inches='tight')"
   ]
  },
  {
   "cell_type": "code",
   "execution_count": 19,
   "metadata": {
    "ExecuteTime": {
     "end_time": "2019-03-25T15:10:18.365181Z",
     "start_time": "2019-03-25T15:10:18.357231Z"
    }
   },
   "outputs": [],
   "source": [
    "def MCPluginF(model, T, M):\n",
    "    beta_bar = np.zeros((M, 2 * p))\n",
    "    val_hat = np.zeros(M)\n",
    "    P_se_log = np.zeros((M, 2 * p))\n",
    "    V_ose_log = np.zeros(M)\n",
    "    V_fse_log = np.zeros(M)\n",
    "    P_cp = np.zeros(2 * p)\n",
    "    V_ocp = 0.\n",
    "    V_fcp = 0.\n",
    "    for i in range(M):\n",
    "        model.Initialize()\n",
    "        model.SGD(T)\n",
    "        beta_bar[i, :] = model.beta_bar\n",
    "        val_hat[i] = model.val_hat\n",
    "        P_se_log[i, :] = model.se_hat\n",
    "        V_ose_log[i] = model.vse_hat\n",
    "        V_fse_log[i] = np.sqrt(model.PluginValueVariance()/model.step)\n",
    "        P_cover = np.abs(beta_true - model.beta_bar) <= 1.96 * model.se_hat\n",
    "        V_ocover = np.abs(val_true - model.val_hat) <= 1.96 * model.vse_hat\n",
    "        V_fcover = np.abs(val_true - model.val_hat) <= 1.96 * V_fse_log[i]\n",
    "        P_cp += np.array(P_cover, dtype=float)\n",
    "        V_ocp += float(V_ocover)\n",
    "        V_fcp += float(V_fcover)\n",
    "    P_mcsd = np.std(beta_bar, axis = 0)\n",
    "    V_mcsd = np.std(val_hat, axis = 0)\n",
    "    P_se = np.mean(P_se_log, axis = 0)\n",
    "    V_ose = np.mean(V_ose_log, axis = 0)\n",
    "    V_fse = np.mean(V_fse_log, axis = 0)\n",
    "    P_cp /= M\n",
    "    V_ocp /= M\n",
    "    V_fcp /= M\n",
    "    return(beta_bar, val_hat, P_mcsd, P_se, P_cp, V_mcsd, V_ose, V_ocp, V_fse, V_fcp)"
   ]
  },
  {
   "cell_type": "code",
   "execution_count": 117,
   "metadata": {
    "ExecuteTime": {
     "end_time": "2019-03-23T22:51:25.186611Z",
     "start_time": "2019-03-23T22:19:53.210926Z"
    }
   },
   "outputs": [
    {
     "name": "stdout",
     "output_type": "stream",
     "text": [
      "                         [ b01  b02  b03  b11  b12  b13] onln finl\n",
      "ASE/MCSD at step   1000: [0.83 0.54 0.6  0.39 0.52 0.36] 0.71 0.65\n",
      "CvrgProb at step   1000: [0.9  0.84 0.85 0.76 0.7  0.77] 0.86 0.82\n",
      "ASE/MCSD at step  10000: [0.54 0.41 0.79 0.73 0.7  0.72] 0.97 0.92\n",
      "CvrgProb at step  10000: [0.92 0.89 0.87 0.9  0.88 0.88] 0.94 0.93\n",
      "ASE/MCSD at step 100000: [0.99 1.01 0.96 0.91 0.93 1.02] 1.03 0.98\n",
      "CvrgProb at step 100000: [0.94 0.94 0.94 0.92 0.94 0.95] 0.94 0.9\n"
     ]
    }
   ],
   "source": [
    "LinearModel = model(mu = u, generator = LinearGenerator, loss = MSELoss,\n",
    "                    eps = eps, eps_inf = 0.05, alpha = 0.5, gamma = 2/3)\n",
    "print(' ' * 25 + '[ b01  b02  b03  b11  b12  b13] onln finl')\n",
    "for T in [1000, 10000, 100000]: #lr = 0.5*t^(-0.667)\n",
    "    np.random.seed(0)\n",
    "    beta_bar, val_hat, P_mcsd, P_se, P_cp, V_mcsd, V_ose, V_ocp, V_fse, V_fcp = MCPluginF(LinearModel, T = T, M = 200)\n",
    "    print('ASE/MCSD at step {:6}:'.format(T), np.round(P_se/P_mcsd, 2), \n",
    "          round(V_ose/V_mcsd, 2), round(V_fse/V_mcsd, 2))\n",
    "    print('CvrgProb at step {:6}:'.format(T), np.round(P_cp, 2),\n",
    "          round(V_ocp, 2), round(V_fcp, 2))"
   ]
  },
  {
   "cell_type": "markdown",
   "metadata": {},
   "source": [
    "# Simulation Study -- Logistic Model Setting\n",
    "Code reward as $Y = \\pm 1$. Its pmf is modeled by\n",
    "$$\n",
    "P(Y = y | A, X; \\beta) = \\frac{1}{1+e^{-yu(A, X, \\beta)}},\n",
    "$$\n",
    "where $u(\\cdot)$ is a linear function of $\\beta$. Consider the logistic loss function\n",
    "$$\n",
    "\\ell(\\beta; O) = \\log[1 + \\exp\\{-Y u(A, X; \\beta)\\}].\n",
    "$$\n",
    "The gradient is \n",
    "$$\n",
    "\\nabla\\ell(\\beta; O) = -\\frac{Y\\nabla u(A, X, \\beta)}{1 + \\exp\\{Y u(A, X; \\beta)\\}}\n",
    "$$\n",
    "and \n",
    "$$\n",
    "\\nabla^2 \\ell(\\beta) = \\frac{\\exp\\{Y u(A, X; \\beta)\\}\\nabla u(A, X, \\beta)\\{\\nabla u(A, X, \\beta)\\}^T}{[1 + \\exp\\{Y u(A, X; \\beta)\\}]^2}\n",
    "$$\n",
    "\n",
    "## Evaluation of the truth\n",
    "Pure exploration for the first 20 step, then $\\varepsilon_t = \\varepsilon_\\infty = 0.05$. Learning rate is $0.5t^{-2/3}$."
   ]
  },
  {
   "cell_type": "code",
   "execution_count": 15,
   "metadata": {
    "ExecuteTime": {
     "end_time": "2019-03-25T15:05:31.734976Z",
     "start_time": "2019-03-25T15:05:30.099438Z"
    }
   },
   "outputs": [],
   "source": [
    "LogisticModel = model(mu = logit, generator = LogisticGenerator, loss = LogisticLoss,\n",
    "                      eps = eps, eps_inf = 0.05, alpha = 0.5, gamma = 0.501)\n",
    "\n",
    "N = 1000000\n",
    "X, _ = LogisticGenerator(N)\n",
    "A = np.random.binomial(1, 0.5, N)\n",
    "O = LogisticGenerator(N, X, A, True)\n",
    "_, H = LogisticLoss(beta_true, O, return_second_moment=True)\n",
    "epsilon = 0.05\n",
    "d = np.array(logit(1, X, beta_true) > logit(0, X, beta_true), dtype = float)\n",
    "pi = (1 - epsilon) * d + epsilon/2\n",
    "U0 = u(0, X, beta_true)\n",
    "U1 = u(1, X, beta_true)\n",
    "Y0 = (np.random.binomial(1, sigmoid(U0)) - 0.5) * 2\n",
    "Y1 = (np.random.binomial(1, sigmoid(U1)) - 0.5) * 2\n",
    "den0 = (1 + np.exp(Y0 * U0))**2\n",
    "den1 = (1 + np.exp(Y1 * U1))**2\n",
    "from scipy.linalg import block_diag\n",
    "S = block_diag(np.dot(X.T/(1-pi)/den0, X), np.dot(X.T/pi/den1, X))/(4 * N)\n",
    "H_inv = np.linalg.inv(H)\n",
    "V = np.dot(np.dot(H_inv, S), H_inv)\n",
    "val_true = np.mean(logit(d, X, beta_true))\n",
    "VV = 2/(2 - epsilon) - val_true**2"
   ]
  },
  {
   "cell_type": "markdown",
   "metadata": {},
   "source": [
    "## Consistency of plugin estimator"
   ]
  },
  {
   "cell_type": "code",
   "execution_count": 75,
   "metadata": {
    "ExecuteTime": {
     "end_time": "2019-03-24T23:48:38.244519Z",
     "start_time": "2019-03-24T23:40:55.696441Z"
    }
   },
   "outputs": [
    {
     "name": "stdout",
     "output_type": "stream",
     "text": [
      "True beta    : [ 0.3 -0.1  0.7  0.8  0.5 -0.4]\n",
      "TSE * sqrt(t): [10.91  10.978 11.253  7.687  9.78  10.218]\n",
      "Step     1000:\n",
      "beta estimate: [-0.049 -0.315  1.202  0.438  0.449 -0.691]\n",
      "PSE * sqrt(t): [11.91  18.277 15.418  7.753  8.63   9.067]\n",
      "H estimate   : [0.109 0.09  0.071 0.129 0.112 0.112]\n",
      "S estimate   : [1.661 2.732 1.321 1.442 0.949 1.432]\n",
      "Step    10000:\n",
      "beta estimate: [ 0.229 -0.082  0.703  0.593  0.387 -0.622]\n",
      "PSE * sqrt(t): [10.453 11.467 12.942  8.375 10.787  9.881]\n",
      "H estimate   : [0.11  0.1   0.09  0.118 0.107 0.112]\n",
      "S estimate   : [1.384 1.258 1.418 1.4   1.3   1.513]\n",
      "Step   100000:\n",
      "beta estimate: [ 0.326 -0.092  0.645  0.777  0.506 -0.436]\n",
      "PSE * sqrt(t): [10.625 10.865 11.11   8.057 10.152 10.254]\n",
      "H estimate   : [0.111 0.109 0.096 0.104 0.095 0.101]\n",
      "S estimate   : [1.512 1.41  1.26  0.987 0.962 1.239]\n",
      "Step  1000000:\n",
      "beta estimate: [ 0.293 -0.121  0.695  0.789  0.494 -0.408]\n",
      "PSE * sqrt(t): [10.884 10.919 11.232  7.78   9.938 10.302]\n",
      "H estimate   : [0.11  0.109 0.092 0.101 0.094 0.097]\n",
      "S estimate   : [1.54  1.421 1.159 0.872 0.934 1.121]\n",
      "Step  2000000:\n",
      "beta estimate: [ 0.292 -0.105  0.7    0.796  0.494 -0.4  ]\n",
      "PSE * sqrt(t): [10.852 10.909 11.227  7.722  9.915 10.251]\n",
      "H estimate   : [0.111 0.11  0.093 0.102 0.095 0.098]\n",
      "S estimate   : [1.562 1.464 1.181 0.874 0.94  1.131]\n",
      "Step  3000000:\n",
      "beta estimate: [ 0.298 -0.103  0.7    0.798  0.498 -0.399]\n",
      "PSE * sqrt(t): [10.865 10.948 11.257  7.704  9.88  10.239]\n",
      "H estimate   : [0.111 0.11  0.092 0.102 0.095 0.097]\n",
      "S estimate   : [1.559 1.465 1.177 0.869 0.938 1.123]\n"
     ]
    }
   ],
   "source": [
    "# Plugin Method\n",
    "print('True beta    :', np.round(beta_true, 3))\n",
    "print('TSE * sqrt(t):', np.round(np.sqrt(np.diag(V)), 3))\n",
    "LogisticModel.Initialize()\n",
    "for T in [1000, 9000, 90000, 900000, 1000000, 1000000]:\n",
    "    LogisticModel.SGD(T)\n",
    "    print('Step {:8}:'.format(LogisticModel.step))\n",
    "    print('beta estimate:', np.round(LogisticModel.beta_bar, 3))\n",
    "    print('PSE * sqrt(t):', np.round(LogisticModel.se_hat * np.sqrt(LogisticModel.step), 3))\n",
    "    print('H estimate   :', np.round(np.diag(LogisticModel.H_hat/LogisticModel.step), 3))\n",
    "    print('S estimate   :', np.round(np.diag(LogisticModel.S_hat/LogisticModel.step), 3))"
   ]
  },
  {
   "cell_type": "code",
   "execution_count": 76,
   "metadata": {
    "ExecuteTime": {
     "end_time": "2019-03-24T23:49:04.573789Z",
     "start_time": "2019-03-24T23:49:04.566789Z"
    }
   },
   "outputs": [
    {
     "name": "stdout",
     "output_type": "stream",
     "text": [
      "H:\n",
      "[[ 0.11   0.001 -0.009  0.     0.     0.   ]\n",
      " [ 0.001  0.11   0.003  0.     0.     0.   ]\n",
      " [-0.009  0.003  0.091  0.     0.     0.   ]\n",
      " [ 0.     0.     0.     0.101 -0.015  0.012]\n",
      " [ 0.     0.     0.    -0.015  0.095  0.006]\n",
      " [ 0.     0.     0.     0.012  0.006  0.097]]\n",
      "H_hat:\n",
      "[[ 0.111  0.001 -0.009  0.     0.     0.   ]\n",
      " [ 0.001  0.11   0.003  0.     0.     0.   ]\n",
      " [-0.009  0.003  0.092  0.     0.     0.   ]\n",
      " [ 0.     0.     0.     0.102 -0.015  0.013]\n",
      " [ 0.     0.     0.    -0.015  0.095  0.006]\n",
      " [ 0.     0.     0.     0.013  0.006  0.097]]\n",
      "S:\n",
      "[[ 1.559  0.391 -0.699  0.     0.     0.   ]\n",
      " [ 0.391  1.467  0.154  0.     0.     0.   ]\n",
      " [-0.699  0.154  1.139  0.     0.     0.   ]\n",
      " [ 0.     0.     0.     0.855 -0.434  0.75 ]\n",
      " [ 0.     0.     0.    -0.434  0.912 -0.148]\n",
      " [ 0.     0.     0.     0.75  -0.148  1.096]]\n",
      "S_hat:\n",
      "[[ 1.559  0.392 -0.711  0.     0.     0.   ]\n",
      " [ 0.392  1.465  0.162  0.     0.     0.   ]\n",
      " [-0.711  0.162  1.177  0.     0.     0.   ]\n",
      " [ 0.     0.     0.     0.869 -0.439  0.763]\n",
      " [ 0.     0.     0.    -0.439  0.938 -0.144]\n",
      " [ 0.     0.     0.     0.763 -0.144  1.123]]\n"
     ]
    }
   ],
   "source": [
    "print('H:')\n",
    "print(np.round(H, 3))\n",
    "print('H_hat:')\n",
    "print(np.round(LogisticModel.H_hat/LogisticModel.step, 3))\n",
    "print('S:')\n",
    "print(np.round(S, 3))\n",
    "print('S_hat:')\n",
    "print(np.round(LogisticModel.S_hat/LogisticModel.step, 3))"
   ]
  },
  {
   "cell_type": "code",
   "execution_count": 77,
   "metadata": {
    "ExecuteTime": {
     "end_time": "2019-03-24T23:49:33.876721Z",
     "start_time": "2019-03-24T23:49:16.501720Z"
    }
   },
   "outputs": [
    {
     "name": "stdout",
     "output_type": "stream",
     "text": [
      "              Value VSE*rt\n",
      "True       : 0.4774 0.8932\n",
      "Step   1000: 0.4786 0.8945\n",
      "Step  10000: 0.4499 0.9059\n",
      "Step 100000: 0.4749 0.8945\n"
     ]
    }
   ],
   "source": [
    "print(' ' * 14 + 'Value VSE*rt')\n",
    "print('True       : {:6} {:6}'.format(round(val_true, 4), round(np.sqrt(VV), 4)))\n",
    "LogisticModel.Initialize()\n",
    "np.random.seed(2)\n",
    "for T in [1000, 9000, 90000]:\n",
    "    LogisticModel.SGD(T)\n",
    "    print('Step {:6}: {:6} {:6}'.format(LogisticModel.step, \n",
    "        np.round(LogisticModel.val_hat, 4), \n",
    "        np.round(LogisticModel.vse_hat * np.sqrt(LogisticModel.step), 4)))"
   ]
  },
  {
   "cell_type": "markdown",
   "metadata": {
    "ExecuteTime": {
     "end_time": "2019-03-24T21:09:52.182689Z",
     "start_time": "2019-03-24T21:09:52.179718Z"
    }
   },
   "source": [
    "## Learning rate tuning"
   ]
  },
  {
   "cell_type": "code",
   "execution_count": 63,
   "metadata": {
    "ExecuteTime": {
     "end_time": "2019-03-24T22:08:20.958070Z",
     "start_time": "2019-03-24T22:05:09.686091Z"
    }
   },
   "outputs": [
    {
     "data": {
      "image/png": "[encoded data removed]",
      "text/plain": [
       "<Figure size 432x288 with 1 Axes>"
      ]
     },
     "metadata": {},
     "output_type": "display_data"
    },
    {
     "data": {
      "image/png": "[encoded data removed]",
      "text/plain": [
       "<Figure size 432x288 with 1 Axes>"
      ]
     },
     "metadata": {},
     "output_type": "display_data"
    },
    {
     "data": {
      "image/png": "[encoded data removed]",
      "text/plain": [
       "<Figure size 432x288 with 1 Axes>"
      ]
     },
     "metadata": {},
     "output_type": "display_data"
    }
   ],
   "source": [
    "for gamma in [0.501, 2/3, 0.9]:\n",
    "    fig = plt.figure()\n",
    "    fig.suptitle(\"gamma = {:4}\".format(round(gamma, 3)))\n",
    "    for alpha in [0.01, 0.1, 1, 2]:\n",
    "        LogisticModel = model(mu = logit, generator = LogisticGenerator, loss = LogisticLoss,\n",
    "                              eps = eps, eps_inf = 0.05, alpha = alpha, gamma = gamma)\n",
    "        LogisticModel.Initialize()\n",
    "        LogisticModel.SGD(100000)\n",
    "        MAE = [np.mean(np.abs(beta-beta_true)) for beta in LogisticModel.beta_bar_log[1:]]\n",
    "        plt.plot(MAE, label = str(alpha))\n",
    "    plt.legend()\n",
    "    plt.show()"
   ]
  },
  {
   "cell_type": "code",
   "execution_count": 66,
   "metadata": {
    "ExecuteTime": {
     "end_time": "2019-03-24T23:26:23.779901Z",
     "start_time": "2019-03-24T23:10:35.666946Z"
    }
   },
   "outputs": [
    {
     "data": {
      "image/png": "[encoded data removed]",
      "text/plain": [
       "<Figure size 432x288 with 1 Axes>"
      ]
     },
     "metadata": {},
     "output_type": "display_data"
    }
   ],
   "source": [
    "T = 20000\n",
    "M = 100\n",
    "fig = plt.figure()\n",
    "fig.suptitle(\"gamma = 0.501\")\n",
    "for alpha in [0.5, 1, 2]:\n",
    "    LogisticModel = model(mu = logit, generator = LogisticGenerator, loss = LogisticLoss,\n",
    "                          eps = eps, eps_inf = 0.05, alpha = alpha, gamma = 0.501)\n",
    "    MAE = np.zeros(T)\n",
    "    for _ in range(M):\n",
    "        LogisticModel.Initialize()\n",
    "        LogisticModel.SGD(T)\n",
    "        MAE += [np.mean(np.abs(beta-beta_true)) for beta in LogisticModel.beta_bar_log[1:]]\n",
    "    MAE /= M\n",
    "    plt.plot(MAE, label = str(alpha))\n",
    "plt.legend()\n",
    "plt.show()"
   ]
  },
  {
   "cell_type": "markdown",
   "metadata": {
    "ExecuteTime": {
     "end_time": "2019-03-24T18:59:21.189928Z",
     "start_time": "2019-03-24T18:59:21.186931Z"
    }
   },
   "source": [
    "## Monte Carlo experiments"
   ]
  },
  {
   "cell_type": "code",
   "execution_count": 78,
   "metadata": {
    "ExecuteTime": {
     "end_time": "2019-03-25T00:48:10.018617Z",
     "start_time": "2019-03-24T23:50:08.743415Z"
    }
   },
   "outputs": [
    {
     "name": "stdout",
     "output_type": "stream",
     "text": [
      "                         [ b01  b02  b03  b11  b12  b13]  val\n",
      "ASE/MCSD at step   1000: [0.94 1.   0.93 0.88 0.91 0.81] 0.43\n",
      "CvrgProb at step   1000: [0.96 0.94 0.92 0.94 0.89 0.84] 0.47\n",
      "ASE/MCSD at step  10000: [0.98 0.94 0.9  0.87 0.91 0.82] 0.65\n",
      "CvrgProb at step  10000: [0.96 0.95 0.92 0.91 0.95 0.9 ] 0.58\n",
      "ASE/MCSD at step 100000: [1.05 0.99 0.97 1.02 1.07 0.99] 0.87\n",
      "CvrgProb at step 100000: [0.98 0.94 0.9  0.95 0.94 0.95] 0.85\n"
     ]
    }
   ],
   "source": [
    "LogisticModel = model(mu = logit, generator = LogisticGenerator, loss = LogisticLoss,\n",
    "                      eps = eps, eps_inf = 0.05, alpha = 0.5, gamma = 0.501)\n",
    "print(' ' * 25 + '[ b01  b02  b03  b11  b12  b13]  val')\n",
    "for T in [1000, 10000, 100000]: #lr = 0.5*t^(-0.501)\n",
    "    np.random.seed(2)\n",
    "    beta_bar, V, P_mcsd, P_se, P_cp, V_mcsd, V_se, V_cp = MCPlugin(LogisticModel, T = T, M = 200)\n",
    "    print('ASE/MCSD at step {:6}:'.format(T), np.round(P_se/P_mcsd, 2), round(V_se/V_mcsd, 2))\n",
    "    print('CvrgProb at step {:6}:'.format(T), np.round(P_cp, 2), round(V_cp, 2))"
   ]
  },
  {
   "cell_type": "code",
   "execution_count": 20,
   "metadata": {
    "ExecuteTime": {
     "end_time": "2019-03-25T16:10:47.092401Z",
     "start_time": "2019-03-25T15:10:28.844968Z"
    }
   },
   "outputs": [
    {
     "name": "stdout",
     "output_type": "stream",
     "text": [
      "                         [ b01  b02  b03  b11  b12  b13] onln finl\n",
      "ASE/MCSD at step   1000: [1.02 1.01 1.01 0.94 0.83 0.71] 0.43 0.41\n",
      "CvrgProb at step   1000: [0.96 0.96 0.94 0.94 0.89 0.9 ] 0.51 0.49\n",
      "ASE/MCSD at step  10000: [0.98 0.9  0.81 0.91 0.92 0.83] 0.6 0.59\n",
      "CvrgProb at step  10000: [0.96 0.92 0.88 0.91 0.93 0.9 ] 0.55 0.55\n",
      "ASE/MCSD at step 100000: [0.99 0.92 0.99 1.02 1.01 0.94] 0.84 0.84\n",
      "CvrgProb at step 100000: [0.94 0.92 0.9  0.96 0.94 0.9 ] 0.81 0.8\n"
     ]
    }
   ],
   "source": [
    "LogisticModel = model(mu = logit, generator = LogisticGenerator, loss = LogisticLoss,\n",
    "                      eps = eps, eps_inf = 0.05, alpha = 0.5, gamma = 0.501)\n",
    "print(' ' * 25 + '[ b01  b02  b03  b11  b12  b13] onln finl')\n",
    "for T in [1000, 10000, 100000]: #lr = 0.5*t^(-0.501)\n",
    "    np.random.seed(0)\n",
    "    beta_bar, val_hat, P_mcsd, P_se, P_cp, V_mcsd, V_ose, V_ocp, V_fse, V_fcp = MCPluginF(LogisticModel, T = T, M = 200)\n",
    "    print('ASE/MCSD at step {:6}:'.format(T), np.round(P_se/P_mcsd, 2), \n",
    "          round(V_ose/V_mcsd, 2), round(V_fse/V_mcsd, 2))\n",
    "    print('CvrgProb at step {:6}:'.format(T), np.round(P_cp, 2),\n",
    "          round(V_ocp, 2), round(V_fcp, 2))"
   ]
  },
  {
   "cell_type": "markdown",
   "metadata": {},
   "source": [
    "# Simulation Study -- Logistic Model Setting 2\n",
    "Code reward as $Y = 0, 1$. Its pmf is modeled by\n",
    "$$\n",
    "\\mu = P(Y = 1 | A, X; \\beta) = \\frac{1}{1+e^{-u(A, X, \\beta)}},\n",
    "$$\n",
    "where $u(\\cdot)$ is a linear function of $\\beta$. Consider the cross entrophy loss function\n",
    "$$\n",
    "\\ell(\\beta; O) = -Y\\log\\mu - (1 - Y)\\log(1-\\mu).\n",
    "$$\n",
    "The gradient is \n",
    "$$\n",
    "\\nabla\\ell(\\beta; O) = (\\mu - Y)\\nabla u(A, X, \\beta)\n",
    "$$\n",
    "and \n",
    "$$\n",
    "\\nabla^2 \\ell(\\beta) = (\\mu - Y)^2\\nabla u(A, X, \\beta)\\{\\nabla u(A, X, \\beta)\\}^T\n",
    "$$\n",
    "\n",
    "## Evaluation of the truth\n",
    "Pure exploration for the first 50 step, then $\\varepsilon_t = \\varepsilon_\\infty = 0.2$. Learning rate is $0.5t^{-0.501}$."
   ]
  },
  {
   "cell_type": "code",
   "execution_count": 32,
   "metadata": {
    "ExecuteTime": {
     "end_time": "2019-03-29T17:48:14.107955Z",
     "start_time": "2019-03-29T17:48:14.103955Z"
    }
   },
   "outputs": [],
   "source": [
    "def eps(t):\n",
    "    if t < 50:\n",
    "        return(1)\n",
    "    else:\n",
    "        return(0.1)"
   ]
  },
  {
   "cell_type": "code",
   "execution_count": 33,
   "metadata": {
    "ExecuteTime": {
     "end_time": "2019-04-23T00:18:54.099950Z",
     "start_time": "2019-04-23T00:18:53.082954Z"
    }
   },
   "outputs": [],
   "source": [
    "LogisticModel01 = model(mu = logit01, generator = LogisticGenerator01, loss = BCELoss,\n",
    "                        eps = eps, eps_inf = 0.1, alpha = 0.5, gamma = 0.501)\n",
    "\n",
    "N = 1000000\n",
    "X, _ = LogisticGenerator01(N)\n",
    "A = np.random.binomial(1, 0.5, N)\n",
    "O = LogisticGenerator01(N, X, A, True)\n",
    "_, H = BCELoss(beta_true, O, return_second_moment=True)\n",
    "epsilon = 0.1\n",
    "mu0 = logit01(0, X, beta_true)\n",
    "mu1 = logit01(1, X, beta_true)\n",
    "d = np.array(mu1 > mu0, dtype = float)\n",
    "pi = (1 - epsilon) * d + epsilon/2\n",
    "from scipy.linalg import block_diag\n",
    "S = block_diag(np.dot(X.T * (mu0 - mu0**2)/(1-pi), X), np.dot(X.T * (mu1 - mu1**2)/pi, X))/(4 * N)\n",
    "H_inv = np.linalg.inv(H)\n",
    "V = np.dot(np.dot(H_inv, S), H_inv)\n",
    "val_true = np.mean(logit01(d, X, beta_true))\n",
    "VV = val_true * 2/(2 - epsilon) - val_true**2"
   ]
  },
  {
   "cell_type": "markdown",
   "metadata": {},
   "source": [
    "## Consistency of plugin estimator"
   ]
  },
  {
   "cell_type": "code",
   "execution_count": 25,
   "metadata": {
    "ExecuteTime": {
     "end_time": "2019-04-22T23:46:31.591082Z",
     "start_time": "2019-04-22T23:38:03.150873Z"
    }
   },
   "outputs": [
    {
     "name": "stdout",
     "output_type": "stream",
     "text": [
      "True beta    : [ 0.3 -0.1  0.7  0.8  0.5 -0.4]\n",
      "TSE * sqrt(t): [24.233 24.325 24.982 16.777 21.63  22.545]\n",
      "Step     1000:\n",
      "beta estimate: [ 0.052 -0.092  1.184  0.565  0.591 -0.55 ]\n",
      "PSE * sqrt(t): [ 9.823 10.867  7.471  9.06  10.161  9.694]\n",
      "H estimate   : [0.103 0.12  0.082 0.136 0.103 0.151]\n",
      "S estimate   : [1.065 1.772 0.368 1.986 1.314 2.67 ]\n",
      "Step    10000:\n",
      "beta estimate: [ 0.256 -0.317  0.833  0.976  0.449 -0.342]\n",
      "PSE * sqrt(t): [21.824 21.809 22.701 14.682 20.14  22.074]\n",
      "H estimate   : [0.112 0.12  0.063 0.084 0.082 0.074]\n",
      "S estimate   : [6.338 7.699 1.971 1.726 2.541 2.503]\n",
      "Step   100000:\n",
      "beta estimate: [ 0.296 -0.094  0.777  0.769  0.58  -0.433]\n",
      "PSE * sqrt(t): [23.66  24.037 24.328 18.098 25.095 24.985]\n",
      "H estimate   : [0.11  0.104 0.082 0.098 0.089 0.09 ]\n",
      "S estimate   : [7.173 6.268 4.347 4.541 5.157 5.423]\n",
      "Step  1000000:\n",
      "beta estimate: [ 0.293 -0.121  0.712  0.792  0.512 -0.42 ]\n",
      "PSE * sqrt(t): [24.021 24.487 25.832 17.265 22.312 22.902]\n",
      "H estimate   : [0.11  0.107 0.089 0.101 0.091 0.096]\n",
      "S estimate   : [7.646 7.013 5.852 4.397 4.428 5.552]\n",
      "Step  2000000:\n",
      "beta estimate: [ 0.297 -0.116  0.718  0.799  0.513 -0.424]\n",
      "PSE * sqrt(t): [24.037 24.438 25.564 17.112 22.063 22.832]\n",
      "H estimate   : [0.111 0.108 0.09  0.101 0.093 0.094]\n",
      "S estimate   : [7.709 7.029 5.786 4.243 4.432 5.273]\n",
      "Step  3000000:\n",
      "beta estimate: [ 0.308 -0.117  0.705  0.796  0.516 -0.415]\n",
      "PSE * sqrt(t): [24.003 24.457 25.408 17.078 22.07  22.856]\n",
      "H estimate   : [0.111 0.108 0.091 0.101 0.093 0.094]\n",
      "S estimate   : [7.763 7.083 5.807 4.233 4.479 5.259]\n"
     ]
    }
   ],
   "source": [
    "# Plugin Method\n",
    "print('True beta    :', np.round(beta_true, 3))\n",
    "print('TSE * sqrt(t):', np.round(np.sqrt(np.diag(V)), 3))\n",
    "LogisticModel01.Initialize()\n",
    "for T in [1000, 9000, 90000, 900000, 1000000, 1000000]:\n",
    "    LogisticModel01.SGD(T)\n",
    "    print('Step {:8}:'.format(LogisticModel01.step))\n",
    "    print('beta estimate:', np.round(LogisticModel01.beta_bar, 3))\n",
    "    print('PSE * sqrt(t):', np.round(LogisticModel01.se_hat * np.sqrt(LogisticModel01.step), 3))\n",
    "    print('H estimate   :', np.round(np.diag(LogisticModel01.H_hat/LogisticModel01.step), 3))\n",
    "    print('S estimate   :', np.round(np.diag(LogisticModel01.S_hat/LogisticModel01.step), 3))"
   ]
  },
  {
   "cell_type": "code",
   "execution_count": 26,
   "metadata": {
    "ExecuteTime": {
     "end_time": "2019-04-22T23:46:35.788087Z",
     "start_time": "2019-04-22T23:46:35.780081Z"
    }
   },
   "outputs": [
    {
     "name": "stdout",
     "output_type": "stream",
     "text": [
      "H:\n",
      "[[ 0.11   0.001 -0.009  0.     0.     0.   ]\n",
      " [ 0.001  0.11   0.003  0.     0.     0.   ]\n",
      " [-0.009  0.003  0.091  0.     0.     0.   ]\n",
      " [ 0.     0.     0.     0.101 -0.015  0.012]\n",
      " [ 0.     0.     0.    -0.015  0.094  0.005]\n",
      " [ 0.     0.     0.     0.012  0.005  0.097]]\n",
      "H_hat:\n",
      "[[ 0.111  0.001 -0.009  0.     0.     0.   ]\n",
      " [ 0.001  0.108  0.004  0.     0.     0.   ]\n",
      " [-0.009  0.004  0.091  0.     0.     0.   ]\n",
      " [ 0.     0.     0.     0.101 -0.015  0.012]\n",
      " [ 0.     0.     0.    -0.015  0.093  0.006]\n",
      " [ 0.     0.     0.     0.012  0.006  0.094]]\n",
      "S:\n",
      "[[ 7.725  1.982 -3.564  0.     0.     0.   ]\n",
      " [ 1.982  7.251  0.783  0.     0.     0.   ]\n",
      " [-3.564  0.783  5.642  0.     0.     0.   ]\n",
      " [ 0.     0.     0.     4.154 -2.19   3.812]\n",
      " [ 0.     0.     0.    -2.19   4.469 -0.781]\n",
      " [ 0.     0.     0.     3.812 -0.781  5.415]]\n",
      "S_hat:\n",
      "[[ 7.763  2.08  -3.65   0.     0.     0.   ]\n",
      " [ 2.08   7.083  0.777  0.     0.     0.   ]\n",
      " [-3.65   0.777  5.807  0.     0.     0.   ]\n",
      " [ 0.     0.     0.     4.233 -2.189  3.766]\n",
      " [ 0.     0.     0.    -2.189  4.479 -0.709]\n",
      " [ 0.     0.     0.     3.766 -0.709  5.259]]\n"
     ]
    }
   ],
   "source": [
    "print('H:')\n",
    "print(np.round(H, 3))\n",
    "print('H_hat:')\n",
    "print(np.round(LogisticModel01.H_hat/LogisticModel01.step, 3))\n",
    "print('S:')\n",
    "print(np.round(S, 3))\n",
    "print('S_hat:')\n",
    "print(np.round(LogisticModel01.S_hat/LogisticModel01.step, 3))"
   ]
  },
  {
   "cell_type": "code",
   "execution_count": 34,
   "metadata": {
    "ExecuteTime": {
     "end_time": "2019-04-22T23:47:04.134080Z",
     "start_time": "2019-04-22T23:46:46.530080Z"
    }
   },
   "outputs": [
    {
     "name": "stdout",
     "output_type": "stream",
     "text": [
      "              Value VSE*rt\n",
      "True       : 0.7387 0.4816\n",
      "Step   1000: 0.7229 0.4882\n",
      "Step  10000: 0.7203 0.4893\n",
      "Step 100000:  0.737 0.4823\n"
     ]
    }
   ],
   "source": [
    "print(' ' * 14 + 'Value VSE*rt')\n",
    "print('True       : {:6} {:6}'.format(round(val_true, 4), round(np.sqrt(VV), 4)))\n",
    "LogisticModel01.Initialize()\n",
    "np.random.seed(2)\n",
    "for T in [1000, 9000, 90000]:\n",
    "    LogisticModel01.SGD(T)\n",
    "    print('Step {:6}: {:6} {:6}'.format(LogisticModel01.step, \n",
    "        np.round(LogisticModel01.val_hat, 4), \n",
    "        np.round(LogisticModel01.vse_hat * np.sqrt(LogisticModel01.step), 4)))"
   ]
  },
  {
   "cell_type": "code",
   "execution_count": 39,
   "metadata": {
    "ExecuteTime": {
     "end_time": "2019-04-22T23:47:04.134080Z",
     "start_time": "2019-04-22T23:46:46.530080Z"
    }
   },
   "outputs": [
    {
     "data": {
      "text/plain": [
       "[<matplotlib.lines.Line2D at 0x292c7c54f98>]"
      ]
     },
     "execution_count": 39,
     "metadata": {},
     "output_type": "execute_result"
    },
    {
     "data": {
      "image/png": "[encoded data removed]",
      "text/plain": [
       "<Figure size 432x288 with 1 Axes>"
      ]
     },
     "metadata": {},
     "output_type": "display_data"
    }
   ],
   "source": [
    "LogisticModel01.Initialize()\n",
    "np.random.seed()\n",
    "vse_hat_log = []\n",
    "for _ in range(1000):\n",
    "    LogisticModel01.SGD(10)\n",
    "    vse_hat_log.append(LogisticModel01.vse_hat * np.sqrt(LogisticModel01.step))\n",
    "#fig = plt.figure()\n",
    "plt.plot(LogisticModel01.val_hat_log, label = 'val')\n",
    "plt.plot(range(0,10000,10), vse_hat_log, label = 'vse*rt')\n",
    "#plt.legend()\n",
    "#plt.show()"
   ]
  },
  {
   "cell_type": "markdown",
   "metadata": {
    "ExecuteTime": {
     "end_time": "2019-03-24T18:59:21.189928Z",
     "start_time": "2019-03-24T18:59:21.186931Z"
    }
   },
   "source": [
    "## Monte Carlo experiments"
   ]
  },
  {
   "cell_type": "code",
   "execution_count": null,
   "metadata": {
    "ExecuteTime": {
     "end_time": "2019-04-23T00:25:29.828957Z",
     "start_time": "2019-04-23T00:19:08.750975Z"
    }
   },
   "outputs": [],
   "source": [
    "def eps(t):\n",
    "    return 1 if t < 50 else 0.1\n",
    "LogisticModel01 = model(mu = logit01, generator = LogisticGenerator01, loss = BCELoss,\n",
    "                        eps = eps, eps_inf = 0.1, alpha = 0.5, gamma = 0.501)\n",
    "print(' ' * 25 + '[ b01  b02  b03  b11  b12  b13]  val')\n",
    "for T in [1000, 10000, 100000]:\n",
    "    np.random.seed(2)\n",
    "    beta_bar, V, P_mcsd, P_se, P_cp, V_mcsd, V_se, V_cp = MCPlugin(LogisticModel01, T = T, M = 200)\n",
    "    print('ASE/MCSD at step {:6}:'.format(T), np.round(P_se/P_mcsd, 2), round(V_se/V_mcsd, 2))\n",
    "    print('CvrgProb at step {:6}:'.format(T), np.round(P_cp, 2), round(V_cp, 2))"
   ]
  },
  {
   "cell_type": "code",
   "execution_count": null,
   "metadata": {},
   "outputs": [],
   "source": [
    "# A parallel version of above cells\n",
    "# eps = 1 for the first 50 steps and then 0.2, lr = 0.5*t^(-0.501)\n",
    "# M = 5000 replications\n",
    "\n",
    "#                          [beta01 beta02 beta03 beta11 beta12 beta13]  value\n",
    "# ASE/MCSD at step   1000: [1.0313 1.0145 0.9992 0.9874 0.9806 1.0084] 0.8189\n",
    "# CvrgProb at step   1000: [0.9590 0.9550 0.9060 0.8462 0.8736 0.9064] 0.8080\n",
    "# ASE/MCSD at step  10000: [0.9549 0.9373 0.9248 0.9504 0.9160 0.9356] 0.9608\n",
    "# CvrgProb at step  10000: [0.9376 0.9330 0.9284 0.9322 0.9208 0.9268] 0.9166\n",
    "# ASE/MCSD at step 100000: [0.9979 0.9790 0.9922 0.9884 0.9703 0.9756] 0.9731\n",
    "# CvrgProb at step 100000: [0.9476 0.9438 0.9494 0.9474 0.9450 0.9458] 0.9384"
   ]
  },
  {
   "cell_type": "code",
   "execution_count": 27,
   "metadata": {
    "ExecuteTime": {
     "end_time": "2019-03-25T15:10:18.365181Z",
     "start_time": "2019-03-25T15:10:18.357231Z"
    }
   },
   "outputs": [],
   "source": [
    "def MCPluginV(model, T, M):\n",
    "    val_hat = np.zeros(M)\n",
    "    V_ose_log = np.zeros(M)\n",
    "    V_fse_log = np.zeros(M)\n",
    "    V_tse_log = np.zeros(M)\n",
    "    V_ocp = 0.\n",
    "    V_fcp = 0.\n",
    "    V_tcp = 0.\n",
    "    for i in range(M):\n",
    "        model.Initialize()\n",
    "        model.SGD(T)\n",
    "        val_hat[i] = model.val_hat\n",
    "        V_ose_log[i] = model.vse_hat\n",
    "        v1, v2 = model.PluginValueVariance()\n",
    "        V_fse_log[i] = np.sqrt(v1/model.step)\n",
    "        V_tse_log[i] = np.sqrt(v2/model.step)\n",
    "        V_ocover = np.abs(val_true - model.val_hat) <= 1.96 * model.vse_hat\n",
    "        V_fcover = np.abs(val_true - model.val_hat) <= 1.96 * V_fse_log[i]\n",
    "        V_tcover = np.abs(val_true - model.val_hat) <= 1.96 * V_tse_log[i]\n",
    "        V_ocp += float(V_ocover)\n",
    "        V_fcp += float(V_fcover)\n",
    "        V_tcp += float(V_tcover)\n",
    "    V_mcsd = np.std(val_hat, axis = 0)\n",
    "    V_ose = np.mean(V_ose_log, axis = 0)\n",
    "    V_fse = np.mean(V_fse_log, axis = 0)\n",
    "    V_tse = np.mean(V_tse_log, axis = 0)\n",
    "    V_ocp /= M\n",
    "    V_fcp /= M\n",
    "    V_tcp /= M\n",
    "    return(V_mcsd, V_ose, V_ocp, V_fse, V_fcp, V_tse, V_tcp)"
   ]
  },
  {
   "cell_type": "code",
   "execution_count": 45,
   "metadata": {
    "ExecuteTime": {
     "end_time": "2019-03-25T16:10:47.092401Z",
     "start_time": "2019-03-25T15:10:28.844968Z"
    }
   },
   "outputs": [
    {
     "name": "stdout",
     "output_type": "stream",
     "text": [
      "                         onln finl true asym\n",
      "ASE/MCSD at step    100: 0.64 0.62 0.6 0.62\n",
      "CvrgProb at step    100: 0.68 0.67 0.67\n",
      "ASE/MCSD at step   1000: 0.75 0.77 0.73 0.74\n",
      "CvrgProb at step   1000: 0.77 0.79 0.76\n"
     ]
    }
   ],
   "source": [
    "def eps(t):\n",
    "    return 1 if t < 50 else 0.1\n",
    "LogisticModel01 = model(mu = logit01, generator = LogisticGenerator01, loss = BCELoss,\n",
    "                        eps = eps, eps_inf = 0.1, alpha = 0.5, gamma = 0.501)\n",
    "print(' ' * 25 + 'onln finl true asym')\n",
    "for T in [100, 1000]: #lr = 0.5*t^(-0.501)\n",
    "    np.random.seed(0)\n",
    "    V_mcsd, V_ose, V_ocp, V_fse, V_fcp, V_tse, V_tcp = MCPluginV(LogisticModel01, T = T, M = 100)\n",
    "    print('ASE/MCSD at step {:6}:'.format(T), round(V_ose/V_mcsd, 2), round(V_fse/V_mcsd, 2), round(V_tse/V_mcsd, 2), round(np.sqrt(VV/T)/V_mcsd, 2))\n",
    "    print('CvrgProb at step {:6}:'.format(T), round(V_ocp, 2), round(V_fcp, 2), round(V_tcp, 2))"
   ]
  },
  {
   "cell_type": "code",
   "execution_count": 31,
   "metadata": {
    "ExecuteTime": {
     "end_time": "2019-03-25T16:10:47.092401Z",
     "start_time": "2019-03-25T15:10:28.844968Z"
    }
   },
   "outputs": [
    {
     "name": "stdout",
     "output_type": "stream",
     "text": [
      "                         onln finl true\n",
      "ASE/MCSD at step    100: 0.55 0.52 0.54\n",
      "CvrgProb at step    100: 0.63 0.59 0.6\n",
      "ASE/MCSD at step   1000: 0.91 0.92 0.93\n",
      "CvrgProb at step   1000: 0.91 0.91 0.91\n"
     ]
    }
   ],
   "source": [
    "def eps(t):\n",
    "    return 1 if t < 50 else 0.1\n",
    "LinearModel = model(mu = u, generator = LinearGenerator, loss = MSELoss,\n",
    "                    eps = eps, eps_inf = 0.1, alpha = 0.5, gamma = 0.501)\n",
    "print(' ' * 25 + 'onln finl true asym')\n",
    "for T in [100, 1000]: #lr = 0.5*t^(-0.501)\n",
    "    np.random.seed(0)\n",
    "    V_mcsd, V_ose, V_ocp, V_fse, V_fcp, V_tse, V_tcp = MCPluginV(LinearModel, T = T, M = 100)\n",
    "    print('ASE/MCSD at step {:6}:'.format(T), round(V_ose/V_mcsd, 2), round(V_fse/V_mcsd, 2), round(V_tse/V_mcsd, 2), round(V_tse/V_mcsd, 2))\n",
    "    print('CvrgProb at step {:6}:'.format(T), round(V_ocp, 2), round(V_fcp, 2), round(V_tcp, 2))"
   ]
  },
  {
   "cell_type": "markdown",
   "metadata": {},
   "source": [
    "# Real Data"
   ]
  },
  {
   "cell_type": "code",
   "execution_count": 15,
   "metadata": {
    "ExecuteTime": {
     "end_time": "2019-05-01T14:52:43.923977Z",
     "start_time": "2019-05-01T14:52:39.455951Z"
    }
   },
   "outputs": [],
   "source": [
    "import pandas as pd"
   ]
  },
  {
   "cell_type": "code",
   "execution_count": 16,
   "metadata": {
    "ExecuteTime": {
     "end_time": "2019-05-01T19:11:41.791929Z",
     "start_time": "2019-05-01T19:11:41.450914Z"
    }
   },
   "outputs": [
    {
     "data": {
      "text/html": [
       "<div>\n",
       "<style scoped>\n",
       "    .dataframe tbody tr th:only-of-type {\n",
       "        vertical-align: middle;\n",
       "    }\n",
       "\n",
       "    .dataframe tbody tr th {\n",
       "        vertical-align: top;\n",
       "    }\n",
       "\n",
       "    .dataframe thead th {\n",
       "        text-align: right;\n",
       "    }\n",
       "</style>\n",
       "<table border=\"1\" class=\"dataframe\">\n",
       "  <thead>\n",
       "    <tr style=\"text-align: right;\">\n",
       "      <th></th>\n",
       "      <th>Y</th>\n",
       "      <th>A</th>\n",
       "      <th>X1</th>\n",
       "      <th>X2</th>\n",
       "      <th>X3</th>\n",
       "      <th>X4</th>\n",
       "      <th>X5</th>\n",
       "      <th>match</th>\n",
       "    </tr>\n",
       "  </thead>\n",
       "  <tbody>\n",
       "    <tr>\n",
       "      <th>0</th>\n",
       "      <td>0</td>\n",
       "      <td>1</td>\n",
       "      <td>1</td>\n",
       "      <td>0.002340</td>\n",
       "      <td>0.016375</td>\n",
       "      <td>0.067361</td>\n",
       "      <td>0.859867</td>\n",
       "      <td>0</td>\n",
       "    </tr>\n",
       "    <tr>\n",
       "      <th>1</th>\n",
       "      <td>1</td>\n",
       "      <td>0</td>\n",
       "      <td>1</td>\n",
       "      <td>0.005462</td>\n",
       "      <td>0.058756</td>\n",
       "      <td>0.922599</td>\n",
       "      <td>0.000025</td>\n",
       "      <td>0</td>\n",
       "    </tr>\n",
       "    <tr>\n",
       "      <th>2</th>\n",
       "      <td>0</td>\n",
       "      <td>0</td>\n",
       "      <td>1</td>\n",
       "      <td>0.128593</td>\n",
       "      <td>0.074589</td>\n",
       "      <td>0.171554</td>\n",
       "      <td>0.000253</td>\n",
       "      <td>0</td>\n",
       "    </tr>\n",
       "    <tr>\n",
       "      <th>3</th>\n",
       "      <td>0</td>\n",
       "      <td>1</td>\n",
       "      <td>1</td>\n",
       "      <td>0.000006</td>\n",
       "      <td>0.003734</td>\n",
       "      <td>0.003554</td>\n",
       "      <td>0.991892</td>\n",
       "      <td>0</td>\n",
       "    </tr>\n",
       "    <tr>\n",
       "      <th>4</th>\n",
       "      <td>0</td>\n",
       "      <td>1</td>\n",
       "      <td>1</td>\n",
       "      <td>0.000035</td>\n",
       "      <td>0.000077</td>\n",
       "      <td>0.000154</td>\n",
       "      <td>0.998665</td>\n",
       "      <td>0</td>\n",
       "    </tr>\n",
       "  </tbody>\n",
       "</table>\n",
       "</div>"
      ],
      "text/plain": [
       "   Y  A  X1        X2        X3        X4        X5  match\n",
       "0  0  1   1  0.002340  0.016375  0.067361  0.859867      0\n",
       "1  1  0   1  0.005462  0.058756  0.922599  0.000025      0\n",
       "2  0  0   1  0.128593  0.074589  0.171554  0.000253      0\n",
       "3  0  1   1  0.000006  0.003734  0.003554  0.991892      0\n",
       "4  0  1   1  0.000035  0.000077  0.000154  0.998665      0"
      ]
     },
     "execution_count": 16,
     "metadata": {},
     "output_type": "execute_result"
    }
   ],
   "source": [
    "data = pd.read_csv(\"yahoo.csv\")\n",
    "p = 5\n",
    "data['match'] = 0\n",
    "data.head()"
   ]
  },
  {
   "cell_type": "code",
   "execution_count": 17,
   "metadata": {
    "ExecuteTime": {
     "end_time": "2019-05-01T19:11:42.669082Z",
     "start_time": "2019-05-01T19:11:42.659084Z"
    }
   },
   "outputs": [
    {
     "data": {
      "text/plain": [
       "0.047089344843897825"
      ]
     },
     "execution_count": 17,
     "metadata": {},
     "output_type": "execute_result"
    }
   ],
   "source": [
    "np.sum(data.Y)/data.shape[0]"
   ]
  },
  {
   "cell_type": "code",
   "execution_count": 18,
   "metadata": {
    "ExecuteTime": {
     "end_time": "2019-05-01T19:11:43.974095Z",
     "start_time": "2019-05-01T19:11:43.970069Z"
    }
   },
   "outputs": [],
   "source": [
    "import statsmodels.api as sm"
   ]
  },
  {
   "cell_type": "code",
   "execution_count": 45,
   "metadata": {
    "ExecuteTime": {
     "end_time": "2019-05-01T19:11:45.018595Z",
     "start_time": "2019-05-01T19:11:44.959596Z"
    }
   },
   "outputs": [
    {
     "data": {
      "text/html": [
       "<div>\n",
       "<style scoped>\n",
       "    .dataframe tbody tr th:only-of-type {\n",
       "        vertical-align: middle;\n",
       "    }\n",
       "\n",
       "    .dataframe tbody tr th {\n",
       "        vertical-align: top;\n",
       "    }\n",
       "\n",
       "    .dataframe thead th {\n",
       "        text-align: right;\n",
       "    }\n",
       "</style>\n",
       "<table border=\"1\" class=\"dataframe\">\n",
       "  <thead>\n",
       "    <tr style=\"text-align: right;\">\n",
       "      <th></th>\n",
       "      <th>Y</th>\n",
       "      <th>A</th>\n",
       "      <th>X1</th>\n",
       "      <th>X2</th>\n",
       "      <th>X3</th>\n",
       "      <th>X4</th>\n",
       "      <th>X5</th>\n",
       "      <th>match</th>\n",
       "      <th>Areal</th>\n",
       "    </tr>\n",
       "  </thead>\n",
       "  <tbody>\n",
       "    <tr>\n",
       "      <th>0</th>\n",
       "      <td>0</td>\n",
       "      <td>1</td>\n",
       "      <td>1</td>\n",
       "      <td>0.002340</td>\n",
       "      <td>0.016375</td>\n",
       "      <td>0.067361</td>\n",
       "      <td>0.859867</td>\n",
       "      <td>0</td>\n",
       "      <td>1</td>\n",
       "    </tr>\n",
       "    <tr>\n",
       "      <th>1</th>\n",
       "      <td>1</td>\n",
       "      <td>0</td>\n",
       "      <td>1</td>\n",
       "      <td>0.005462</td>\n",
       "      <td>0.058756</td>\n",
       "      <td>0.922599</td>\n",
       "      <td>0.000025</td>\n",
       "      <td>0</td>\n",
       "      <td>0</td>\n",
       "    </tr>\n",
       "    <tr>\n",
       "      <th>2</th>\n",
       "      <td>0</td>\n",
       "      <td>0</td>\n",
       "      <td>1</td>\n",
       "      <td>0.128593</td>\n",
       "      <td>0.074589</td>\n",
       "      <td>0.171554</td>\n",
       "      <td>0.000253</td>\n",
       "      <td>0</td>\n",
       "      <td>1</td>\n",
       "    </tr>\n",
       "    <tr>\n",
       "      <th>3</th>\n",
       "      <td>0</td>\n",
       "      <td>1</td>\n",
       "      <td>1</td>\n",
       "      <td>0.000006</td>\n",
       "      <td>0.003734</td>\n",
       "      <td>0.003554</td>\n",
       "      <td>0.991892</td>\n",
       "      <td>0</td>\n",
       "      <td>1</td>\n",
       "    </tr>\n",
       "    <tr>\n",
       "      <th>4</th>\n",
       "      <td>0</td>\n",
       "      <td>1</td>\n",
       "      <td>1</td>\n",
       "      <td>0.000035</td>\n",
       "      <td>0.000077</td>\n",
       "      <td>0.000154</td>\n",
       "      <td>0.998665</td>\n",
       "      <td>0</td>\n",
       "      <td>1</td>\n",
       "    </tr>\n",
       "  </tbody>\n",
       "</table>\n",
       "</div>"
      ],
      "text/plain": [
       "   Y  A  X1        X2        X3        X4        X5  match  Areal\n",
       "0  0  1   1  0.002340  0.016375  0.067361  0.859867      0      1\n",
       "1  1  0   1  0.005462  0.058756  0.922599  0.000025      0      0\n",
       "2  0  0   1  0.128593  0.074589  0.171554  0.000253      0      1\n",
       "3  0  1   1  0.000006  0.003734  0.003554  0.991892      0      1\n",
       "4  0  1   1  0.000035  0.000077  0.000154  0.998665      0      1"
      ]
     },
     "execution_count": 45,
     "metadata": {},
     "output_type": "execute_result"
    }
   ],
   "source": [
    "beta0_real = np.array([-2.8, -0.4, -0.4, 0.1, -1.1])\n",
    "beta1_real = np.array([-2.6, -0.2, -0.4, -0.2, -1.1])\n",
    "X = data.loc[:, 'X1':'X5'].to_numpy()\n",
    "data['Areal'] = np.array(X.dot(beta1_real) > X.dot(beta0_real), dtype = int)[:]\n",
    "data.head()"
   ]
  },
  {
   "cell_type": "code",
   "execution_count": 58,
   "metadata": {
    "ExecuteTime": {
     "end_time": "2019-05-01T19:18:11.345613Z",
     "start_time": "2019-05-01T19:18:11.211637Z"
    }
   },
   "outputs": [
    {
     "name": "stdout",
     "output_type": "stream",
     "text": [
      "                 Generalized Linear Model Regression Results                  \n",
      "==============================================================================\n",
      "Dep. Variable:                      Y   No. Observations:                24214\n",
      "Model:                            GLM   Df Residuals:                    24209\n",
      "Model Family:                Binomial   Df Model:                            4\n",
      "Link Function:                  logit   Scale:                          1.0000\n",
      "Method:                          IRLS   Log-Likelihood:                -7232.3\n",
      "Date:                Wed, 01 May 2019   Deviance:                       14465.\n",
      "Time:                        15:18:11   Pearson chi2:                 2.43e+04\n",
      "No. Iterations:                     6   Covariance Type:             nonrobust\n",
      "==============================================================================\n",
      "                 coef    std err          z      P>|z|      [0.025      0.975]\n",
      "------------------------------------------------------------------------------\n",
      "X1           -10.5928      0.691    -15.331      0.000     -11.947      -9.239\n",
      "X2             7.0805      1.098      6.446      0.000       4.928       9.233\n",
      "X3             8.4087      0.837     10.045      0.000       6.768      10.049\n",
      "X4             8.7085      0.704     12.363      0.000       7.328      10.089\n",
      "X5             4.8451      1.760      2.753      0.006       1.395       8.295\n",
      "==============================================================================\n"
     ]
    }
   ],
   "source": [
    "X0 = data.loc[np.logical_and(data.A == 0, data.Areal == 0), 'X1':'X5']\n",
    "Y0 = data.loc[np.logical_and(data.A == 0, data.Areal == 0), 'Y']\n",
    "results = sm.GLM(Y0, X0, family = sm.families.Binomial()).fit()\n",
    "print(results.summary())"
   ]
  },
  {
   "cell_type": "code",
   "execution_count": 59,
   "metadata": {
    "ExecuteTime": {
     "end_time": "2019-05-01T19:18:41.713926Z",
     "start_time": "2019-05-01T19:18:40.938961Z"
    }
   },
   "outputs": [
    {
     "name": "stdout",
     "output_type": "stream",
     "text": [
      "                 Generalized Linear Model Regression Results                  \n",
      "==============================================================================\n",
      "Dep. Variable:                      Y   No. Observations:               179817\n",
      "Model:                            GLM   Df Residuals:                   179812\n",
      "Model Family:                Binomial   Df Model:                            4\n",
      "Link Function:                  logit   Scale:                          1.0000\n",
      "Method:                          IRLS   Log-Likelihood:                -33744.\n",
      "Date:                Wed, 01 May 2019   Deviance:                       67487.\n",
      "Time:                        15:18:41   Pearson chi2:                 1.79e+05\n",
      "No. Iterations:                     7   Covariance Type:             nonrobust\n",
      "==============================================================================\n",
      "                 coef    std err          z      P>|z|      [0.025      0.975]\n",
      "------------------------------------------------------------------------------\n",
      "X1            -3.5811      0.041    -88.371      0.000      -3.660      -3.502\n",
      "X2             0.6724      0.062     10.811      0.000       0.550       0.794\n",
      "X3             0.7091      0.050     14.152      0.000       0.611       0.807\n",
      "X4             1.4209      0.072     19.812      0.000       1.280       1.561\n",
      "X5            -0.4200      0.063     -6.676      0.000      -0.543      -0.297\n",
      "==============================================================================\n"
     ]
    }
   ],
   "source": [
    "X1 = data.loc[np.logical_and(data.A == 1, data.Areal == 1), 'X1':'X5']\n",
    "Y1 = data.loc[np.logical_and(data.A == 1, data.Areal == 1), 'Y']\n",
    "results = sm.GLM(Y1, X1, family = sm.families.Binomial()).fit()\n",
    "print(results.summary())"
   ]
  },
  {
   "cell_type": "code",
   "execution_count": 62,
   "metadata": {
    "ExecuteTime": {
     "end_time": "2019-05-01T19:28:37.487686Z",
     "start_time": "2019-05-01T19:28:36.515682Z"
    }
   },
   "outputs": [
    {
     "name": "stdout",
     "output_type": "stream",
     "text": [
      "                 Generalized Linear Model Regression Results                  \n",
      "==============================================================================\n",
      "Dep. Variable:                      Y   No. Observations:               201471\n",
      "Model:                            GLM   Df Residuals:                   201466\n",
      "Model Family:                Binomial   Df Model:                            4\n",
      "Link Function:                  logit   Scale:                          1.0000\n",
      "Method:                          IRLS   Log-Likelihood:                -34434.\n",
      "Date:                Wed, 01 May 2019   Deviance:                       68868.\n",
      "Time:                        15:28:37   Pearson chi2:                 1.99e+05\n",
      "No. Iterations:                     8   Covariance Type:             nonrobust\n",
      "==============================================================================\n",
      "                 coef    std err          z      P>|z|      [0.025      0.975]\n",
      "------------------------------------------------------------------------------\n",
      "X1            -3.9364      0.043    -92.169      0.000      -4.020      -3.853\n",
      "X2             0.5723      0.072      7.979      0.000       0.432       0.713\n",
      "X3             0.6202      0.057     10.939      0.000       0.509       0.731\n",
      "X4             1.8971      0.054     35.182      0.000       1.791       2.003\n",
      "X5            -0.6345      0.077     -8.259      0.000      -0.785      -0.484\n",
      "==============================================================================\n"
     ]
    }
   ],
   "source": [
    "X0 = data.loc[data.A == 0, 'X1':'X5']\n",
    "Y0 = data.loc[data.A == 0, 'Y']\n",
    "results = sm.GLM(Y0, X0, family = sm.families.Binomial()).fit()\n",
    "print(results.summary())"
   ]
  },
  {
   "cell_type": "code",
   "execution_count": 61,
   "metadata": {
    "ExecuteTime": {
     "end_time": "2019-05-01T19:27:58.537381Z",
     "start_time": "2019-05-01T19:27:57.698375Z"
    }
   },
   "outputs": [
    {
     "name": "stdout",
     "output_type": "stream",
     "text": [
      "                 Generalized Linear Model Regression Results                  \n",
      "==============================================================================\n",
      "Dep. Variable:                      Y   No. Observations:               204417\n",
      "Model:                            GLM   Df Residuals:                   204412\n",
      "Model Family:                Binomial   Df Model:                            4\n",
      "Link Function:                  logit   Scale:                          1.0000\n",
      "Method:                          IRLS   Log-Likelihood:                -40492.\n",
      "Date:                Wed, 01 May 2019   Deviance:                       80984.\n",
      "Time:                        15:27:58   Pearson chi2:                 2.04e+05\n",
      "No. Iterations:                     7   Covariance Type:             nonrobust\n",
      "==============================================================================\n",
      "                 coef    std err          z      P>|z|      [0.025      0.975]\n",
      "------------------------------------------------------------------------------\n",
      "X1            -3.5359      0.038    -93.953      0.000      -3.610      -3.462\n",
      "X2             0.6628      0.062     10.769      0.000       0.542       0.783\n",
      "X3             0.6884      0.049     14.094      0.000       0.593       0.784\n",
      "X4             1.2356      0.050     24.652      0.000       1.137       1.334\n",
      "X5            -0.4607      0.061     -7.524      0.000      -0.581      -0.341\n",
      "==============================================================================\n"
     ]
    }
   ],
   "source": [
    "X1 = data.loc[data.A == 1, 'X1':'X5']\n",
    "Y1 = data.loc[data.A == 1, 'Y']\n",
    "results = sm.GLM(Y1, X1, family = sm.families.Binomial()).fit()\n",
    "print(results.summary())"
   ]
  },
  {
   "cell_type": "markdown",
   "metadata": {},
   "source": [
    "## Environment simulation"
   ]
  },
  {
   "cell_type": "code",
   "execution_count": 19,
   "metadata": {
    "ExecuteTime": {
     "end_time": "2019-03-29T19:36:31.102708Z",
     "start_time": "2019-03-29T19:36:31.096704Z"
    }
   },
   "outputs": [],
   "source": [
    "def RealGenerator(n=1, X=None, A=None, generate_Y=False):\n",
    "    df = data[data.match == 0].head(n)\n",
    "    if X is None and A is None:\n",
    "        X = df.loc[:, 'X1':'X' + str(p)].to_numpy()\n",
    "        A = df.loc[:, 'A'].to_numpy().squeeze()\n",
    "    if not generate_Y:\n",
    "        return(X, A)\n",
    "    else:\n",
    "        Y = df.loc[:, 'Y'].to_numpy().squeeze()\n",
    "        # mark match = 1\n",
    "        data.loc[data[data.match == 0].index[0:n], 'match'] = 1\n",
    "        return((X, A, Y))"
   ]
  },
  {
   "cell_type": "code",
   "execution_count": 21,
   "metadata": {},
   "outputs": [],
   "source": [
    "def eps(t):\n",
    "    if t <= 50:\n",
    "        return(1)\n",
    "    else:\n",
    "        return(max(t**(-0.3), 0.1))"
   ]
  },
  {
   "cell_type": "code",
   "execution_count": 23,
   "metadata": {
    "ExecuteTime": {
     "end_time": "2019-03-29T19:39:25.766740Z",
     "start_time": "2019-03-29T19:36:33.369704Z"
    }
   },
   "outputs": [],
   "source": [
    "np.random.seed(1)\n",
    "YahooLogistic = model(mu = logit01, generator = RealGenerator, loss = BCELoss,\n",
    "                      eps = eps, eps_inf = 0.1, alpha = 0.5, gamma = 0.501)\n",
    "YahooLogistic.Initialize()\n",
    "data['match'] = 0\n",
    "YahooLogistic.SGD(T = 1000, real_data = True)"
   ]
  },
  {
   "cell_type": "code",
   "execution_count": 24,
   "metadata": {},
   "outputs": [
    {
     "data": {
      "text/html": [
       "<div>\n",
       "<style scoped>\n",
       "    .dataframe tbody tr th:only-of-type {\n",
       "        vertical-align: middle;\n",
       "    }\n",
       "\n",
       "    .dataframe tbody tr th {\n",
       "        vertical-align: top;\n",
       "    }\n",
       "\n",
       "    .dataframe thead th {\n",
       "        text-align: right;\n",
       "    }\n",
       "</style>\n",
       "<table border=\"1\" class=\"dataframe\">\n",
       "  <thead>\n",
       "    <tr style=\"text-align: right;\">\n",
       "      <th></th>\n",
       "      <th>Y</th>\n",
       "      <th>A</th>\n",
       "      <th>X1</th>\n",
       "      <th>X2</th>\n",
       "      <th>X3</th>\n",
       "      <th>X4</th>\n",
       "      <th>X5</th>\n",
       "      <th>match</th>\n",
       "    </tr>\n",
       "  </thead>\n",
       "  <tbody>\n",
       "    <tr>\n",
       "      <th>0</th>\n",
       "      <td>0</td>\n",
       "      <td>1</td>\n",
       "      <td>1</td>\n",
       "      <td>0.002340</td>\n",
       "      <td>0.016375</td>\n",
       "      <td>0.067361</td>\n",
       "      <td>0.859867</td>\n",
       "      <td>-1</td>\n",
       "    </tr>\n",
       "    <tr>\n",
       "      <th>1</th>\n",
       "      <td>1</td>\n",
       "      <td>0</td>\n",
       "      <td>1</td>\n",
       "      <td>0.005462</td>\n",
       "      <td>0.058756</td>\n",
       "      <td>0.922599</td>\n",
       "      <td>0.000025</td>\n",
       "      <td>-1</td>\n",
       "    </tr>\n",
       "    <tr>\n",
       "      <th>2</th>\n",
       "      <td>0</td>\n",
       "      <td>0</td>\n",
       "      <td>1</td>\n",
       "      <td>0.128593</td>\n",
       "      <td>0.074589</td>\n",
       "      <td>0.171554</td>\n",
       "      <td>0.000253</td>\n",
       "      <td>1</td>\n",
       "    </tr>\n",
       "    <tr>\n",
       "      <th>3</th>\n",
       "      <td>0</td>\n",
       "      <td>1</td>\n",
       "      <td>1</td>\n",
       "      <td>0.000006</td>\n",
       "      <td>0.003734</td>\n",
       "      <td>0.003554</td>\n",
       "      <td>0.991892</td>\n",
       "      <td>-1</td>\n",
       "    </tr>\n",
       "    <tr>\n",
       "      <th>4</th>\n",
       "      <td>0</td>\n",
       "      <td>1</td>\n",
       "      <td>1</td>\n",
       "      <td>0.000035</td>\n",
       "      <td>0.000077</td>\n",
       "      <td>0.000154</td>\n",
       "      <td>0.998665</td>\n",
       "      <td>-1</td>\n",
       "    </tr>\n",
       "  </tbody>\n",
       "</table>\n",
       "</div>"
      ],
      "text/plain": [
       "   Y  A  X1        X2        X3        X4        X5  match\n",
       "0  0  1   1  0.002340  0.016375  0.067361  0.859867     -1\n",
       "1  1  0   1  0.005462  0.058756  0.922599  0.000025     -1\n",
       "2  0  0   1  0.128593  0.074589  0.171554  0.000253      1\n",
       "3  0  1   1  0.000006  0.003734  0.003554  0.991892     -1\n",
       "4  0  1   1  0.000035  0.000077  0.000154  0.998665     -1"
      ]
     },
     "execution_count": 24,
     "metadata": {},
     "output_type": "execute_result"
    }
   ],
   "source": [
    "data.head()"
   ]
  },
  {
   "cell_type": "code",
   "execution_count": 36,
   "metadata": {},
   "outputs": [
    {
     "data": {
      "image/png": "[encoded data removed]",
      "text/plain": [
       "<Figure size 576x288 with 8 Axes>"
      ]
     },
     "metadata": {},
     "output_type": "display_data"
    }
   ],
   "source": [
    "f, (axs1, axs2) = plt.subplots(2, 4, figsize=(8,4), constrained_layout=True)\n",
    "\n",
    "for i in range(p-1):\n",
    "    axs1[i].hist(data.loc[data.match == 1, 'X' + str(i + 2)], 50, density=True)\n",
    "    axs1[i].set_xlabel('X' + str(i + 2))\n",
    "    axs2[i].hist(data.loc[data.match == -1, 'X' + str(i + 2)], 50, density=True)\n",
    "    axs2[i].set_xlabel('X' + str(i + 2))\n",
    "\n",
    "axs1[0].set_ylabel(\"matched data\")\n",
    "axs2[0].set_ylabel(\"unmatched data\")\n",
    "\n",
    "plt.savefig(\"yahoo_data.pdf\")"
   ]
  },
  {
   "cell_type": "code",
   "execution_count": 35,
   "metadata": {
    "ExecuteTime": {
     "end_time": "2019-03-29T19:52:05.931540Z",
     "start_time": "2019-03-29T19:52:05.874544Z"
    }
   },
   "outputs": [
    {
     "name": "stdout",
     "output_type": "stream",
     "text": [
      "Data used: 1933, data matched: 1000\n",
      "Parameter estimation:\n",
      "       estimate    s.e. [  95% Wald CI] t value P(>|t|)\n",
      "beta01  -1.7477  0.2345 -2.2073 -1.2880   -7.45  0.0000\n",
      "beta02  -0.1537  0.4295 -0.9955  0.6880   -0.36  0.7204\n",
      "beta03  -0.3163  0.3412 -0.9850  0.3523   -0.93  0.3540\n",
      "beta04  -0.3050  0.4193 -1.1269  0.5170   -0.73  0.4673\n",
      "beta05  -0.4878  0.2544 -0.9864  0.0108   -1.92  0.0555\n",
      "beta11  -1.8233  0.6647 -3.1261 -0.5206   -2.74  0.0062\n",
      "beta12  -0.1360  1.2642 -2.6139  2.3418   -0.11  0.9143\n",
      "beta13  -0.3756  0.8340 -2.0103  1.2592   -0.45  0.6526\n",
      "beta14  -0.2989  0.9989 -2.2568  1.6590   -0.30  0.7648\n",
      "beta15  -0.7293  0.6945 -2.0905  0.6319   -1.05  0.2939\n",
      "Value estimation:\n",
      "value    0.0344  0.0061  0.0225  0.0464    5.66  0.0000\n"
     ]
    }
   ],
   "source": [
    "from scipy.stats import t\n",
    "\n",
    "print('Data used: {}, data matched: {}'.format(sum(data.match != 0), YahooLogistic.step))\n",
    "print('Parameter estimation:')\n",
    "print(' ' * 7 + 'estimate    s.e. [  95% Wald CI] t value P(>|t|)')\n",
    "for i in [0,1]:\n",
    "    for j in range(p):\n",
    "        est = YahooLogistic.beta_bar[i * p + j]\n",
    "        se = YahooLogistic.se_hat[i * p + j]\n",
    "        lo = est - 1.96 * se\n",
    "        up = est + 1.96 * se\n",
    "        tv = est/se\n",
    "        pv = 2 * t.sf(abs(tv), YahooLogistic.step - 2 * p)\n",
    "        print('beta' + str(i) + str(j + 1) + \n",
    "              '{:9.4f}{:8.4f}{:8.4f}{:8.4f}{:8.2f}{:8.4f}'.format(est, se, lo, up, tv, pv))\n",
    "print('Value estimation:')\n",
    "print('value {:9.4f}{:8.4f}'.format(YahooLogistic.val_hat, YahooLogistic.vse_hat) + \n",
    "     '{:8.4f}{:8.4f}'.format(YahooLogistic.val_hat - 1.96 * YahooLogistic.vse_hat, \n",
    "                             YahooLogistic.val_hat + 1.96 * YahooLogistic.vse_hat) +\n",
    "     '{:8.2f}{:8.4f}'.format(YahooLogistic.val_hat/YahooLogistic.vse_hat, \n",
    "                             2 * t.sf(abs(YahooLogistic.val_hat/YahooLogistic.vse_hat), YahooLogistic.step - 2 * p)))\n",
    "# Output:\n",
    "# Data used: 405888, data matched: 203909\n",
    "# Parameter estimation:\n",
    "#        estimate    s.e. [  95% Wald CI]\n",
    "# beta01  -2.8226  0.0810 -2.9814 -2.6637\n",
    "# beta02  -0.4220  0.1498 -0.7155 -0.1285\n",
    "# beta03  -0.4022  0.1275 -0.6521 -0.1522\n",
    "# beta04   0.1689  0.1282 -0.0824  0.4202\n",
    "# beta05  -1.0909  0.1111 -1.3087 -0.8731\n",
    "# beta11  -2.6272  0.0354 -2.6965 -2.5578\n",
    "# beta12  -0.2787  0.0572 -0.3909 -0.1665\n",
    "# beta13  -0.3692  0.0498 -0.4668 -0.2717\n",
    "# beta14  -0.0562  0.0883 -0.2294  0.1170\n",
    "# beta15  -1.0890  0.0567 -1.2002 -0.9778\n",
    "# Value estimation:\n",
    "# value    0.0515  0.0005  0.0505  0.0525"
   ]
  },
  {
   "cell_type": "markdown",
   "metadata": {},
   "source": [
    "# Misc"
   ]
  },
  {
   "cell_type": "code",
   "execution_count": 21,
   "metadata": {
    "ExecuteTime": {
     "end_time": "2019-02-25T01:15:27.331511Z",
     "start_time": "2019-02-25T01:15:26.750508Z"
    }
   },
   "outputs": [
    {
     "data": {
      "image/png": "[encoded data removed]",
      "text/plain": [
       "<Figure size 864x432 with 6 Axes>"
      ]
     },
     "metadata": {},
     "output_type": "display_data"
    }
   ],
   "source": [
    "means = np.mean(beta_bar, axis = 0)\n",
    "sds = np.std(beta_bar, axis = 0)\n",
    "fig, axes = plt.subplots(nrows = 2, ncols = 3, figsize = (12, 6))\n",
    "for i, ax in enumerate(axes.flat):\n",
    "    n, bins, patches = ax.hist(beta_bar[:,i], 20, density = True)\n",
    "    ysd = ((1 / (np.sqrt(2 * np.pi) * sds[i])) *\n",
    "     np.exp(-0.5 * (1 / sds[i] * (bins - means[i]))**2))\n",
    "    ax.plot(bins, ysd, '--')"
   ]
  },
  {
   "cell_type": "code",
   "execution_count": 27,
   "metadata": {
    "ExecuteTime": {
     "end_time": "2019-02-25T01:19:41.833738Z",
     "start_time": "2019-02-25T01:19:41.829772Z"
    }
   },
   "outputs": [
    {
     "name": "stdout",
     "output_type": "stream",
     "text": [
      "MCSD           :  [0.078  0.1023 0.1025 0.1337 0.1589 0.1389]\n",
      "Avg Plugin SE  :  [0.0304 0.0343 0.0323 0.0282 0.0357 0.0375]\n",
      "Avg Resample SE:  [0.2077 0.2625 0.2546 0.2526 0.26   0.3089]\n"
     ]
    }
   ],
   "source": [
    "print('MCSD           : ', np.round(mcsd, 4))\n",
    "print('Avg Plugin SE  : ', np.round(plugin_se, 4))\n",
    "print('Avg Resample SE: ', np.round(resample_se, 4))"
   ]
  },
  {
   "cell_type": "code",
   "execution_count": 17,
   "metadata": {
    "ExecuteTime": {
     "end_time": "2019-02-18T21:20:06.774821Z",
     "start_time": "2019-02-18T21:20:06.644827Z"
    }
   },
   "outputs": [
    {
     "data": {
      "image/png": "[encoded data removed]",
      "text/plain": [
       "<Figure size 432x288 with 1 Axes>"
      ]
     },
     "metadata": {},
     "output_type": "display_data"
    }
   ],
   "source": [
    "fig = plt.figure()\n",
    "plt.plot(np.arange(0, T), loss_log)\n",
    "fig.suptitle(\"Training Loss\")\n",
    "plt.xlabel(\"Step #\")\n",
    "plt.ylabel(\"Loss\")\n",
    "plt.show()"
   ]
  },
  {
   "cell_type": "code",
   "execution_count": 12,
   "metadata": {
    "ExecuteTime": {
     "end_time": "2019-02-11T21:02:47.438283Z",
     "start_time": "2019-02-11T21:00:20.070293Z"
    }
   },
   "outputs": [],
   "source": [
    "beta_hat_MC = []\n",
    "for m in range(1000):\n",
    "    loss_log, beta_hat_log, data_log = LinearModel.SGD(T)\n",
    "    beta_hat_MC.append(beta_hat - beta_true)"
   ]
  },
  {
   "cell_type": "code",
   "execution_count": 13,
   "metadata": {
    "ExecuteTime": {
     "end_time": "2019-02-11T21:02:56.719316Z",
     "start_time": "2019-02-11T21:02:55.545292Z"
    }
   },
   "outputs": [
    {
     "data": {
      "image/png": "[encoded data removed]",
      "text/plain": [
       "<Figure size 864x432 with 6 Axes>"
      ]
     },
     "metadata": {},
     "output_type": "display_data"
    }
   ],
   "source": [
    "beta_hat_MC = np.asarray(beta_hatMC)\n",
    "means = np.mean(beta_hatMC, axis=0)\n",
    "sds = np.std(beta_hatMC, axis=0)\n",
    "fig, axes = plt.subplots(nrows=2, ncols=3, figsize=(12, 6))\n",
    "for i, ax in enumerate(axes.flat):\n",
    "    n, bins, patches = ax.hist(beta_hat_MC[:,i], 100)\n",
    "    y = ((1 / (np.sqrt(2 * np.pi) * sds[i])) *\n",
    "     np.exp(-0.5 * (1 / sds[i] * (bins - means[i]))**2))\n",
    "    ax.plot(bins, y, '--')"
   ]
  },
  {
   "cell_type": "code",
   "execution_count": 14,
   "metadata": {
    "ExecuteTime": {
     "end_time": "2019-02-11T21:05:51.272268Z",
     "start_time": "2019-02-11T21:03:13.539129Z"
    }
   },
   "outputs": [],
   "source": [
    "random.seed('odm')\n",
    "beta_hat_MC_sipwgd = []\n",
    "for m in range(1000):\n",
    "    _, beta_hat = LinearModel.SGD(T)\n",
    "    beta_hat_MC_sipwgd.append(beta_hat - beta_true)"
   ]
  },
  {
   "cell_type": "code",
   "execution_count": 15,
   "metadata": {
    "ExecuteTime": {
     "end_time": "2019-02-11T21:06:04.652301Z",
     "start_time": "2019-02-11T21:06:03.528271Z"
    }
   },
   "outputs": [
    {
     "data": {
      "image/png": "[encoded data removed]",
      "text/plain": [
       "<Figure size 864x432 with 6 Axes>"
      ]
     },
     "metadata": {},
     "output_type": "display_data"
    }
   ],
   "source": [
    "beta_hat_MC_sipwgd = np.asarray(beta_hat_MC_sipwgd)\n",
    "means = np.mean(beta_hat_MC_sipwgd, axis=0)\n",
    "sds = np.std(beta_hat_MC_sipwgd, axis=0)\n",
    "fig, axes = plt.subplots(nrows=2, ncols=3, figsize=(12, 6))\n",
    "for i, ax in enumerate(axes.flat):\n",
    "    n, bins, patches = ax.hist(beta_hat_MC_sipwgd[:,i], 100)\n",
    "    y = ((1 / (np.sqrt(2 * np.pi) * sds[i])) *\n",
    "     np.exp(-0.5 * (1 / sds[i] * (bins - means[i]))**2))\n",
    "    ax.plot(bins, y, '--')"
   ]
  },
  {
   "cell_type": "code",
   "execution_count": 19,
   "metadata": {
    "ExecuteTime": {
     "end_time": "2019-01-31T03:56:19.102399Z",
     "start_time": "2019-01-31T03:52:26.814405Z"
    }
   },
   "outputs": [],
   "source": [
    "beta_hat_MC = []\n",
    "for m in range(1000):\n",
    "    _, beta_hat = LogisticModel.SGD(T)\n",
    "    beta_hatMC.append(beta_hat - beta_true)"
   ]
  },
  {
   "cell_type": "code",
   "execution_count": 20,
   "metadata": {
    "ExecuteTime": {
     "end_time": "2019-01-31T03:56:20.832370Z",
     "start_time": "2019-01-31T03:56:19.716372Z"
    }
   },
   "outputs": [
    {
     "data": {
      "image/png": "[encoded data removed]",
      "text/plain": [
       "<Figure size 864x432 with 6 Axes>"
      ]
     },
     "metadata": {},
     "output_type": "display_data"
    }
   ],
   "source": [
    "beta_hat_MC = np.asarray(beta_hat_MC)\n",
    "means = np.mean(beta_hat_MC, axis=0)\n",
    "sds = np.std(beta_hat_MC, axis=0)\n",
    "fig, axes = plt.subplots(nrows=2, ncols=3, figsize=(12, 6))\n",
    "for i, ax in enumerate(axes.flat):\n",
    "    n, bins, patches = ax.hist(beta_hat_MC[:,i], 100)\n",
    "    y = ((1 / (np.sqrt(2 * np.pi) * sds[i])) *\n",
    "     np.exp(-0.5 * (1 / sds[i] * (bins - means[i]))**2))\n",
    "    ax.plot(bins, y, '--')"
   ]
  },
  {
   "cell_type": "code",
   "execution_count": 20,
   "metadata": {
    "ExecuteTime": {
     "end_time": "2019-02-11T21:10:06.689817Z",
     "start_time": "2019-02-11T21:09:54.575819Z"
    }
   },
   "outputs": [
    {
     "data": {
      "image/png": "[encoded data removed]",
      "text/plain": [
       "<Figure size 432x288 with 1 Axes>"
      ]
     },
     "metadata": {},
     "output_type": "display_data"
    }
   ],
   "source": [
    "random.seed('chy')\n",
    "T=100000\n",
    "\n",
    "loss_log, beta_hat_log = LogisticModel.SGD(T)\n",
    "\n",
    "fig = plt.figure()\n",
    "plt.plot(np.arange(0, T), lossLog)\n",
    "fig.suptitle(\"Training Loss\")\n",
    "plt.xlabel(\"Step #\")\n",
    "plt.ylabel(\"Loss\")\n",
    "plt.show()"
   ]
  },
  {
   "cell_type": "code",
   "execution_count": 16,
   "metadata": {
    "ExecuteTime": {
     "end_time": "2019-01-31T03:46:50.541121Z",
     "start_time": "2019-01-31T03:46:50.537119Z"
    }
   },
   "outputs": [
    {
     "data": {
      "text/plain": [
       "array([ 0.34903699, -0.13422294,  0.74818192,  0.82848765,  0.50994558,\n",
       "       -0.33408271])"
      ]
     },
     "execution_count": 16,
     "metadata": {},
     "output_type": "execute_result"
    }
   ],
   "source": [
    "beta_hat_log"
   ]
  },
  {
   "cell_type": "code",
   "execution_count": 19,
   "metadata": {
    "ExecuteTime": {
     "end_time": "2019-02-11T21:09:50.388332Z",
     "start_time": "2019-02-11T21:09:37.771334Z"
    }
   },
   "outputs": [
    {
     "data": {
      "image/png": "[encoded data removed]",
      "text/plain": [
       "<Figure size 432x288 with 1 Axes>"
      ]
     },
     "metadata": {},
     "output_type": "display_data"
    }
   ],
   "source": [
    "random.seed('chy')\n",
    "T=100000\n",
    "\n",
    "loss_log_sipwgd, beta_hat_log_sipwgd = LogisticModel.SIPWGD(T)\n",
    "\n",
    "fig = plt.figure()\n",
    "plt.plot(np.arange(0, T), loss_log_sipwgd)\n",
    "fig.suptitle(\"Training Loss\")\n",
    "plt.xlabel(\"Step #\")\n",
    "plt.ylabel(\"Loss\")\n",
    "plt.show()"
   ]
  },
  {
   "cell_type": "code",
   "execution_count": null,
   "metadata": {},
   "outputs": [],
   "source": []
  }
 ],
 "metadata": {
  "kernelspec": {
   "display_name": "Python 3",
   "language": "python",
   "name": "python3"
  },
  "language_info": {
   "codemirror_mode": {
    "name": "ipython",
    "version": 3
   },
   "file_extension": ".py",
   "mimetype": "text/x-python",
   "name": "python",
   "nbconvert_exporter": "python",
   "pygments_lexer": "ipython3",
   "version": "3.7.4"
  },
  "toc": {
   "base_numbering": 1,
   "nav_menu": {},
   "number_sections": true,
   "sideBar": true,
   "skip_h1_title": false,
   "title_cell": "Table of Contents",
   "title_sidebar": "Contents",
   "toc_cell": false,
   "toc_position": {
    "height": "calc(100% - 180px)",
    "left": "10px",
    "top": "150px",
    "width": "187px"
   },
   "toc_section_display": true,
   "toc_window_display": true
  },
  "varInspector": {
   "cols": {
    "lenName": 16,
    "lenType": 16,
    "lenVar": 40
   },
   "kernels_config": {
    "python": {
     "delete_cmd_postfix": "",
     "delete_cmd_prefix": "del ",
     "library": "var_list.py",
     "varRefreshCmd": "print(var_dic_list())"
    },
    "r": {
     "delete_cmd_postfix": ") ",
     "delete_cmd_prefix": "rm(",
     "library": "var_list.r",
     "varRefreshCmd": "cat(var_dic_list()) "
    }
   },
   "position": {
    "height": "623px",
    "left": "1174.99px",
    "right": "20px",
    "top": "127.974px",
    "width": "555px"
   },
   "types_to_exclude": [
    "module",
    "function",
    "builtin_function_or_method",
    "instance",
    "_Feature"
   ],
   "window_display": false
  }
 },
 "nbformat": 4,
 "nbformat_minor": 4
}
