{
 "cells": [
  {
   "cell_type": "code",
   "execution_count": 1,
   "metadata": {
    "ExecuteTime": {
     "end_time": "2019-02-19T02:02:49.871670Z",
     "start_time": "2019-02-19T02:02:49.640486Z"
    }
   },
   "outputs": [],
   "source": [
    "import numpy as np\n",
    "import matplotlib.pyplot as plt\n",
    "import random"
   ]
  },
  {
   "cell_type": "code",
   "execution_count": 2,
   "metadata": {
    "ExecuteTime": {
     "end_time": "2019-02-19T02:02:50.468249Z",
     "start_time": "2019-02-19T02:02:50.464248Z"
    }
   },
   "outputs": [],
   "source": [
    "p=3\n",
    "sigma = 0.1\n",
    "beta_true = [0.3, -0.1, 0.7, 0.8, 0.5, -0.4]\n",
    "#beta_true = [3, -1, 7, 8, 5, -4]"
   ]
  },
  {
   "cell_type": "code",
   "execution_count": 3,
   "metadata": {
    "ExecuteTime": {
     "end_time": "2019-02-19T02:02:51.020984Z",
     "start_time": "2019-02-19T02:02:51.016983Z"
    }
   },
   "outputs": [],
   "source": [
    "def u(A, X, beta):\n",
    "    return((1 - A) * X.dot(beta[:p]) + A * X.dot(beta[p:]))"
   ]
  },
  {
   "cell_type": "code",
   "execution_count": 4,
   "metadata": {
    "ExecuteTime": {
     "end_time": "2019-02-19T02:02:51.523351Z",
     "start_time": "2019-02-19T02:02:51.520351Z"
    }
   },
   "outputs": [],
   "source": [
    "def gu(A, X, beta):\n",
    "    return(np.vstack(((1 - A) * X.T, A * X.T)))"
   ]
  },
  {
   "cell_type": "code",
   "execution_count": 5,
   "metadata": {
    "ExecuteTime": {
     "end_time": "2019-02-19T02:02:52.797776Z",
     "start_time": "2019-02-19T02:02:52.794769Z"
    }
   },
   "outputs": [],
   "source": [
    "def logit(A, X, beta):\n",
    "    return(1/(1 + np.exp(-u(A, X, beta))))"
   ]
  },
  {
   "cell_type": "code",
   "execution_count": 6,
   "metadata": {
    "ExecuteTime": {
     "end_time": "2019-02-19T02:02:53.653191Z",
     "start_time": "2019-02-19T02:02:53.647190Z"
    }
   },
   "outputs": [],
   "source": [
    "def LinearGenerator(n=1, X=None, A=None, generate_Y=False):\n",
    "    if X is None:\n",
    "        X = np.random.normal(0, 1, n * (p - 1)).reshape(n, p - 1)\n",
    "        X = np.hstack((np.ones(n).reshape(n, 1), X))\n",
    "    else:\n",
    "        X = np.asarray(X).reshape(-1, p)\n",
    "        n = X.shape[0]\n",
    "    if not generate_Y:\n",
    "        return(X)\n",
    "    elif A is not None:\n",
    "        # if A not 0 or 1, raise error\n",
    "        Y = u(A, X, beta_true) + np.random.normal(0, sigma, n)\n",
    "        return((X, A, Y))\n",
    "    else:\n",
    "        Y0 = u(0, X, beta_true) + np.random.normal(0, sigma, n)\n",
    "        Y1 = u(1, X, beta_true) + np.random.normal(0, sigma, n)\n",
    "        Y = {'0': Y0, '1': Y1}\n",
    "        return((X, A, Y))"
   ]
  },
  {
   "cell_type": "code",
   "execution_count": 7,
   "metadata": {
    "ExecuteTime": {
     "end_time": "2019-02-19T02:02:55.790988Z",
     "start_time": "2019-02-19T02:02:55.785023Z"
    }
   },
   "outputs": [],
   "source": [
    "def LogisticGenerator(n=1, X=None, A=None, generate_Y=False):\n",
    "    if X is None:\n",
    "        X = np.random.normal(0, 1, n * (p - 1)).reshape(n, p - 1)\n",
    "        X = np.hstack((np.ones(n).reshape(n, 1), X))\n",
    "    else:\n",
    "        X = np.asarray(X).reshape(-1, p)\n",
    "        n = X.shape[0]\n",
    "    if not generate_Y:\n",
    "        return(X)\n",
    "    elif A is not None:\n",
    "        # if A not 0 or 1, raise error\n",
    "        # if size of A does not match X.shape[0], raise error\n",
    "        Y = np.random.binomial(1, logit(A, X, beta_true))\n",
    "        return((X, A, Y))\n",
    "    else:\n",
    "        Y0 = np.random.binomial(1, logit(0, X, beta_true))\n",
    "        Y1 = np.random.binomial(1, logit(1, X, beta_true))\n",
    "        Y = {'0': Y0, '1': Y1}\n",
    "        return((X, A, Y))"
   ]
  },
  {
   "cell_type": "code",
   "execution_count": 8,
   "metadata": {
    "ExecuteTime": {
     "end_time": "2019-02-19T02:02:56.621718Z",
     "start_time": "2019-02-19T02:02:56.616710Z"
    }
   },
   "outputs": [],
   "source": [
    "def Data2O(data):\n",
    "    # cannot handle len(data)=1\n",
    "    X, A, Y = zip(*data)\n",
    "    O = np.array(X).squeeze(), np.array(A), np.array(Y).squeeze()\n",
    "    return(O)"
   ]
  },
  {
   "cell_type": "code",
   "execution_count": 9,
   "metadata": {
    "ExecuteTime": {
     "end_time": "2019-02-19T02:02:58.772446Z",
     "start_time": "2019-02-19T02:02:58.768448Z"
    }
   },
   "outputs": [],
   "source": [
    "def O2Data(O):\n",
    "    X, A, Y = O\n",
    "    # cannot handle len(Y)=1\n",
    "    n = len(Y)\n",
    "    data = [(X[i], A[i], Y[i]) for i in range(n)]\n",
    "    return(data)"
   ]
  },
  {
   "cell_type": "code",
   "execution_count": 10,
   "metadata": {
    "ExecuteTime": {
     "end_time": "2019-02-19T02:02:59.661500Z",
     "start_time": "2019-02-19T02:02:59.655501Z"
    }
   },
   "outputs": [],
   "source": [
    "def MSELoss(beta, O, return_second_moment = False):\n",
    "    X, A, Y = O\n",
    "    n = X.shape[0]\n",
    "    e = u(A, X, beta) - Y\n",
    "    if not return_second_moment:\n",
    "        l = np.linalg.norm(e, 2)**2/(2 * n)\n",
    "        grad = np.dot(gu(A, X, beta), e)/n\n",
    "        return((l, grad))\n",
    "    else:\n",
    "        gu_v = gu(A, X, beta)\n",
    "        grad_v = gu_v * e\n",
    "        Sigma = grad_v.dot(grad_v.T)/n\n",
    "        Hessian = gu_v.dot(gu_v.T)/n\n",
    "        return((Sigma, Hessian))"
   ]
  },
  {
   "cell_type": "code",
   "execution_count": 11,
   "metadata": {
    "ExecuteTime": {
     "end_time": "2019-02-19T02:03:00.381511Z",
     "start_time": "2019-02-19T02:03:00.376512Z"
    }
   },
   "outputs": [],
   "source": [
    "def CELoss(beta, O):\n",
    "    X, A, Y = O\n",
    "    mu = logit(A, X, beta)\n",
    "    n = X.shape[0]\n",
    "    l = np.mean(-Y * np.log(mu) - (1 - Y) * np.log(1 - mu))\n",
    "    grad = np.dot(gu(A, X, beta), mu - Y)/n\n",
    "    return((l, grad))"
   ]
  },
  {
   "cell_type": "code",
   "execution_count": 19,
   "metadata": {
    "ExecuteTime": {
     "end_time": "2019-02-19T02:06:27.939172Z",
     "start_time": "2019-02-19T02:06:27.931162Z"
    }
   },
   "outputs": [],
   "source": [
    "class model:\n",
    "    def __init__(self, mu, generator, loss, lr, eps):\n",
    "        self.mu = mu\n",
    "        self.generator = generator\n",
    "        self.loss = loss\n",
    "        self.lr = lr\n",
    "        self.eps = eps\n",
    "        \n",
    "    def Initialize(self):\n",
    "        self.data = []\n",
    "        self.beta_hat = np.zeros(2 * p)\n",
    "        self.beta_bar = np.zeros(2 * p)\n",
    "        self.pi_hat = 1/2\n",
    "        self.step = 0\n",
    "    \n",
    "    def SGD(self, T, use_IPW = True):\n",
    "        beta_hat_log = []\n",
    "        loss_log = []\n",
    "        for t in range(self.step, self.step + T):\n",
    "            # observe X_t\n",
    "            X = self.generator()\n",
    "            # sample A_t from Bernoulli pi_hat\n",
    "            A = np.random.binomial(1, self.pi_hat)\n",
    "            # observe Y_t\n",
    "            O = self.generator(X = X, A = A, generate_Y = True)\n",
    "            # update beta_hat\n",
    "            learning_rate = self.lr(t + 1)\n",
    "            l, grad = self.loss(self.beta_hat, O)\n",
    "            if use_IPW:\n",
    "                grad *= (A/self.pi_hat + (1 - A)/(1 - self.pi_hat))/2\n",
    "            self.beta_hat -= learning_rate * grad\n",
    "            # update beta_bar\n",
    "            self.beta_bar = (self.beta_hat + t * self.beta_bar)/(t + 1)\n",
    "            # update pi_hat\n",
    "            epsilon = self.eps(t + 1)\n",
    "            d = int(self.mu(1, X, self.beta_bar) > self.mu(0, X, self.beta_bar))\n",
    "            self.pi_hat = (1 - epsilon) * d + epsilon/2\n",
    "            # log\n",
    "            self.data.append(O)\n",
    "            beta_hat_log.append(self.beta_hat.copy())\n",
    "            loss_log.append(l)\n",
    "        self.step = T\n",
    "        return((loss_log, beta_hat_log))\n",
    "    \n",
    "    def PluginParameterVariance(self):\n",
    "        beta = self.beta_hat # or beta_bar?\n",
    "        # data should be a list of Os\n",
    "        O = Data2O(self.data)\n",
    "        \n",
    "        gu_v = gu(A, X, beta)\n",
    "        grad_v = gu_v * e\n",
    "        Sigma = grad_v.dot(grad_v.T)/n\n",
    "        Hessian = gu_v.dot(gu_v.T)/n\n",
    "        return((Sigma, Hessian))\n",
    "        Sigma_hat, H_hat = self.loss(beta, O, return_second_moment = True)\n",
    "        H_hat_inv = np.linalg.inv(H_hat)\n",
    "        V_hat = np.dot(np.dot(H_hat_inv, Sigma_hat), H_hat_inv)\n",
    "        return(V_hat)"
   ]
  },
  {
   "cell_type": "code",
   "execution_count": 20,
   "metadata": {
    "ExecuteTime": {
     "end_time": "2019-02-19T02:06:29.707901Z",
     "start_time": "2019-02-19T02:06:29.700868Z"
    }
   },
   "outputs": [],
   "source": [
    "def lr1(t):\n",
    "    return(1 * t**(-0.9))\n",
    "def lr2(t):\n",
    "    return(0.01 * t**(-0.9))\n",
    "def lr3(t):\n",
    "    return(0.01)\n",
    "\n",
    "def eps(t):\n",
    "    if t < 20:\n",
    "        return(1)\n",
    "    else:\n",
    "        return(min(1, 0.1 * np.log(t)/np.sqrt(t)))\n",
    "\n",
    "LinearModel = model(mu = u, generator = LinearGenerator, loss = MSELoss,\n",
    "                   lr = lr1, eps = eps)\n",
    "LogisticModel = model(mu = logit, generator = LogisticGenerator, loss = CELoss,\n",
    "                     lr = lr3, eps = eps)"
   ]
  },
  {
   "cell_type": "code",
   "execution_count": 21,
   "metadata": {
    "ExecuteTime": {
     "end_time": "2019-02-19T02:06:31.168268Z",
     "start_time": "2019-02-19T02:06:31.162272Z"
    }
   },
   "outputs": [],
   "source": [
    "def MC(model, T, M):\n",
    "    beta_bar = np.empty((M, 2 * p))\n",
    "    beta_bar_se = np.empty((M, 2 * p))\n",
    "    for i in range(M):\n",
    "        model.Initialize()\n",
    "        _, __ = model.SGD(T)\n",
    "        V_hat = LinearModel.PluginParameterVariance()\n",
    "        beta_bar[i, :] = model.beta_bar\n",
    "        beta_bar_se[i, :] = np.sqrt(np.diag(V_hat))\n",
    "    avg_se = np.mean(beta_bar_se, axis = 0)\n",
    "    mcsd = np.std(beta_bar, axis = 0)\n",
    "    ratio = avg_se/mcsd\n",
    "    return(ratio)"
   ]
  },
  {
   "cell_type": "code",
   "execution_count": 22,
   "metadata": {
    "ExecuteTime": {
     "end_time": "2019-02-19T02:07:54.708310Z",
     "start_time": "2019-02-19T02:06:31.970283Z"
    }
   },
   "outputs": [
    {
     "data": {
      "text/plain": [
       "array([3.21866114, 2.56790663, 2.14953654, 3.22979149, 1.65592308,\n",
       "       2.16769827])"
      ]
     },
     "execution_count": 22,
     "metadata": {},
     "output_type": "execute_result"
    }
   ],
   "source": [
    "MC(LinearModel, 2000, 500)"
   ]
  },
  {
   "cell_type": "code",
   "execution_count": 25,
   "metadata": {
    "ExecuteTime": {
     "end_time": "2019-02-18T21:54:20.525324Z",
     "start_time": "2019-02-18T21:54:20.517329Z"
    }
   },
   "outputs": [
    {
     "data": {
      "text/plain": [
       "array([0.52641074, 0.73641938, 0.45249515, 0.13722225, 0.12448525,\n",
       "       0.12854873])"
      ]
     },
     "execution_count": 25,
     "metadata": {},
     "output_type": "execute_result"
    }
   ],
   "source": [
    "V_hat = LinearModel.PluginParameterVariance()\n",
    "np.sqrt(np.diag(V_hat))"
   ]
  },
  {
   "cell_type": "code",
   "execution_count": 17,
   "metadata": {
    "ExecuteTime": {
     "end_time": "2019-02-18T21:20:06.774821Z",
     "start_time": "2019-02-18T21:20:06.644827Z"
    }
   },
   "outputs": [
    {
     "data": {
      "image/png": "[encoded data removed]",
      "text/plain": [
       "<Figure size 432x288 with 1 Axes>"
      ]
     },
     "metadata": {},
     "output_type": "display_data"
    }
   ],
   "source": [
    "fig = plt.figure()\n",
    "plt.plot(np.arange(0, T), loss_log)\n",
    "fig.suptitle(\"Training Loss\")\n",
    "plt.xlabel(\"Step #\")\n",
    "plt.ylabel(\"Loss\")\n",
    "plt.show()"
   ]
  },
  {
   "cell_type": "code",
   "execution_count": 12,
   "metadata": {
    "ExecuteTime": {
     "end_time": "2019-02-11T21:02:47.438283Z",
     "start_time": "2019-02-11T21:00:20.070293Z"
    }
   },
   "outputs": [],
   "source": [
    "beta_hat_MC = []\n",
    "for m in range(1000):\n",
    "    loss_log, beta_hat_log, data_log = LinearModel.SGD(T)\n",
    "    beta_hat_MC.append(beta_hat - beta_true)"
   ]
  },
  {
   "cell_type": "code",
   "execution_count": 13,
   "metadata": {
    "ExecuteTime": {
     "end_time": "2019-02-11T21:02:56.719316Z",
     "start_time": "2019-02-11T21:02:55.545292Z"
    }
   },
   "outputs": [
    {
     "data": {
      "image/png": "[encoded data removed]",
      "text/plain": [
       "<Figure size 864x432 with 6 Axes>"
      ]
     },
     "metadata": {},
     "output_type": "display_data"
    }
   ],
   "source": [
    "beta_hat_MC = np.asarray(beta_hatMC)\n",
    "means = np.mean(beta_hatMC, axis=0)\n",
    "sds = np.std(beta_hatMC, axis=0)\n",
    "fig, axes = plt.subplots(nrows=2, ncols=3, figsize=(12, 6))\n",
    "for i, ax in enumerate(axes.flat):\n",
    "    n, bins, patches = ax.hist(beta_hat_MC[:,i], 100)\n",
    "    y = ((1 / (np.sqrt(2 * np.pi) * sds[i])) *\n",
    "     np.exp(-0.5 * (1 / sds[i] * (bins - means[i]))**2))\n",
    "    ax.plot(bins, y, '--')"
   ]
  },
  {
   "cell_type": "code",
   "execution_count": 14,
   "metadata": {
    "ExecuteTime": {
     "end_time": "2019-02-11T21:05:51.272268Z",
     "start_time": "2019-02-11T21:03:13.539129Z"
    }
   },
   "outputs": [],
   "source": [
    "random.seed('odm')\n",
    "beta_hat_MC_sipwgd = []\n",
    "for m in range(1000):\n",
    "    _, beta_hat = LinearModel.SGD(T)\n",
    "    beta_hat_MC_sipwgd.append(beta_hat - beta_true)"
   ]
  },
  {
   "cell_type": "code",
   "execution_count": 15,
   "metadata": {
    "ExecuteTime": {
     "end_time": "2019-02-11T21:06:04.652301Z",
     "start_time": "2019-02-11T21:06:03.528271Z"
    }
   },
   "outputs": [
    {
     "data": {
      "image/png": "[encoded data removed]",
      "text/plain": [
       "<Figure size 864x432 with 6 Axes>"
      ]
     },
     "metadata": {},
     "output_type": "display_data"
    }
   ],
   "source": [
    "beta_hat_MC_sipwgd = np.asarray(beta_hat_MC_sipwgd)\n",
    "means = np.mean(beta_hat_MC_sipwgd, axis=0)\n",
    "sds = np.std(beta_hat_MC_sipwgd, axis=0)\n",
    "fig, axes = plt.subplots(nrows=2, ncols=3, figsize=(12, 6))\n",
    "for i, ax in enumerate(axes.flat):\n",
    "    n, bins, patches = ax.hist(beta_hat_MC_sipwgd[:,i], 100)\n",
    "    y = ((1 / (np.sqrt(2 * np.pi) * sds[i])) *\n",
    "     np.exp(-0.5 * (1 / sds[i] * (bins - means[i]))**2))\n",
    "    ax.plot(bins, y, '--')"
   ]
  },
  {
   "cell_type": "code",
   "execution_count": 19,
   "metadata": {
    "ExecuteTime": {
     "end_time": "2019-01-31T03:56:19.102399Z",
     "start_time": "2019-01-31T03:52:26.814405Z"
    }
   },
   "outputs": [],
   "source": [
    "beta_hat_MC = []\n",
    "for m in range(1000):\n",
    "    _, beta_hat = LogisticModel.SGD(T)\n",
    "    beta_hatMC.append(beta_hat - beta_true)"
   ]
  },
  {
   "cell_type": "code",
   "execution_count": 20,
   "metadata": {
    "ExecuteTime": {
     "end_time": "2019-01-31T03:56:20.832370Z",
     "start_time": "2019-01-31T03:56:19.716372Z"
    }
   },
   "outputs": [
    {
     "data": {
      "image/png": "[encoded data removed]",
      "text/plain": [
       "<Figure size 864x432 with 6 Axes>"
      ]
     },
     "metadata": {},
     "output_type": "display_data"
    }
   ],
   "source": [
    "beta_hat_MC = np.asarray(beta_hat_MC)\n",
    "means = np.mean(beta_hat_MC, axis=0)\n",
    "sds = np.std(beta_hat_MC, axis=0)\n",
    "fig, axes = plt.subplots(nrows=2, ncols=3, figsize=(12, 6))\n",
    "for i, ax in enumerate(axes.flat):\n",
    "    n, bins, patches = ax.hist(beta_hat_MC[:,i], 100)\n",
    "    y = ((1 / (np.sqrt(2 * np.pi) * sds[i])) *\n",
    "     np.exp(-0.5 * (1 / sds[i] * (bins - means[i]))**2))\n",
    "    ax.plot(bins, y, '--')"
   ]
  },
  {
   "cell_type": "code",
   "execution_count": 20,
   "metadata": {
    "ExecuteTime": {
     "end_time": "2019-02-11T21:10:06.689817Z",
     "start_time": "2019-02-11T21:09:54.575819Z"
    }
   },
   "outputs": [
    {
     "data": {
      "image/png": "[encoded data removed]",
      "text/plain": [
       "<Figure size 432x288 with 1 Axes>"
      ]
     },
     "metadata": {},
     "output_type": "display_data"
    }
   ],
   "source": [
    "random.seed('chy')\n",
    "T=100000\n",
    "\n",
    "loss_log, beta_hat_log = LogisticModel.SGD(T)\n",
    "\n",
    "fig = plt.figure()\n",
    "plt.plot(np.arange(0, T), lossLog)\n",
    "fig.suptitle(\"Training Loss\")\n",
    "plt.xlabel(\"Step #\")\n",
    "plt.ylabel(\"Loss\")\n",
    "plt.show()"
   ]
  },
  {
   "cell_type": "code",
   "execution_count": 16,
   "metadata": {
    "ExecuteTime": {
     "end_time": "2019-01-31T03:46:50.541121Z",
     "start_time": "2019-01-31T03:46:50.537119Z"
    }
   },
   "outputs": [
    {
     "data": {
      "text/plain": [
       "array([ 0.34903699, -0.13422294,  0.74818192,  0.82848765,  0.50994558,\n",
       "       -0.33408271])"
      ]
     },
     "execution_count": 16,
     "metadata": {},
     "output_type": "execute_result"
    }
   ],
   "source": [
    "beta_hat_log"
   ]
  },
  {
   "cell_type": "code",
   "execution_count": 19,
   "metadata": {
    "ExecuteTime": {
     "end_time": "2019-02-11T21:09:50.388332Z",
     "start_time": "2019-02-11T21:09:37.771334Z"
    }
   },
   "outputs": [
    {
     "data": {
      "image/png": "[encoded data removed]",
      "text/plain": [
       "<Figure size 432x288 with 1 Axes>"
      ]
     },
     "metadata": {},
     "output_type": "display_data"
    }
   ],
   "source": [
    "random.seed('chy')\n",
    "T=100000\n",
    "\n",
    "loss_log_sipwgd, beta_hat_log_sipwgd = LogisticModel.SIPWGD(T)\n",
    "\n",
    "fig = plt.figure()\n",
    "plt.plot(np.arange(0, T), loss_log_sipwgd)\n",
    "fig.suptitle(\"Training Loss\")\n",
    "plt.xlabel(\"Step #\")\n",
    "plt.ylabel(\"Loss\")\n",
    "plt.show()"
   ]
  },
  {
   "cell_type": "code",
   "execution_count": null,
   "metadata": {},
   "outputs": [],
   "source": []
  }
 ],
 "metadata": {
  "kernelspec": {
   "display_name": "Python 3",
   "language": "python",
   "name": "python3"
  },
  "language_info": {
   "codemirror_mode": {
    "name": "ipython",
    "version": 3
   },
   "file_extension": ".py",
   "mimetype": "text/x-python",
   "name": "python",
   "nbconvert_exporter": "python",
   "pygments_lexer": "ipython3",
   "version": "3.6.5"
  },
  "toc": {
   "base_numbering": 1,
   "nav_menu": {},
   "number_sections": true,
   "sideBar": true,
   "skip_h1_title": false,
   "title_cell": "Table of Contents",
   "title_sidebar": "Contents",
   "toc_cell": false,
   "toc_position": {},
   "toc_section_display": true,
   "toc_window_display": false
  },
  "varInspector": {
   "cols": {
    "lenName": 16,
    "lenType": 16,
    "lenVar": 40
   },
   "kernels_config": {
    "python": {
     "delete_cmd_postfix": "",
     "delete_cmd_prefix": "del ",
     "library": "var_list.py",
     "varRefreshCmd": "print(var_dic_list())"
    },
    "r": {
     "delete_cmd_postfix": ") ",
     "delete_cmd_prefix": "rm(",
     "library": "var_list.r",
     "varRefreshCmd": "cat(var_dic_list()) "
    }
   },
   "position": {
    "height": "623px",
    "left": "1174.99px",
    "right": "20px",
    "top": "127.974px",
    "width": "555px"
   },
   "types_to_exclude": [
    "module",
    "function",
    "builtin_function_or_method",
    "instance",
    "_Feature"
   ],
   "window_display": false
  }
 },
 "nbformat": 4,
 "nbformat_minor": 2
}
